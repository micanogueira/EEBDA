{
 "cells": [
  {
   "cell_type": "markdown",
   "source": [
    "## Data import"
   ],
   "metadata": {
    "collapsed": false
   },
   "id": "c438af868c651639"
  },
  {
   "cell_type": "code",
   "execution_count": 1,
   "outputs": [],
   "source": [
    "import pandas as pd"
   ],
   "metadata": {
    "collapsed": false,
    "ExecuteTime": {
     "end_time": "2023-11-06T09:03:29.743532Z",
     "start_time": "2023-11-06T09:03:26.225252Z"
    }
   },
   "id": "initial_id"
  },
  {
   "cell_type": "code",
   "execution_count": 2,
   "outputs": [
    {
     "data": {
      "text/plain": "    Creditor_ID                    Firm            Street  HouseNr.  \\\n0             1           Workflow GmbH    Berlinerstraße        12   \n1             2    Consulting_solutions           Elysees        11   \n2             3  Consulting_regulations            Prugne        73   \n3             4            IT_Solutions  Maximilianstraße        11   \n4             5         Governance GmbH       Frankstraße        75   \n5             6    Business_Partnership    Rue de Grivats        60   \n6             7                   Clera           Chemin         59   \n7             8                  Carbon      Hornerstraße        52   \n8             9                Bon app'            Gouzol         2   \n9            10  Bottom-Dollar Marketse             Robin        51   \n10           11              Kraft GmbH     Theodorstraße        70   \n11           12                     EDF          de L'Est        14   \n12           13        Centro comercial             Curie        17   \n13           14       IFS international          Chauvais        39   \n14           15     Commercial Partners    Berlinerstraße        83   \n15           16                    ABBS         de Halage        24   \n16           17             Enterprise              Alier        50   \n17           18             Lovala GmbH         Zugstraße        42   \n18           19      Eastern Connection            Brules        31   \n19           20             Ernst Trade         Ferrieres        54   \n20           21          Work-flow_GmbH    Berlinerstraße        12   \n\n            City  Postcode  Country  \n0         Berlin     10115  Germany  \n1        Montord     33452   France  \n2         Cesset     24532   France  \n3         Munich     80331  Germany  \n4         Munich     80332  Germany  \n5           Lyon     53522   France  \n6          Paris     75000   France  \n7        Hamburg     20090  Germany  \n8        Beauron     67976   France  \n9           Lyon     53454   France  \n10    Deggendorf     94469  Germany  \n11     Marseille     78654   France  \n12  Saint Bonnet     54766   France  \n13       Bezenet     89459   France  \n14        Berlin     10342  Germany  \n15          Lyon     53868   France  \n16         Paris     75086   France  \n17        Berlin     10990  Germany  \n18       Maginer     54677   France  \n19    Puits Neuf     89653   France  \n20        Berlin     10115  Germany  ",
      "text/html": "<div>\n<style scoped>\n    .dataframe tbody tr th:only-of-type {\n        vertical-align: middle;\n    }\n\n    .dataframe tbody tr th {\n        vertical-align: top;\n    }\n\n    .dataframe thead th {\n        text-align: right;\n    }\n</style>\n<table border=\"1\" class=\"dataframe\">\n  <thead>\n    <tr style=\"text-align: right;\">\n      <th></th>\n      <th>Creditor_ID</th>\n      <th>Firm</th>\n      <th>Street</th>\n      <th>HouseNr.</th>\n      <th>City</th>\n      <th>Postcode</th>\n      <th>Country</th>\n    </tr>\n  </thead>\n  <tbody>\n    <tr>\n      <th>0</th>\n      <td>1</td>\n      <td>Workflow GmbH</td>\n      <td>Berlinerstraße</td>\n      <td>12</td>\n      <td>Berlin</td>\n      <td>10115</td>\n      <td>Germany</td>\n    </tr>\n    <tr>\n      <th>1</th>\n      <td>2</td>\n      <td>Consulting_solutions</td>\n      <td>Elysees</td>\n      <td>11</td>\n      <td>Montord</td>\n      <td>33452</td>\n      <td>France</td>\n    </tr>\n    <tr>\n      <th>2</th>\n      <td>3</td>\n      <td>Consulting_regulations</td>\n      <td>Prugne</td>\n      <td>73</td>\n      <td>Cesset</td>\n      <td>24532</td>\n      <td>France</td>\n    </tr>\n    <tr>\n      <th>3</th>\n      <td>4</td>\n      <td>IT_Solutions</td>\n      <td>Maximilianstraße</td>\n      <td>11</td>\n      <td>Munich</td>\n      <td>80331</td>\n      <td>Germany</td>\n    </tr>\n    <tr>\n      <th>4</th>\n      <td>5</td>\n      <td>Governance GmbH</td>\n      <td>Frankstraße</td>\n      <td>75</td>\n      <td>Munich</td>\n      <td>80332</td>\n      <td>Germany</td>\n    </tr>\n    <tr>\n      <th>5</th>\n      <td>6</td>\n      <td>Business_Partnership</td>\n      <td>Rue de Grivats</td>\n      <td>60</td>\n      <td>Lyon</td>\n      <td>53522</td>\n      <td>France</td>\n    </tr>\n    <tr>\n      <th>6</th>\n      <td>7</td>\n      <td>Clera</td>\n      <td>Chemin</td>\n      <td>59</td>\n      <td>Paris</td>\n      <td>75000</td>\n      <td>France</td>\n    </tr>\n    <tr>\n      <th>7</th>\n      <td>8</td>\n      <td>Carbon</td>\n      <td>Hornerstraße</td>\n      <td>52</td>\n      <td>Hamburg</td>\n      <td>20090</td>\n      <td>Germany</td>\n    </tr>\n    <tr>\n      <th>8</th>\n      <td>9</td>\n      <td>Bon app'</td>\n      <td>Gouzol</td>\n      <td>2</td>\n      <td>Beauron</td>\n      <td>67976</td>\n      <td>France</td>\n    </tr>\n    <tr>\n      <th>9</th>\n      <td>10</td>\n      <td>Bottom-Dollar Marketse</td>\n      <td>Robin</td>\n      <td>51</td>\n      <td>Lyon</td>\n      <td>53454</td>\n      <td>France</td>\n    </tr>\n    <tr>\n      <th>10</th>\n      <td>11</td>\n      <td>Kraft GmbH</td>\n      <td>Theodorstraße</td>\n      <td>70</td>\n      <td>Deggendorf</td>\n      <td>94469</td>\n      <td>Germany</td>\n    </tr>\n    <tr>\n      <th>11</th>\n      <td>12</td>\n      <td>EDF</td>\n      <td>de L'Est</td>\n      <td>14</td>\n      <td>Marseille</td>\n      <td>78654</td>\n      <td>France</td>\n    </tr>\n    <tr>\n      <th>12</th>\n      <td>13</td>\n      <td>Centro comercial</td>\n      <td>Curie</td>\n      <td>17</td>\n      <td>Saint Bonnet</td>\n      <td>54766</td>\n      <td>France</td>\n    </tr>\n    <tr>\n      <th>13</th>\n      <td>14</td>\n      <td>IFS international</td>\n      <td>Chauvais</td>\n      <td>39</td>\n      <td>Bezenet</td>\n      <td>89459</td>\n      <td>France</td>\n    </tr>\n    <tr>\n      <th>14</th>\n      <td>15</td>\n      <td>Commercial Partners</td>\n      <td>Berlinerstraße</td>\n      <td>83</td>\n      <td>Berlin</td>\n      <td>10342</td>\n      <td>Germany</td>\n    </tr>\n    <tr>\n      <th>15</th>\n      <td>16</td>\n      <td>ABBS</td>\n      <td>de Halage</td>\n      <td>24</td>\n      <td>Lyon</td>\n      <td>53868</td>\n      <td>France</td>\n    </tr>\n    <tr>\n      <th>16</th>\n      <td>17</td>\n      <td>Enterprise</td>\n      <td>Alier</td>\n      <td>50</td>\n      <td>Paris</td>\n      <td>75086</td>\n      <td>France</td>\n    </tr>\n    <tr>\n      <th>17</th>\n      <td>18</td>\n      <td>Lovala GmbH</td>\n      <td>Zugstraße</td>\n      <td>42</td>\n      <td>Berlin</td>\n      <td>10990</td>\n      <td>Germany</td>\n    </tr>\n    <tr>\n      <th>18</th>\n      <td>19</td>\n      <td>Eastern Connection</td>\n      <td>Brules</td>\n      <td>31</td>\n      <td>Maginer</td>\n      <td>54677</td>\n      <td>France</td>\n    </tr>\n    <tr>\n      <th>19</th>\n      <td>20</td>\n      <td>Ernst Trade</td>\n      <td>Ferrieres</td>\n      <td>54</td>\n      <td>Puits Neuf</td>\n      <td>89653</td>\n      <td>France</td>\n    </tr>\n    <tr>\n      <th>20</th>\n      <td>21</td>\n      <td>Work-flow_GmbH</td>\n      <td>Berlinerstraße</td>\n      <td>12</td>\n      <td>Berlin</td>\n      <td>10115</td>\n      <td>Germany</td>\n    </tr>\n  </tbody>\n</table>\n</div>"
     },
     "execution_count": 2,
     "metadata": {},
     "output_type": "execute_result"
    }
   ],
   "source": [
    "df_accounts_payable = pd.read_csv(\"case_auditing_data/case1_accountspayable.csv\", sep=\";\", encoding=\"UTF-8\")\n",
    "df_accounts_payable"
   ],
   "metadata": {
    "collapsed": false,
    "ExecuteTime": {
     "end_time": "2023-11-06T09:03:29.796372Z",
     "start_time": "2023-11-06T09:03:27.644912Z"
    }
   },
   "id": "bcd8e477996fede5"
  },
  {
   "cell_type": "code",
   "execution_count": 3,
   "outputs": [],
   "source": [
    "df_transactions = pd.read_csv(\"case_auditing_data/case1_transactions.csv\", sep=\";\", decimal=\",\", encoding=\"UTF-8\")\n",
    "\n",
    "df_accounts_receivable = pd.read_csv(\"case_auditing_data/case1_accountsreceivable.csv\", sep=\";\", encoding=\"UTF-8\")\n",
    "\n",
    "df_bank_accounts = pd.read_csv(\"case_auditing_data/case1_bankaccounts.csv\", sep=\";\", encoding=\"UTF-8\")"
   ],
   "metadata": {
    "collapsed": false,
    "ExecuteTime": {
     "end_time": "2023-11-06T09:03:29.797478Z",
     "start_time": "2023-11-06T09:03:27.684238Z"
    }
   },
   "id": "5690e151532f3200"
  },
  {
   "cell_type": "markdown",
   "source": [
    "## Exploratory Data Analysis"
   ],
   "metadata": {
    "collapsed": false
   },
   "id": "8bada32ce9626695"
  },
  {
   "cell_type": "code",
   "execution_count": 4,
   "outputs": [
    {
     "data": {
      "text/plain": "pandas.core.frame.DataFrame"
     },
     "execution_count": 4,
     "metadata": {},
     "output_type": "execute_result"
    }
   ],
   "source": [
    "type(df_accounts_payable)"
   ],
   "metadata": {
    "collapsed": false,
    "ExecuteTime": {
     "end_time": "2023-11-06T09:03:29.798654Z",
     "start_time": "2023-11-06T09:03:27.698806Z"
    }
   },
   "id": "fdc37e283cedb31b"
  },
  {
   "cell_type": "code",
   "execution_count": 5,
   "outputs": [
    {
     "data": {
      "text/plain": "   Creditor_ID                    Firm            Street  HouseNr.     City  \\\n0            1           Workflow GmbH    Berlinerstraße        12   Berlin   \n1            2    Consulting_solutions           Elysees        11  Montord   \n2            3  Consulting_regulations            Prugne        73   Cesset   \n3            4            IT_Solutions  Maximilianstraße        11   Munich   \n4            5         Governance GmbH       Frankstraße        75   Munich   \n\n   Postcode  Country  \n0     10115  Germany  \n1     33452   France  \n2     24532   France  \n3     80331  Germany  \n4     80332  Germany  ",
      "text/html": "<div>\n<style scoped>\n    .dataframe tbody tr th:only-of-type {\n        vertical-align: middle;\n    }\n\n    .dataframe tbody tr th {\n        vertical-align: top;\n    }\n\n    .dataframe thead th {\n        text-align: right;\n    }\n</style>\n<table border=\"1\" class=\"dataframe\">\n  <thead>\n    <tr style=\"text-align: right;\">\n      <th></th>\n      <th>Creditor_ID</th>\n      <th>Firm</th>\n      <th>Street</th>\n      <th>HouseNr.</th>\n      <th>City</th>\n      <th>Postcode</th>\n      <th>Country</th>\n    </tr>\n  </thead>\n  <tbody>\n    <tr>\n      <th>0</th>\n      <td>1</td>\n      <td>Workflow GmbH</td>\n      <td>Berlinerstraße</td>\n      <td>12</td>\n      <td>Berlin</td>\n      <td>10115</td>\n      <td>Germany</td>\n    </tr>\n    <tr>\n      <th>1</th>\n      <td>2</td>\n      <td>Consulting_solutions</td>\n      <td>Elysees</td>\n      <td>11</td>\n      <td>Montord</td>\n      <td>33452</td>\n      <td>France</td>\n    </tr>\n    <tr>\n      <th>2</th>\n      <td>3</td>\n      <td>Consulting_regulations</td>\n      <td>Prugne</td>\n      <td>73</td>\n      <td>Cesset</td>\n      <td>24532</td>\n      <td>France</td>\n    </tr>\n    <tr>\n      <th>3</th>\n      <td>4</td>\n      <td>IT_Solutions</td>\n      <td>Maximilianstraße</td>\n      <td>11</td>\n      <td>Munich</td>\n      <td>80331</td>\n      <td>Germany</td>\n    </tr>\n    <tr>\n      <th>4</th>\n      <td>5</td>\n      <td>Governance GmbH</td>\n      <td>Frankstraße</td>\n      <td>75</td>\n      <td>Munich</td>\n      <td>80332</td>\n      <td>Germany</td>\n    </tr>\n  </tbody>\n</table>\n</div>"
     },
     "execution_count": 5,
     "metadata": {},
     "output_type": "execute_result"
    }
   ],
   "source": [
    "df_accounts_payable.head(5)"
   ],
   "metadata": {
    "collapsed": false,
    "ExecuteTime": {
     "end_time": "2023-11-06T09:03:29.808397Z",
     "start_time": "2023-11-06T09:03:27.714159Z"
    }
   },
   "id": "9b9731a82256741d"
  },
  {
   "cell_type": "code",
   "execution_count": 6,
   "outputs": [
    {
     "data": {
      "text/plain": "       Creditor_ID   HouseNr.      Postcode\ncount    21.000000  21.000000     21.000000\nmean     11.000000  40.095238  53375.380952\nstd       6.204837  25.125495  29396.611579\nmin       1.000000   2.000000  10115.000000\n25%       6.000000  14.000000  24532.000000\n50%      11.000000  42.000000  54677.000000\n75%      16.000000  59.000000  78654.000000\nmax      21.000000  83.000000  94469.000000",
      "text/html": "<div>\n<style scoped>\n    .dataframe tbody tr th:only-of-type {\n        vertical-align: middle;\n    }\n\n    .dataframe tbody tr th {\n        vertical-align: top;\n    }\n\n    .dataframe thead th {\n        text-align: right;\n    }\n</style>\n<table border=\"1\" class=\"dataframe\">\n  <thead>\n    <tr style=\"text-align: right;\">\n      <th></th>\n      <th>Creditor_ID</th>\n      <th>HouseNr.</th>\n      <th>Postcode</th>\n    </tr>\n  </thead>\n  <tbody>\n    <tr>\n      <th>count</th>\n      <td>21.000000</td>\n      <td>21.000000</td>\n      <td>21.000000</td>\n    </tr>\n    <tr>\n      <th>mean</th>\n      <td>11.000000</td>\n      <td>40.095238</td>\n      <td>53375.380952</td>\n    </tr>\n    <tr>\n      <th>std</th>\n      <td>6.204837</td>\n      <td>25.125495</td>\n      <td>29396.611579</td>\n    </tr>\n    <tr>\n      <th>min</th>\n      <td>1.000000</td>\n      <td>2.000000</td>\n      <td>10115.000000</td>\n    </tr>\n    <tr>\n      <th>25%</th>\n      <td>6.000000</td>\n      <td>14.000000</td>\n      <td>24532.000000</td>\n    </tr>\n    <tr>\n      <th>50%</th>\n      <td>11.000000</td>\n      <td>42.000000</td>\n      <td>54677.000000</td>\n    </tr>\n    <tr>\n      <th>75%</th>\n      <td>16.000000</td>\n      <td>59.000000</td>\n      <td>78654.000000</td>\n    </tr>\n    <tr>\n      <th>max</th>\n      <td>21.000000</td>\n      <td>83.000000</td>\n      <td>94469.000000</td>\n    </tr>\n  </tbody>\n</table>\n</div>"
     },
     "execution_count": 6,
     "metadata": {},
     "output_type": "execute_result"
    }
   ],
   "source": [
    "df_accounts_payable.describe()  # for a summary of the data set"
   ],
   "metadata": {
    "collapsed": false,
    "ExecuteTime": {
     "end_time": "2023-11-06T09:03:29.811325Z",
     "start_time": "2023-11-06T09:03:27.738289Z"
    }
   },
   "id": "724feea99b3f7a80"
  },
  {
   "cell_type": "code",
   "execution_count": 7,
   "outputs": [
    {
     "name": "stdout",
     "output_type": "stream",
     "text": [
      "<class 'pandas.core.frame.DataFrame'>\n",
      "RangeIndex: 21 entries, 0 to 20\n",
      "Data columns (total 7 columns):\n",
      " #   Column       Non-Null Count  Dtype \n",
      "---  ------       --------------  ----- \n",
      " 0   Creditor_ID  21 non-null     int64 \n",
      " 1   Firm         21 non-null     object\n",
      " 2   Street       21 non-null     object\n",
      " 3   HouseNr.     21 non-null     int64 \n",
      " 4   City         21 non-null     object\n",
      " 5   Postcode     21 non-null     int64 \n",
      " 6   Country      21 non-null     object\n",
      "dtypes: int64(3), object(4)\n",
      "memory usage: 1.3+ KB\n"
     ]
    }
   ],
   "source": [
    "df_accounts_payable.info()"
   ],
   "metadata": {
    "collapsed": false,
    "ExecuteTime": {
     "end_time": "2023-11-06T09:03:29.826730Z",
     "start_time": "2023-11-06T09:03:27.765517Z"
    }
   },
   "id": "5447b19db8fb5f9c"
  },
  {
   "cell_type": "code",
   "execution_count": 8,
   "outputs": [
    {
     "data": {
      "text/plain": "(21, 7)"
     },
     "execution_count": 8,
     "metadata": {},
     "output_type": "execute_result"
    }
   ],
   "source": [
    "df_accounts_payable.shape"
   ],
   "metadata": {
    "collapsed": false,
    "ExecuteTime": {
     "end_time": "2023-11-06T09:03:29.830097Z",
     "start_time": "2023-11-06T09:03:27.775563Z"
    }
   },
   "id": "ebb51e1149e1f3f"
  },
  {
   "cell_type": "code",
   "execution_count": 9,
   "outputs": [
    {
     "data": {
      "text/plain": "Index(['Creditor_ID', 'Firm', 'Street', 'HouseNr.', 'City', 'Postcode',\n       'Country'],\n      dtype='object')"
     },
     "execution_count": 9,
     "metadata": {},
     "output_type": "execute_result"
    }
   ],
   "source": [
    "df_accounts_payable.columns"
   ],
   "metadata": {
    "collapsed": false,
    "ExecuteTime": {
     "end_time": "2023-11-06T09:03:29.842045Z",
     "start_time": "2023-11-06T09:03:27.792220Z"
    }
   },
   "id": "5e7122b0e141fdc"
  },
  {
   "cell_type": "code",
   "execution_count": 10,
   "outputs": [
    {
     "data": {
      "text/plain": "0        33.40\n1       122.00\n2        22.44\n3       182.40\n4       243.20\n        ...   \n102      22.44\n103      17.56\n104      49.99\n105    1123.00\n106      49.99\nName: Value, Length: 107, dtype: float64"
     },
     "execution_count": 10,
     "metadata": {},
     "output_type": "execute_result"
    }
   ],
   "source": [
    "df_transactions.Value"
   ],
   "metadata": {
    "collapsed": false,
    "ExecuteTime": {
     "end_time": "2023-11-06T09:03:29.844250Z",
     "start_time": "2023-11-06T09:03:27.803735Z"
    }
   },
   "id": "3acb1783e52ab525"
  },
  {
   "cell_type": "code",
   "execution_count": 11,
   "outputs": [
    {
     "data": {
      "text/plain": "    Bank_ID  Creditor_ID         Bankname CountryKey  VerifCode   BankKey  \\\n0         1            1        Sparkasse         DE         44  85708525   \n1         2            1        Sparkasse         DE         27  34010441   \n2         3            2             BGFI         FR         29  53954085   \n3         4            3             BGFI         FR         92  29603999   \n4         5            3    Banco Frances         FR         63  67849978   \n5         6            4  Hypovereinsbank         DE         68  26188756   \n6         7            4       Raiffeisen         DE         33  58846743   \n7         8            5        Sparkasse         DE         83  87524535   \n8         9            6    Banco Frances         FR         91  18824792   \n9        10            6    Banco Frances         FR         22  13305079   \n10       11            7             BGFI         FR         13  85075846   \n11       12            7             BGFI         FR         29  70190317   \n12       13            8  Hypovereinsbank         DE         90  24845261   \n13       14            9             BGFI         FR         66  80459903   \n14       15            9    Banco Frances         FR         71  49762129   \n15       16           10             BGFI         FR         58  36415266   \n16       17           10             BGFI         FR         92  63926808   \n17       18           11        Sparkasse         DE         63  26510366   \n18       19           12          Sofinco         FR         92  57035299   \n19       20           13    Banco Frances         FR         89  79220247   \n20       21           13             BGFI         FR         93  40728840   \n21       22           14          Sofinco         FR         34  80060105   \n22       23           15       Raiffeisen         DE         56  39224119   \n23       24           16    Banco Frances         FR         99  41150049   \n24       25           17    Banco Frances         FR         90  84916907   \n25       26           18        Sparkasse         DE         85  45334492   \n26       27           18        Sparkasse         DE         96  60663501   \n27       28           19             BGFI         FR         47  60328424   \n28       29           20    Banco Frances         FR         27  48333215   \n29       30           20          Sofinco         FR         31  99484170   \n30       31           21        Sparkasse         DE         44  85708525   \n\n   SectorCode   BankAccNr CheckDigit  \n0           -  9092573071          -  \n1           -  1517137596          -  \n2       12914       93097         31  \n3       98110       90295          6  \n4       16309       91904          9  \n5           -  4469843889          -  \n6           -  3216797033          -  \n7           -  3682779983          -  \n8       98919       56212         32  \n9       79522       53775         43  \n10      54792       88960         11  \n11      69438       94712          7  \n12          -  8397764642          -  \n13      82040       43218         23  \n14      41570       95263         53  \n15      48949       19441         22  \n16      85994       90345         13  \n17          -  8244966469          -  \n18      95952       97896         64  \n19      99687       82538         32  \n20      38057       38013         45  \n21      99476       67202         98  \n22          -  5199762534          -  \n23      36502       86586         23  \n24      41775       40186         45  \n25          -  7593477927          -  \n26          -  7263143170          -  \n27      60946       63401         24  \n28      55935       40680         12  \n29      48493       36238         45  \n30          -  9092573071          -  ",
      "text/html": "<div>\n<style scoped>\n    .dataframe tbody tr th:only-of-type {\n        vertical-align: middle;\n    }\n\n    .dataframe tbody tr th {\n        vertical-align: top;\n    }\n\n    .dataframe thead th {\n        text-align: right;\n    }\n</style>\n<table border=\"1\" class=\"dataframe\">\n  <thead>\n    <tr style=\"text-align: right;\">\n      <th></th>\n      <th>Bank_ID</th>\n      <th>Creditor_ID</th>\n      <th>Bankname</th>\n      <th>CountryKey</th>\n      <th>VerifCode</th>\n      <th>BankKey</th>\n      <th>SectorCode</th>\n      <th>BankAccNr</th>\n      <th>CheckDigit</th>\n    </tr>\n  </thead>\n  <tbody>\n    <tr>\n      <th>0</th>\n      <td>1</td>\n      <td>1</td>\n      <td>Sparkasse</td>\n      <td>DE</td>\n      <td>44</td>\n      <td>85708525</td>\n      <td>-</td>\n      <td>9092573071</td>\n      <td>-</td>\n    </tr>\n    <tr>\n      <th>1</th>\n      <td>2</td>\n      <td>1</td>\n      <td>Sparkasse</td>\n      <td>DE</td>\n      <td>27</td>\n      <td>34010441</td>\n      <td>-</td>\n      <td>1517137596</td>\n      <td>-</td>\n    </tr>\n    <tr>\n      <th>2</th>\n      <td>3</td>\n      <td>2</td>\n      <td>BGFI</td>\n      <td>FR</td>\n      <td>29</td>\n      <td>53954085</td>\n      <td>12914</td>\n      <td>93097</td>\n      <td>31</td>\n    </tr>\n    <tr>\n      <th>3</th>\n      <td>4</td>\n      <td>3</td>\n      <td>BGFI</td>\n      <td>FR</td>\n      <td>92</td>\n      <td>29603999</td>\n      <td>98110</td>\n      <td>90295</td>\n      <td>6</td>\n    </tr>\n    <tr>\n      <th>4</th>\n      <td>5</td>\n      <td>3</td>\n      <td>Banco Frances</td>\n      <td>FR</td>\n      <td>63</td>\n      <td>67849978</td>\n      <td>16309</td>\n      <td>91904</td>\n      <td>9</td>\n    </tr>\n    <tr>\n      <th>5</th>\n      <td>6</td>\n      <td>4</td>\n      <td>Hypovereinsbank</td>\n      <td>DE</td>\n      <td>68</td>\n      <td>26188756</td>\n      <td>-</td>\n      <td>4469843889</td>\n      <td>-</td>\n    </tr>\n    <tr>\n      <th>6</th>\n      <td>7</td>\n      <td>4</td>\n      <td>Raiffeisen</td>\n      <td>DE</td>\n      <td>33</td>\n      <td>58846743</td>\n      <td>-</td>\n      <td>3216797033</td>\n      <td>-</td>\n    </tr>\n    <tr>\n      <th>7</th>\n      <td>8</td>\n      <td>5</td>\n      <td>Sparkasse</td>\n      <td>DE</td>\n      <td>83</td>\n      <td>87524535</td>\n      <td>-</td>\n      <td>3682779983</td>\n      <td>-</td>\n    </tr>\n    <tr>\n      <th>8</th>\n      <td>9</td>\n      <td>6</td>\n      <td>Banco Frances</td>\n      <td>FR</td>\n      <td>91</td>\n      <td>18824792</td>\n      <td>98919</td>\n      <td>56212</td>\n      <td>32</td>\n    </tr>\n    <tr>\n      <th>9</th>\n      <td>10</td>\n      <td>6</td>\n      <td>Banco Frances</td>\n      <td>FR</td>\n      <td>22</td>\n      <td>13305079</td>\n      <td>79522</td>\n      <td>53775</td>\n      <td>43</td>\n    </tr>\n    <tr>\n      <th>10</th>\n      <td>11</td>\n      <td>7</td>\n      <td>BGFI</td>\n      <td>FR</td>\n      <td>13</td>\n      <td>85075846</td>\n      <td>54792</td>\n      <td>88960</td>\n      <td>11</td>\n    </tr>\n    <tr>\n      <th>11</th>\n      <td>12</td>\n      <td>7</td>\n      <td>BGFI</td>\n      <td>FR</td>\n      <td>29</td>\n      <td>70190317</td>\n      <td>69438</td>\n      <td>94712</td>\n      <td>7</td>\n    </tr>\n    <tr>\n      <th>12</th>\n      <td>13</td>\n      <td>8</td>\n      <td>Hypovereinsbank</td>\n      <td>DE</td>\n      <td>90</td>\n      <td>24845261</td>\n      <td>-</td>\n      <td>8397764642</td>\n      <td>-</td>\n    </tr>\n    <tr>\n      <th>13</th>\n      <td>14</td>\n      <td>9</td>\n      <td>BGFI</td>\n      <td>FR</td>\n      <td>66</td>\n      <td>80459903</td>\n      <td>82040</td>\n      <td>43218</td>\n      <td>23</td>\n    </tr>\n    <tr>\n      <th>14</th>\n      <td>15</td>\n      <td>9</td>\n      <td>Banco Frances</td>\n      <td>FR</td>\n      <td>71</td>\n      <td>49762129</td>\n      <td>41570</td>\n      <td>95263</td>\n      <td>53</td>\n    </tr>\n    <tr>\n      <th>15</th>\n      <td>16</td>\n      <td>10</td>\n      <td>BGFI</td>\n      <td>FR</td>\n      <td>58</td>\n      <td>36415266</td>\n      <td>48949</td>\n      <td>19441</td>\n      <td>22</td>\n    </tr>\n    <tr>\n      <th>16</th>\n      <td>17</td>\n      <td>10</td>\n      <td>BGFI</td>\n      <td>FR</td>\n      <td>92</td>\n      <td>63926808</td>\n      <td>85994</td>\n      <td>90345</td>\n      <td>13</td>\n    </tr>\n    <tr>\n      <th>17</th>\n      <td>18</td>\n      <td>11</td>\n      <td>Sparkasse</td>\n      <td>DE</td>\n      <td>63</td>\n      <td>26510366</td>\n      <td>-</td>\n      <td>8244966469</td>\n      <td>-</td>\n    </tr>\n    <tr>\n      <th>18</th>\n      <td>19</td>\n      <td>12</td>\n      <td>Sofinco</td>\n      <td>FR</td>\n      <td>92</td>\n      <td>57035299</td>\n      <td>95952</td>\n      <td>97896</td>\n      <td>64</td>\n    </tr>\n    <tr>\n      <th>19</th>\n      <td>20</td>\n      <td>13</td>\n      <td>Banco Frances</td>\n      <td>FR</td>\n      <td>89</td>\n      <td>79220247</td>\n      <td>99687</td>\n      <td>82538</td>\n      <td>32</td>\n    </tr>\n    <tr>\n      <th>20</th>\n      <td>21</td>\n      <td>13</td>\n      <td>BGFI</td>\n      <td>FR</td>\n      <td>93</td>\n      <td>40728840</td>\n      <td>38057</td>\n      <td>38013</td>\n      <td>45</td>\n    </tr>\n    <tr>\n      <th>21</th>\n      <td>22</td>\n      <td>14</td>\n      <td>Sofinco</td>\n      <td>FR</td>\n      <td>34</td>\n      <td>80060105</td>\n      <td>99476</td>\n      <td>67202</td>\n      <td>98</td>\n    </tr>\n    <tr>\n      <th>22</th>\n      <td>23</td>\n      <td>15</td>\n      <td>Raiffeisen</td>\n      <td>DE</td>\n      <td>56</td>\n      <td>39224119</td>\n      <td>-</td>\n      <td>5199762534</td>\n      <td>-</td>\n    </tr>\n    <tr>\n      <th>23</th>\n      <td>24</td>\n      <td>16</td>\n      <td>Banco Frances</td>\n      <td>FR</td>\n      <td>99</td>\n      <td>41150049</td>\n      <td>36502</td>\n      <td>86586</td>\n      <td>23</td>\n    </tr>\n    <tr>\n      <th>24</th>\n      <td>25</td>\n      <td>17</td>\n      <td>Banco Frances</td>\n      <td>FR</td>\n      <td>90</td>\n      <td>84916907</td>\n      <td>41775</td>\n      <td>40186</td>\n      <td>45</td>\n    </tr>\n    <tr>\n      <th>25</th>\n      <td>26</td>\n      <td>18</td>\n      <td>Sparkasse</td>\n      <td>DE</td>\n      <td>85</td>\n      <td>45334492</td>\n      <td>-</td>\n      <td>7593477927</td>\n      <td>-</td>\n    </tr>\n    <tr>\n      <th>26</th>\n      <td>27</td>\n      <td>18</td>\n      <td>Sparkasse</td>\n      <td>DE</td>\n      <td>96</td>\n      <td>60663501</td>\n      <td>-</td>\n      <td>7263143170</td>\n      <td>-</td>\n    </tr>\n    <tr>\n      <th>27</th>\n      <td>28</td>\n      <td>19</td>\n      <td>BGFI</td>\n      <td>FR</td>\n      <td>47</td>\n      <td>60328424</td>\n      <td>60946</td>\n      <td>63401</td>\n      <td>24</td>\n    </tr>\n    <tr>\n      <th>28</th>\n      <td>29</td>\n      <td>20</td>\n      <td>Banco Frances</td>\n      <td>FR</td>\n      <td>27</td>\n      <td>48333215</td>\n      <td>55935</td>\n      <td>40680</td>\n      <td>12</td>\n    </tr>\n    <tr>\n      <th>29</th>\n      <td>30</td>\n      <td>20</td>\n      <td>Sofinco</td>\n      <td>FR</td>\n      <td>31</td>\n      <td>99484170</td>\n      <td>48493</td>\n      <td>36238</td>\n      <td>45</td>\n    </tr>\n    <tr>\n      <th>30</th>\n      <td>31</td>\n      <td>21</td>\n      <td>Sparkasse</td>\n      <td>DE</td>\n      <td>44</td>\n      <td>85708525</td>\n      <td>-</td>\n      <td>9092573071</td>\n      <td>-</td>\n    </tr>\n  </tbody>\n</table>\n</div>"
     },
     "execution_count": 11,
     "metadata": {},
     "output_type": "execute_result"
    }
   ],
   "source": [
    "df_bank_accounts"
   ],
   "metadata": {
    "collapsed": false,
    "ExecuteTime": {
     "end_time": "2023-11-06T09:03:29.848944Z",
     "start_time": "2023-11-06T09:03:27.821751Z"
    }
   },
   "id": "d579180a83250a67"
  },
  {
   "cell_type": "code",
   "execution_count": 12,
   "outputs": [
    {
     "data": {
      "text/plain": "     Booking_ID Debitor_ID Creditor_ID Product_ID  AccNr_Debit  AccNr_Credit  \\\n0             1          3           -          8         1200          8000   \n1             2          5           -          4         1200          8000   \n2             3         18           -         10         1200          8000   \n3             4          9           -          5         1000          8000   \n4             5         18           -          5         1200          8000   \n..          ...        ...         ...        ...          ...           ...   \n102         103         19           -         10         1200          8000   \n103         104          6           -          2         1200          8000   \n104         105         11           -          6         1000          8000   \n105         106          6           -          1         1200          8000   \n106         107          3           -          6         1200          8000   \n\n       Value        Date   Time PaymentTarget Paid Reminders  \n0      33.40  01.01.2018  11:00    15.01.2018   no         1  \n1     122.00  01.01.2018  20:56    15.01.2018  yes         -  \n2      22.44  03.01.2018  17:31    17.01.2018  yes         -  \n3     182.40  04.01.2018  00:26             -  yes         -  \n4     243.20  04.01.2018  06:56    18.01.2018  yes         -  \n..       ...         ...    ...           ...  ...       ...  \n102    22.44  04.04.2018  22:39    18.04.2018  yes         -  \n103    17.56  05.04.2018  16:37    19.04.2018  yes         -  \n104    49.99  06.04.2018  00:08             -  yes         -  \n105  1123.00  07.04.2018  06:59    21.04.2018  yes         -  \n106    49.99  08.04.2018  08:20    22.04.2018  yes         -  \n\n[107 rows x 12 columns]",
      "text/html": "<div>\n<style scoped>\n    .dataframe tbody tr th:only-of-type {\n        vertical-align: middle;\n    }\n\n    .dataframe tbody tr th {\n        vertical-align: top;\n    }\n\n    .dataframe thead th {\n        text-align: right;\n    }\n</style>\n<table border=\"1\" class=\"dataframe\">\n  <thead>\n    <tr style=\"text-align: right;\">\n      <th></th>\n      <th>Booking_ID</th>\n      <th>Debitor_ID</th>\n      <th>Creditor_ID</th>\n      <th>Product_ID</th>\n      <th>AccNr_Debit</th>\n      <th>AccNr_Credit</th>\n      <th>Value</th>\n      <th>Date</th>\n      <th>Time</th>\n      <th>PaymentTarget</th>\n      <th>Paid</th>\n      <th>Reminders</th>\n    </tr>\n  </thead>\n  <tbody>\n    <tr>\n      <th>0</th>\n      <td>1</td>\n      <td>3</td>\n      <td>-</td>\n      <td>8</td>\n      <td>1200</td>\n      <td>8000</td>\n      <td>33.40</td>\n      <td>01.01.2018</td>\n      <td>11:00</td>\n      <td>15.01.2018</td>\n      <td>no</td>\n      <td>1</td>\n    </tr>\n    <tr>\n      <th>1</th>\n      <td>2</td>\n      <td>5</td>\n      <td>-</td>\n      <td>4</td>\n      <td>1200</td>\n      <td>8000</td>\n      <td>122.00</td>\n      <td>01.01.2018</td>\n      <td>20:56</td>\n      <td>15.01.2018</td>\n      <td>yes</td>\n      <td>-</td>\n    </tr>\n    <tr>\n      <th>2</th>\n      <td>3</td>\n      <td>18</td>\n      <td>-</td>\n      <td>10</td>\n      <td>1200</td>\n      <td>8000</td>\n      <td>22.44</td>\n      <td>03.01.2018</td>\n      <td>17:31</td>\n      <td>17.01.2018</td>\n      <td>yes</td>\n      <td>-</td>\n    </tr>\n    <tr>\n      <th>3</th>\n      <td>4</td>\n      <td>9</td>\n      <td>-</td>\n      <td>5</td>\n      <td>1000</td>\n      <td>8000</td>\n      <td>182.40</td>\n      <td>04.01.2018</td>\n      <td>00:26</td>\n      <td>-</td>\n      <td>yes</td>\n      <td>-</td>\n    </tr>\n    <tr>\n      <th>4</th>\n      <td>5</td>\n      <td>18</td>\n      <td>-</td>\n      <td>5</td>\n      <td>1200</td>\n      <td>8000</td>\n      <td>243.20</td>\n      <td>04.01.2018</td>\n      <td>06:56</td>\n      <td>18.01.2018</td>\n      <td>yes</td>\n      <td>-</td>\n    </tr>\n    <tr>\n      <th>...</th>\n      <td>...</td>\n      <td>...</td>\n      <td>...</td>\n      <td>...</td>\n      <td>...</td>\n      <td>...</td>\n      <td>...</td>\n      <td>...</td>\n      <td>...</td>\n      <td>...</td>\n      <td>...</td>\n      <td>...</td>\n    </tr>\n    <tr>\n      <th>102</th>\n      <td>103</td>\n      <td>19</td>\n      <td>-</td>\n      <td>10</td>\n      <td>1200</td>\n      <td>8000</td>\n      <td>22.44</td>\n      <td>04.04.2018</td>\n      <td>22:39</td>\n      <td>18.04.2018</td>\n      <td>yes</td>\n      <td>-</td>\n    </tr>\n    <tr>\n      <th>103</th>\n      <td>104</td>\n      <td>6</td>\n      <td>-</td>\n      <td>2</td>\n      <td>1200</td>\n      <td>8000</td>\n      <td>17.56</td>\n      <td>05.04.2018</td>\n      <td>16:37</td>\n      <td>19.04.2018</td>\n      <td>yes</td>\n      <td>-</td>\n    </tr>\n    <tr>\n      <th>104</th>\n      <td>105</td>\n      <td>11</td>\n      <td>-</td>\n      <td>6</td>\n      <td>1000</td>\n      <td>8000</td>\n      <td>49.99</td>\n      <td>06.04.2018</td>\n      <td>00:08</td>\n      <td>-</td>\n      <td>yes</td>\n      <td>-</td>\n    </tr>\n    <tr>\n      <th>105</th>\n      <td>106</td>\n      <td>6</td>\n      <td>-</td>\n      <td>1</td>\n      <td>1200</td>\n      <td>8000</td>\n      <td>1123.00</td>\n      <td>07.04.2018</td>\n      <td>06:59</td>\n      <td>21.04.2018</td>\n      <td>yes</td>\n      <td>-</td>\n    </tr>\n    <tr>\n      <th>106</th>\n      <td>107</td>\n      <td>3</td>\n      <td>-</td>\n      <td>6</td>\n      <td>1200</td>\n      <td>8000</td>\n      <td>49.99</td>\n      <td>08.04.2018</td>\n      <td>08:20</td>\n      <td>22.04.2018</td>\n      <td>yes</td>\n      <td>-</td>\n    </tr>\n  </tbody>\n</table>\n<p>107 rows × 12 columns</p>\n</div>"
     },
     "execution_count": 12,
     "metadata": {},
     "output_type": "execute_result"
    }
   ],
   "source": [
    "df_transactions"
   ],
   "metadata": {
    "collapsed": false,
    "ExecuteTime": {
     "end_time": "2023-11-06T09:03:29.854644Z",
     "start_time": "2023-11-06T09:03:27.858455Z"
    }
   },
   "id": "22ff77840fcc704e"
  },
  {
   "cell_type": "markdown",
   "source": [
    "## Data Preparation\n",
    "\n",
    "Data preparation is often the most complex process step in a BDA (Big Data Analytics) project, yet this step is skipped in many educational examples of digital data analysis. This section is intended to fill this gap and provide you with some basics on data preparation.\n",
    "\n",
    "> By using brackets '[]', we are creating a subset."
   ],
   "metadata": {
    "collapsed": false
   },
   "id": "68f9ee6d69ed01b4"
  },
  {
   "cell_type": "markdown",
   "source": [
    "### Conversion of data types"
   ],
   "metadata": {
    "collapsed": false
   },
   "id": "3d11d40b52b45534"
  },
  {
   "cell_type": "code",
   "execution_count": 13,
   "outputs": [
    {
     "data": {
      "text/plain": "dtype('O')"
     },
     "execution_count": 13,
     "metadata": {},
     "output_type": "execute_result"
    }
   ],
   "source": [
    "df_transactions[\"Date\"].dtypes"
   ],
   "metadata": {
    "collapsed": false,
    "ExecuteTime": {
     "end_time": "2023-11-06T09:03:29.856747Z",
     "start_time": "2023-11-06T09:03:27.867382Z"
    }
   },
   "id": "427923f11710c3c2"
  },
  {
   "cell_type": "code",
   "execution_count": 14,
   "outputs": [
    {
     "data": {
      "text/plain": "0      01.01.2018\n1      01.01.2018\n2      03.01.2018\n3      04.01.2018\n4      04.01.2018\n          ...    \n102    04.04.2018\n103    05.04.2018\n104    06.04.2018\n105    07.04.2018\n106    08.04.2018\nName: Date, Length: 107, dtype: object"
     },
     "execution_count": 14,
     "metadata": {},
     "output_type": "execute_result"
    }
   ],
   "source": [
    "df_transactions[\"Date\"]"
   ],
   "metadata": {
    "collapsed": false,
    "ExecuteTime": {
     "end_time": "2023-11-06T09:03:29.858530Z",
     "start_time": "2023-11-06T09:03:27.876931Z"
    }
   },
   "id": "a3fda617501718ff"
  },
  {
   "cell_type": "code",
   "execution_count": 15,
   "outputs": [
    {
     "data": {
      "text/plain": "0     2018-01-01\n1     2018-01-01\n2     2018-01-03\n3     2018-01-04\n4     2018-01-04\n         ...    \n102   2018-04-04\n103   2018-04-05\n104   2018-04-06\n105   2018-04-07\n106   2018-04-08\nName: Date, Length: 107, dtype: datetime64[ns]"
     },
     "execution_count": 15,
     "metadata": {},
     "output_type": "execute_result"
    }
   ],
   "source": [
    "# the variable 'Date' must be converted to the class of the same name\n",
    "\n",
    "df_transactions[\"Date\"] = pd.to_datetime(df_transactions[\"Date\"], format=\"%d.%m.%Y\")\n",
    "df_transactions[\"Date\"]"
   ],
   "metadata": {
    "collapsed": false,
    "ExecuteTime": {
     "end_time": "2023-11-06T09:03:29.861064Z",
     "start_time": "2023-11-06T09:03:27.890102Z"
    }
   },
   "id": "7d0d8f8e6d577026"
  },
  {
   "cell_type": "code",
   "execution_count": 16,
   "outputs": [
    {
     "data": {
      "text/plain": "0         Monday\n1         Monday\n2      Wednesday\n3       Thursday\n4       Thursday\n         ...    \n102    Wednesday\n103     Thursday\n104       Friday\n105     Saturday\n106       Sunday\nName: DayOfTheWeek, Length: 107, dtype: object"
     },
     "execution_count": 16,
     "metadata": {},
     "output_type": "execute_result"
    }
   ],
   "source": [
    "# additional column to assign the day of the week for the date\n",
    "\n",
    "df_transactions[\"DayOfTheWeek\"] = df_transactions[\"Date\"].dt.day_name() # this function converts a character string 14-03-2012 into a date\n",
    "df_transactions[\"DayOfTheWeek\"]"
   ],
   "metadata": {
    "collapsed": false,
    "ExecuteTime": {
     "end_time": "2023-11-06T09:03:29.864120Z",
     "start_time": "2023-11-06T09:03:27.895306Z"
    }
   },
   "id": "e262fb16852ee9b7"
  },
  {
   "cell_type": "code",
   "execution_count": 17,
   "outputs": [
    {
     "name": "stdout",
     "output_type": "stream",
     "text": [
      "<class 'pandas.core.frame.DataFrame'>\n",
      "RangeIndex: 107 entries, 0 to 106\n",
      "Data columns (total 13 columns):\n",
      " #   Column         Non-Null Count  Dtype         \n",
      "---  ------         --------------  -----         \n",
      " 0   Booking_ID     107 non-null    int64         \n",
      " 1   Debitor_ID     107 non-null    object        \n",
      " 2   Creditor_ID    107 non-null    object        \n",
      " 3   Product_ID     107 non-null    object        \n",
      " 4   AccNr_Debit    107 non-null    int64         \n",
      " 5   AccNr_Credit   107 non-null    int64         \n",
      " 6   Value          107 non-null    float64       \n",
      " 7   Date           107 non-null    datetime64[ns]\n",
      " 8   Time           107 non-null    object        \n",
      " 9   PaymentTarget  107 non-null    object        \n",
      " 10  Paid           107 non-null    object        \n",
      " 11  Reminders      107 non-null    object        \n",
      " 12  DayOfTheWeek   107 non-null    object        \n",
      "dtypes: datetime64[ns](1), float64(1), int64(3), object(8)\n",
      "memory usage: 11.0+ KB\n"
     ]
    }
   ],
   "source": [
    "df_transactions.info()"
   ],
   "metadata": {
    "collapsed": false,
    "ExecuteTime": {
     "end_time": "2023-11-06T09:03:29.865847Z",
     "start_time": "2023-11-06T09:03:27.912608Z"
    }
   },
   "id": "5d6380043af977fe"
  },
  {
   "cell_type": "code",
   "execution_count": 18,
   "outputs": [],
   "source": [
    "df_transactions[\"Reminders\"] = df_transactions[\"Reminders\"].replace(\"-\", \"0\") # replacing a string by another string"
   ],
   "metadata": {
    "collapsed": false,
    "ExecuteTime": {
     "end_time": "2023-11-06T09:03:29.866454Z",
     "start_time": "2023-11-06T09:03:27.929741Z"
    }
   },
   "id": "cafc602213204fc9"
  },
  {
   "cell_type": "code",
   "execution_count": 19,
   "outputs": [
    {
     "data": {
      "text/plain": "0    1\n1    0\n2    0\nName: Reminders, dtype: int64"
     },
     "execution_count": 19,
     "metadata": {},
     "output_type": "execute_result"
    }
   ],
   "source": [
    "df_transactions[\"Reminders\"] = df_transactions[\"Reminders\"].astype(str).astype(int)\n",
    "df_transactions[\"Reminders\"].head(3)"
   ],
   "metadata": {
    "collapsed": false,
    "ExecuteTime": {
     "end_time": "2023-11-06T09:03:29.867281Z",
     "start_time": "2023-11-06T09:03:27.938325Z"
    }
   },
   "id": "2b71b6691ccf6d46"
  },
  {
   "cell_type": "markdown",
   "source": [
    "### Filtering"
   ],
   "metadata": {
    "collapsed": false
   },
   "id": "3eadae7f234eaf1e"
  },
  {
   "cell_type": "code",
   "execution_count": 53,
   "outputs": [
    {
     "data": {
      "text/plain": "0      False\n1      False\n2      False\n3       True\n4      False\n       ...  \n102    False\n103    False\n104     True\n105    False\n106    False\nName: AccNr_Debit, Length: 107, dtype: bool"
     },
     "execution_count": 53,
     "metadata": {},
     "output_type": "execute_result"
    }
   ],
   "source": [
    "df_transactions.AccNr_Debit == 1000 # boolean result"
   ],
   "metadata": {
    "collapsed": false,
    "ExecuteTime": {
     "end_time": "2023-11-06T09:05:54.452002Z",
     "start_time": "2023-11-06T09:05:54.154749Z"
    }
   },
   "id": "27df1c5cba37ef6e"
  },
  {
   "cell_type": "code",
   "execution_count": 20,
   "outputs": [
    {
     "data": {
      "text/plain": "     Booking_ID Debitor_ID Creditor_ID Product_ID  AccNr_Debit  AccNr_Credit  \\\n3             4          9           -          5         1000          8000   \n5             6          -          11          -         5100          1000   \n6             7         13           -          5         1000          8000   \n9            10          -          11          -         5100          1000   \n13           14         18           -          1         1000          8000   \n19           20          -          11          -         5100          1000   \n21           22          2           -          8         1000          8000   \n24           25         11           -          2         1000          8000   \n33           34         10           -          9         1000          8000   \n40           41         15           -          7         1000          8000   \n41           42         11           -          6         1000          8000   \n42           43         19           -          4         1000          8000   \n43           44          4           -         10         1000          8000   \n45           46          -          11          -         5100          1000   \n54           55         20           -          7         1000          8000   \n62           63         17           -          7         1000          8000   \n68           69          -          11          -         5100          1000   \n76           77          9           -          5         1000          8000   \n78           79         14           -          1         1000          8000   \n79           80         17           -          6         1000          8000   \n80           81          8           -          6         1000          8000   \n82           83         18           -          4         1000          8000   \n95           96          -          11          -         5100          1000   \n104         105         11           -          6         1000          8000   \n\n       Value       Date   Time PaymentTarget Paid  Reminders DayOfTheWeek  \n3     182.40 2018-01-04  00:26             -  yes          0     Thursday  \n5     193.33 2018-01-05  13:14             -  yes          0       Friday  \n6     364.80 2018-01-06  10:57             -  yes          0     Saturday  \n9     245.56 2018-01-07  15:21             -  yes          0       Sunday  \n13   1123.12 2018-01-09  22:23             -  yes          0      Tuesday  \n19   1500.00 2018-01-14  16:33             -  yes          0       Sunday  \n21     33.40 2018-01-16  22:46             -  yes          0      Tuesday  \n24     17.56 2018-01-18  03:32             -  yes          0     Thursday  \n33      3.80 2018-01-28  16:24             -  yes          0       Sunday  \n40    846.60 2018-02-04  15:04             -  yes          0       Sunday  \n41     49.99 2018-02-05  15:58             -  yes          0       Monday  \n42    122.00 2018-02-06  03:41             -  yes          0      Tuesday  \n43     22.44 2018-02-07  15:16             -  yes          0    Wednesday  \n45    466.12 2018-02-09  08:44             -  yes          0       Friday  \n54    507.96 2018-02-17  19:58             -  yes          0     Saturday  \n62    507.96 2018-02-25  01:30             -  yes          0       Sunday  \n68    733.00 2018-03-02  15:29             -  yes          0       Friday  \n76   1307.20 2018-03-10  12:47             -  yes          0     Saturday  \n78   1123.00 2018-03-12  18:51             -  yes          0       Monday  \n79     49.99 2018-03-13  00:58             -  yes          0      Tuesday  \n80     49.99 2018-03-14  02:29             -  yes          0    Wednesday  \n82    122.00 2018-03-16  22:30             -  yes          0       Friday  \n95     17.40 2018-03-28  13:21             -  yes          0    Wednesday  \n104    49.99 2018-04-06  00:08             -  yes          0       Friday  ",
      "text/html": "<div>\n<style scoped>\n    .dataframe tbody tr th:only-of-type {\n        vertical-align: middle;\n    }\n\n    .dataframe tbody tr th {\n        vertical-align: top;\n    }\n\n    .dataframe thead th {\n        text-align: right;\n    }\n</style>\n<table border=\"1\" class=\"dataframe\">\n  <thead>\n    <tr style=\"text-align: right;\">\n      <th></th>\n      <th>Booking_ID</th>\n      <th>Debitor_ID</th>\n      <th>Creditor_ID</th>\n      <th>Product_ID</th>\n      <th>AccNr_Debit</th>\n      <th>AccNr_Credit</th>\n      <th>Value</th>\n      <th>Date</th>\n      <th>Time</th>\n      <th>PaymentTarget</th>\n      <th>Paid</th>\n      <th>Reminders</th>\n      <th>DayOfTheWeek</th>\n    </tr>\n  </thead>\n  <tbody>\n    <tr>\n      <th>3</th>\n      <td>4</td>\n      <td>9</td>\n      <td>-</td>\n      <td>5</td>\n      <td>1000</td>\n      <td>8000</td>\n      <td>182.40</td>\n      <td>2018-01-04</td>\n      <td>00:26</td>\n      <td>-</td>\n      <td>yes</td>\n      <td>0</td>\n      <td>Thursday</td>\n    </tr>\n    <tr>\n      <th>5</th>\n      <td>6</td>\n      <td>-</td>\n      <td>11</td>\n      <td>-</td>\n      <td>5100</td>\n      <td>1000</td>\n      <td>193.33</td>\n      <td>2018-01-05</td>\n      <td>13:14</td>\n      <td>-</td>\n      <td>yes</td>\n      <td>0</td>\n      <td>Friday</td>\n    </tr>\n    <tr>\n      <th>6</th>\n      <td>7</td>\n      <td>13</td>\n      <td>-</td>\n      <td>5</td>\n      <td>1000</td>\n      <td>8000</td>\n      <td>364.80</td>\n      <td>2018-01-06</td>\n      <td>10:57</td>\n      <td>-</td>\n      <td>yes</td>\n      <td>0</td>\n      <td>Saturday</td>\n    </tr>\n    <tr>\n      <th>9</th>\n      <td>10</td>\n      <td>-</td>\n      <td>11</td>\n      <td>-</td>\n      <td>5100</td>\n      <td>1000</td>\n      <td>245.56</td>\n      <td>2018-01-07</td>\n      <td>15:21</td>\n      <td>-</td>\n      <td>yes</td>\n      <td>0</td>\n      <td>Sunday</td>\n    </tr>\n    <tr>\n      <th>13</th>\n      <td>14</td>\n      <td>18</td>\n      <td>-</td>\n      <td>1</td>\n      <td>1000</td>\n      <td>8000</td>\n      <td>1123.12</td>\n      <td>2018-01-09</td>\n      <td>22:23</td>\n      <td>-</td>\n      <td>yes</td>\n      <td>0</td>\n      <td>Tuesday</td>\n    </tr>\n    <tr>\n      <th>19</th>\n      <td>20</td>\n      <td>-</td>\n      <td>11</td>\n      <td>-</td>\n      <td>5100</td>\n      <td>1000</td>\n      <td>1500.00</td>\n      <td>2018-01-14</td>\n      <td>16:33</td>\n      <td>-</td>\n      <td>yes</td>\n      <td>0</td>\n      <td>Sunday</td>\n    </tr>\n    <tr>\n      <th>21</th>\n      <td>22</td>\n      <td>2</td>\n      <td>-</td>\n      <td>8</td>\n      <td>1000</td>\n      <td>8000</td>\n      <td>33.40</td>\n      <td>2018-01-16</td>\n      <td>22:46</td>\n      <td>-</td>\n      <td>yes</td>\n      <td>0</td>\n      <td>Tuesday</td>\n    </tr>\n    <tr>\n      <th>24</th>\n      <td>25</td>\n      <td>11</td>\n      <td>-</td>\n      <td>2</td>\n      <td>1000</td>\n      <td>8000</td>\n      <td>17.56</td>\n      <td>2018-01-18</td>\n      <td>03:32</td>\n      <td>-</td>\n      <td>yes</td>\n      <td>0</td>\n      <td>Thursday</td>\n    </tr>\n    <tr>\n      <th>33</th>\n      <td>34</td>\n      <td>10</td>\n      <td>-</td>\n      <td>9</td>\n      <td>1000</td>\n      <td>8000</td>\n      <td>3.80</td>\n      <td>2018-01-28</td>\n      <td>16:24</td>\n      <td>-</td>\n      <td>yes</td>\n      <td>0</td>\n      <td>Sunday</td>\n    </tr>\n    <tr>\n      <th>40</th>\n      <td>41</td>\n      <td>15</td>\n      <td>-</td>\n      <td>7</td>\n      <td>1000</td>\n      <td>8000</td>\n      <td>846.60</td>\n      <td>2018-02-04</td>\n      <td>15:04</td>\n      <td>-</td>\n      <td>yes</td>\n      <td>0</td>\n      <td>Sunday</td>\n    </tr>\n    <tr>\n      <th>41</th>\n      <td>42</td>\n      <td>11</td>\n      <td>-</td>\n      <td>6</td>\n      <td>1000</td>\n      <td>8000</td>\n      <td>49.99</td>\n      <td>2018-02-05</td>\n      <td>15:58</td>\n      <td>-</td>\n      <td>yes</td>\n      <td>0</td>\n      <td>Monday</td>\n    </tr>\n    <tr>\n      <th>42</th>\n      <td>43</td>\n      <td>19</td>\n      <td>-</td>\n      <td>4</td>\n      <td>1000</td>\n      <td>8000</td>\n      <td>122.00</td>\n      <td>2018-02-06</td>\n      <td>03:41</td>\n      <td>-</td>\n      <td>yes</td>\n      <td>0</td>\n      <td>Tuesday</td>\n    </tr>\n    <tr>\n      <th>43</th>\n      <td>44</td>\n      <td>4</td>\n      <td>-</td>\n      <td>10</td>\n      <td>1000</td>\n      <td>8000</td>\n      <td>22.44</td>\n      <td>2018-02-07</td>\n      <td>15:16</td>\n      <td>-</td>\n      <td>yes</td>\n      <td>0</td>\n      <td>Wednesday</td>\n    </tr>\n    <tr>\n      <th>45</th>\n      <td>46</td>\n      <td>-</td>\n      <td>11</td>\n      <td>-</td>\n      <td>5100</td>\n      <td>1000</td>\n      <td>466.12</td>\n      <td>2018-02-09</td>\n      <td>08:44</td>\n      <td>-</td>\n      <td>yes</td>\n      <td>0</td>\n      <td>Friday</td>\n    </tr>\n    <tr>\n      <th>54</th>\n      <td>55</td>\n      <td>20</td>\n      <td>-</td>\n      <td>7</td>\n      <td>1000</td>\n      <td>8000</td>\n      <td>507.96</td>\n      <td>2018-02-17</td>\n      <td>19:58</td>\n      <td>-</td>\n      <td>yes</td>\n      <td>0</td>\n      <td>Saturday</td>\n    </tr>\n    <tr>\n      <th>62</th>\n      <td>63</td>\n      <td>17</td>\n      <td>-</td>\n      <td>7</td>\n      <td>1000</td>\n      <td>8000</td>\n      <td>507.96</td>\n      <td>2018-02-25</td>\n      <td>01:30</td>\n      <td>-</td>\n      <td>yes</td>\n      <td>0</td>\n      <td>Sunday</td>\n    </tr>\n    <tr>\n      <th>68</th>\n      <td>69</td>\n      <td>-</td>\n      <td>11</td>\n      <td>-</td>\n      <td>5100</td>\n      <td>1000</td>\n      <td>733.00</td>\n      <td>2018-03-02</td>\n      <td>15:29</td>\n      <td>-</td>\n      <td>yes</td>\n      <td>0</td>\n      <td>Friday</td>\n    </tr>\n    <tr>\n      <th>76</th>\n      <td>77</td>\n      <td>9</td>\n      <td>-</td>\n      <td>5</td>\n      <td>1000</td>\n      <td>8000</td>\n      <td>1307.20</td>\n      <td>2018-03-10</td>\n      <td>12:47</td>\n      <td>-</td>\n      <td>yes</td>\n      <td>0</td>\n      <td>Saturday</td>\n    </tr>\n    <tr>\n      <th>78</th>\n      <td>79</td>\n      <td>14</td>\n      <td>-</td>\n      <td>1</td>\n      <td>1000</td>\n      <td>8000</td>\n      <td>1123.00</td>\n      <td>2018-03-12</td>\n      <td>18:51</td>\n      <td>-</td>\n      <td>yes</td>\n      <td>0</td>\n      <td>Monday</td>\n    </tr>\n    <tr>\n      <th>79</th>\n      <td>80</td>\n      <td>17</td>\n      <td>-</td>\n      <td>6</td>\n      <td>1000</td>\n      <td>8000</td>\n      <td>49.99</td>\n      <td>2018-03-13</td>\n      <td>00:58</td>\n      <td>-</td>\n      <td>yes</td>\n      <td>0</td>\n      <td>Tuesday</td>\n    </tr>\n    <tr>\n      <th>80</th>\n      <td>81</td>\n      <td>8</td>\n      <td>-</td>\n      <td>6</td>\n      <td>1000</td>\n      <td>8000</td>\n      <td>49.99</td>\n      <td>2018-03-14</td>\n      <td>02:29</td>\n      <td>-</td>\n      <td>yes</td>\n      <td>0</td>\n      <td>Wednesday</td>\n    </tr>\n    <tr>\n      <th>82</th>\n      <td>83</td>\n      <td>18</td>\n      <td>-</td>\n      <td>4</td>\n      <td>1000</td>\n      <td>8000</td>\n      <td>122.00</td>\n      <td>2018-03-16</td>\n      <td>22:30</td>\n      <td>-</td>\n      <td>yes</td>\n      <td>0</td>\n      <td>Friday</td>\n    </tr>\n    <tr>\n      <th>95</th>\n      <td>96</td>\n      <td>-</td>\n      <td>11</td>\n      <td>-</td>\n      <td>5100</td>\n      <td>1000</td>\n      <td>17.40</td>\n      <td>2018-03-28</td>\n      <td>13:21</td>\n      <td>-</td>\n      <td>yes</td>\n      <td>0</td>\n      <td>Wednesday</td>\n    </tr>\n    <tr>\n      <th>104</th>\n      <td>105</td>\n      <td>11</td>\n      <td>-</td>\n      <td>6</td>\n      <td>1000</td>\n      <td>8000</td>\n      <td>49.99</td>\n      <td>2018-04-06</td>\n      <td>00:08</td>\n      <td>-</td>\n      <td>yes</td>\n      <td>0</td>\n      <td>Friday</td>\n    </tr>\n  </tbody>\n</table>\n</div>"
     },
     "execution_count": 20,
     "metadata": {},
     "output_type": "execute_result"
    }
   ],
   "source": [
    "# postings that are not part of the cash account (number 1000) must be eliminated from the data set\n",
    "\n",
    "df_cash_book = df_transactions[(df_transactions.AccNr_Debit == 1000) | (df_transactions.AccNr_Credit == 1000)]\n",
    "df_cash_book"
   ],
   "metadata": {
    "collapsed": false,
    "ExecuteTime": {
     "end_time": "2023-11-06T09:03:29.870071Z",
     "start_time": "2023-11-06T09:03:27.946126Z"
    }
   },
   "id": "fe0ee3d4e8ef437b"
  },
  {
   "cell_type": "code",
   "execution_count": 27,
   "outputs": [
    {
     "data": {
      "text/plain": "     Booking_ID Debitor_ID Creditor_ID Product_ID  AccNr_Debit  AccNr_Credit  \\\n3             4          9           -          5         1000          8000   \n8             9          -          18          -         3200          1600   \n13           14         18           -          1         1000          8000   \n21           22          2           -          8         1000          8000   \n24           25         11           -          2         1000          8000   \n28           29          -          18          -         3200          1600   \n29           30          -           3          -         3200          1600   \n35           36          -           4          -         3200          1600   \n36           37          -           8          -         3200          1600   \n38           39          -          18          -         3200          1600   \n39           40         19           -          3         1200          8000   \n42           43         19           -          4         1000          8000   \n53           54          -          16          -         3200          1600   \n55           56          2           -          8         1200          8000   \n62           63         17           -          7         1000          8000   \n65           66          9           -          3         1200          8000   \n69           70          -          14          -         3200          1600   \n73           74          -           6          -         3200          1600   \n74           75          -          20          -         3200          1600   \n77           78          3           -          4         1200          8000   \n79           80         17           -          6         1000          8000   \n80           81          8           -          6         1000          8000   \n81           82          6           -         10         1200          8000   \n82           83         18           -          4         1000          8000   \n86           87         14           -          6         1200          8000   \n98           99          6           -          7         1200          8000   \n99          100         13           -          2         1200          8000   \n102         103         19           -         10         1200          8000   \n104         105         11           -          6         1000          8000   \n\n        Value       Date   Time PaymentTarget Paid  Reminders DayOfTheWeek  \n3      182.40 2018-01-04  00:26             -  yes          0     Thursday  \n8     3231.00 2018-01-06  23:06    20.01.2018  yes          0     Saturday  \n13    1123.12 2018-01-09  22:23             -  yes          0      Tuesday  \n21      33.40 2018-01-16  22:46             -  yes          0      Tuesday  \n24      17.56 2018-01-18  03:32             -  yes          0     Thursday  \n28     452.00 2018-01-22  00:18    05.02.2018  yes          0       Monday  \n29    1452.20 2018-01-24  03:00    07.02.2018   no          0    Wednesday  \n35    5312.00 2018-01-30  22:03    13.02.2018  yes          0      Tuesday  \n36      43.11 2018-01-31  22:06             -  yes          0    Wednesday  \n38     521.31 2018-02-02  00:53    16.02.2018  yes          0       Friday  \n39      76.00 2018-02-03  01:04    17.02.2018  yes          0     Saturday  \n42     122.00 2018-02-06  03:41             -  yes          0      Tuesday  \n53   53212.00 2018-02-16  00:24    02.03.2018  yes          0       Friday  \n55      33.40 2018-02-18  01:22    04.03.2018  yes          0       Sunday  \n62     507.96 2018-02-25  01:30             -  yes          0       Sunday  \n65      76.00 2018-02-28  01:21    14.03.2018  yes          0    Wednesday  \n69    8765.40 2018-03-03  03:54    17.03.2018  yes          0     Saturday  \n73    5673.24 2018-03-07  23:46    21.03.2018  yes          0    Wednesday  \n74   63452.60 2018-03-08  23:18             -  yes          0     Thursday  \n77     122.00 2018-03-11  23:19    25.03.2018  yes          0       Sunday  \n79      49.99 2018-03-13  00:58             -  yes          0      Tuesday  \n80      49.99 2018-03-14  02:29             -  yes          0    Wednesday  \n81      22.44 2018-03-15  22:56    29.03.2018   no          3     Thursday  \n82     122.00 2018-03-16  22:30             -  yes          0       Friday  \n86      49.99 2018-03-20  03:10    03.04.2018  yes          0      Tuesday  \n98     126.99 2018-03-31  01:59    14.04.2018  yes          0     Saturday  \n99      17.56 2018-04-01  02:52    15.04.2018   no          0       Sunday  \n102     22.44 2018-04-04  22:39    18.04.2018  yes          0    Wednesday  \n104     49.99 2018-04-06  00:08             -  yes          0       Friday  ",
      "text/html": "<div>\n<style scoped>\n    .dataframe tbody tr th:only-of-type {\n        vertical-align: middle;\n    }\n\n    .dataframe tbody tr th {\n        vertical-align: top;\n    }\n\n    .dataframe thead th {\n        text-align: right;\n    }\n</style>\n<table border=\"1\" class=\"dataframe\">\n  <thead>\n    <tr style=\"text-align: right;\">\n      <th></th>\n      <th>Booking_ID</th>\n      <th>Debitor_ID</th>\n      <th>Creditor_ID</th>\n      <th>Product_ID</th>\n      <th>AccNr_Debit</th>\n      <th>AccNr_Credit</th>\n      <th>Value</th>\n      <th>Date</th>\n      <th>Time</th>\n      <th>PaymentTarget</th>\n      <th>Paid</th>\n      <th>Reminders</th>\n      <th>DayOfTheWeek</th>\n    </tr>\n  </thead>\n  <tbody>\n    <tr>\n      <th>3</th>\n      <td>4</td>\n      <td>9</td>\n      <td>-</td>\n      <td>5</td>\n      <td>1000</td>\n      <td>8000</td>\n      <td>182.40</td>\n      <td>2018-01-04</td>\n      <td>00:26</td>\n      <td>-</td>\n      <td>yes</td>\n      <td>0</td>\n      <td>Thursday</td>\n    </tr>\n    <tr>\n      <th>8</th>\n      <td>9</td>\n      <td>-</td>\n      <td>18</td>\n      <td>-</td>\n      <td>3200</td>\n      <td>1600</td>\n      <td>3231.00</td>\n      <td>2018-01-06</td>\n      <td>23:06</td>\n      <td>20.01.2018</td>\n      <td>yes</td>\n      <td>0</td>\n      <td>Saturday</td>\n    </tr>\n    <tr>\n      <th>13</th>\n      <td>14</td>\n      <td>18</td>\n      <td>-</td>\n      <td>1</td>\n      <td>1000</td>\n      <td>8000</td>\n      <td>1123.12</td>\n      <td>2018-01-09</td>\n      <td>22:23</td>\n      <td>-</td>\n      <td>yes</td>\n      <td>0</td>\n      <td>Tuesday</td>\n    </tr>\n    <tr>\n      <th>21</th>\n      <td>22</td>\n      <td>2</td>\n      <td>-</td>\n      <td>8</td>\n      <td>1000</td>\n      <td>8000</td>\n      <td>33.40</td>\n      <td>2018-01-16</td>\n      <td>22:46</td>\n      <td>-</td>\n      <td>yes</td>\n      <td>0</td>\n      <td>Tuesday</td>\n    </tr>\n    <tr>\n      <th>24</th>\n      <td>25</td>\n      <td>11</td>\n      <td>-</td>\n      <td>2</td>\n      <td>1000</td>\n      <td>8000</td>\n      <td>17.56</td>\n      <td>2018-01-18</td>\n      <td>03:32</td>\n      <td>-</td>\n      <td>yes</td>\n      <td>0</td>\n      <td>Thursday</td>\n    </tr>\n    <tr>\n      <th>28</th>\n      <td>29</td>\n      <td>-</td>\n      <td>18</td>\n      <td>-</td>\n      <td>3200</td>\n      <td>1600</td>\n      <td>452.00</td>\n      <td>2018-01-22</td>\n      <td>00:18</td>\n      <td>05.02.2018</td>\n      <td>yes</td>\n      <td>0</td>\n      <td>Monday</td>\n    </tr>\n    <tr>\n      <th>29</th>\n      <td>30</td>\n      <td>-</td>\n      <td>3</td>\n      <td>-</td>\n      <td>3200</td>\n      <td>1600</td>\n      <td>1452.20</td>\n      <td>2018-01-24</td>\n      <td>03:00</td>\n      <td>07.02.2018</td>\n      <td>no</td>\n      <td>0</td>\n      <td>Wednesday</td>\n    </tr>\n    <tr>\n      <th>35</th>\n      <td>36</td>\n      <td>-</td>\n      <td>4</td>\n      <td>-</td>\n      <td>3200</td>\n      <td>1600</td>\n      <td>5312.00</td>\n      <td>2018-01-30</td>\n      <td>22:03</td>\n      <td>13.02.2018</td>\n      <td>yes</td>\n      <td>0</td>\n      <td>Tuesday</td>\n    </tr>\n    <tr>\n      <th>36</th>\n      <td>37</td>\n      <td>-</td>\n      <td>8</td>\n      <td>-</td>\n      <td>3200</td>\n      <td>1600</td>\n      <td>43.11</td>\n      <td>2018-01-31</td>\n      <td>22:06</td>\n      <td>-</td>\n      <td>yes</td>\n      <td>0</td>\n      <td>Wednesday</td>\n    </tr>\n    <tr>\n      <th>38</th>\n      <td>39</td>\n      <td>-</td>\n      <td>18</td>\n      <td>-</td>\n      <td>3200</td>\n      <td>1600</td>\n      <td>521.31</td>\n      <td>2018-02-02</td>\n      <td>00:53</td>\n      <td>16.02.2018</td>\n      <td>yes</td>\n      <td>0</td>\n      <td>Friday</td>\n    </tr>\n    <tr>\n      <th>39</th>\n      <td>40</td>\n      <td>19</td>\n      <td>-</td>\n      <td>3</td>\n      <td>1200</td>\n      <td>8000</td>\n      <td>76.00</td>\n      <td>2018-02-03</td>\n      <td>01:04</td>\n      <td>17.02.2018</td>\n      <td>yes</td>\n      <td>0</td>\n      <td>Saturday</td>\n    </tr>\n    <tr>\n      <th>42</th>\n      <td>43</td>\n      <td>19</td>\n      <td>-</td>\n      <td>4</td>\n      <td>1000</td>\n      <td>8000</td>\n      <td>122.00</td>\n      <td>2018-02-06</td>\n      <td>03:41</td>\n      <td>-</td>\n      <td>yes</td>\n      <td>0</td>\n      <td>Tuesday</td>\n    </tr>\n    <tr>\n      <th>53</th>\n      <td>54</td>\n      <td>-</td>\n      <td>16</td>\n      <td>-</td>\n      <td>3200</td>\n      <td>1600</td>\n      <td>53212.00</td>\n      <td>2018-02-16</td>\n      <td>00:24</td>\n      <td>02.03.2018</td>\n      <td>yes</td>\n      <td>0</td>\n      <td>Friday</td>\n    </tr>\n    <tr>\n      <th>55</th>\n      <td>56</td>\n      <td>2</td>\n      <td>-</td>\n      <td>8</td>\n      <td>1200</td>\n      <td>8000</td>\n      <td>33.40</td>\n      <td>2018-02-18</td>\n      <td>01:22</td>\n      <td>04.03.2018</td>\n      <td>yes</td>\n      <td>0</td>\n      <td>Sunday</td>\n    </tr>\n    <tr>\n      <th>62</th>\n      <td>63</td>\n      <td>17</td>\n      <td>-</td>\n      <td>7</td>\n      <td>1000</td>\n      <td>8000</td>\n      <td>507.96</td>\n      <td>2018-02-25</td>\n      <td>01:30</td>\n      <td>-</td>\n      <td>yes</td>\n      <td>0</td>\n      <td>Sunday</td>\n    </tr>\n    <tr>\n      <th>65</th>\n      <td>66</td>\n      <td>9</td>\n      <td>-</td>\n      <td>3</td>\n      <td>1200</td>\n      <td>8000</td>\n      <td>76.00</td>\n      <td>2018-02-28</td>\n      <td>01:21</td>\n      <td>14.03.2018</td>\n      <td>yes</td>\n      <td>0</td>\n      <td>Wednesday</td>\n    </tr>\n    <tr>\n      <th>69</th>\n      <td>70</td>\n      <td>-</td>\n      <td>14</td>\n      <td>-</td>\n      <td>3200</td>\n      <td>1600</td>\n      <td>8765.40</td>\n      <td>2018-03-03</td>\n      <td>03:54</td>\n      <td>17.03.2018</td>\n      <td>yes</td>\n      <td>0</td>\n      <td>Saturday</td>\n    </tr>\n    <tr>\n      <th>73</th>\n      <td>74</td>\n      <td>-</td>\n      <td>6</td>\n      <td>-</td>\n      <td>3200</td>\n      <td>1600</td>\n      <td>5673.24</td>\n      <td>2018-03-07</td>\n      <td>23:46</td>\n      <td>21.03.2018</td>\n      <td>yes</td>\n      <td>0</td>\n      <td>Wednesday</td>\n    </tr>\n    <tr>\n      <th>74</th>\n      <td>75</td>\n      <td>-</td>\n      <td>20</td>\n      <td>-</td>\n      <td>3200</td>\n      <td>1600</td>\n      <td>63452.60</td>\n      <td>2018-03-08</td>\n      <td>23:18</td>\n      <td>-</td>\n      <td>yes</td>\n      <td>0</td>\n      <td>Thursday</td>\n    </tr>\n    <tr>\n      <th>77</th>\n      <td>78</td>\n      <td>3</td>\n      <td>-</td>\n      <td>4</td>\n      <td>1200</td>\n      <td>8000</td>\n      <td>122.00</td>\n      <td>2018-03-11</td>\n      <td>23:19</td>\n      <td>25.03.2018</td>\n      <td>yes</td>\n      <td>0</td>\n      <td>Sunday</td>\n    </tr>\n    <tr>\n      <th>79</th>\n      <td>80</td>\n      <td>17</td>\n      <td>-</td>\n      <td>6</td>\n      <td>1000</td>\n      <td>8000</td>\n      <td>49.99</td>\n      <td>2018-03-13</td>\n      <td>00:58</td>\n      <td>-</td>\n      <td>yes</td>\n      <td>0</td>\n      <td>Tuesday</td>\n    </tr>\n    <tr>\n      <th>80</th>\n      <td>81</td>\n      <td>8</td>\n      <td>-</td>\n      <td>6</td>\n      <td>1000</td>\n      <td>8000</td>\n      <td>49.99</td>\n      <td>2018-03-14</td>\n      <td>02:29</td>\n      <td>-</td>\n      <td>yes</td>\n      <td>0</td>\n      <td>Wednesday</td>\n    </tr>\n    <tr>\n      <th>81</th>\n      <td>82</td>\n      <td>6</td>\n      <td>-</td>\n      <td>10</td>\n      <td>1200</td>\n      <td>8000</td>\n      <td>22.44</td>\n      <td>2018-03-15</td>\n      <td>22:56</td>\n      <td>29.03.2018</td>\n      <td>no</td>\n      <td>3</td>\n      <td>Thursday</td>\n    </tr>\n    <tr>\n      <th>82</th>\n      <td>83</td>\n      <td>18</td>\n      <td>-</td>\n      <td>4</td>\n      <td>1000</td>\n      <td>8000</td>\n      <td>122.00</td>\n      <td>2018-03-16</td>\n      <td>22:30</td>\n      <td>-</td>\n      <td>yes</td>\n      <td>0</td>\n      <td>Friday</td>\n    </tr>\n    <tr>\n      <th>86</th>\n      <td>87</td>\n      <td>14</td>\n      <td>-</td>\n      <td>6</td>\n      <td>1200</td>\n      <td>8000</td>\n      <td>49.99</td>\n      <td>2018-03-20</td>\n      <td>03:10</td>\n      <td>03.04.2018</td>\n      <td>yes</td>\n      <td>0</td>\n      <td>Tuesday</td>\n    </tr>\n    <tr>\n      <th>98</th>\n      <td>99</td>\n      <td>6</td>\n      <td>-</td>\n      <td>7</td>\n      <td>1200</td>\n      <td>8000</td>\n      <td>126.99</td>\n      <td>2018-03-31</td>\n      <td>01:59</td>\n      <td>14.04.2018</td>\n      <td>yes</td>\n      <td>0</td>\n      <td>Saturday</td>\n    </tr>\n    <tr>\n      <th>99</th>\n      <td>100</td>\n      <td>13</td>\n      <td>-</td>\n      <td>2</td>\n      <td>1200</td>\n      <td>8000</td>\n      <td>17.56</td>\n      <td>2018-04-01</td>\n      <td>02:52</td>\n      <td>15.04.2018</td>\n      <td>no</td>\n      <td>0</td>\n      <td>Sunday</td>\n    </tr>\n    <tr>\n      <th>102</th>\n      <td>103</td>\n      <td>19</td>\n      <td>-</td>\n      <td>10</td>\n      <td>1200</td>\n      <td>8000</td>\n      <td>22.44</td>\n      <td>2018-04-04</td>\n      <td>22:39</td>\n      <td>18.04.2018</td>\n      <td>yes</td>\n      <td>0</td>\n      <td>Wednesday</td>\n    </tr>\n    <tr>\n      <th>104</th>\n      <td>105</td>\n      <td>11</td>\n      <td>-</td>\n      <td>6</td>\n      <td>1000</td>\n      <td>8000</td>\n      <td>49.99</td>\n      <td>2018-04-06</td>\n      <td>00:08</td>\n      <td>-</td>\n      <td>yes</td>\n      <td>0</td>\n      <td>Friday</td>\n    </tr>\n  </tbody>\n</table>\n</div>"
     },
     "execution_count": 27,
     "metadata": {},
     "output_type": "execute_result"
    }
   ],
   "source": [
    "# How many transactions were made between 22:00 and 04:00\n",
    "\n",
    "df_transactions[(df_transactions.Time > \"22:00\") | (df_transactions.Time < \"04:00\")]"
   ],
   "metadata": {
    "collapsed": false,
    "ExecuteTime": {
     "end_time": "2023-11-06T09:03:29.894628Z",
     "start_time": "2023-11-06T09:03:28.056552Z"
    }
   },
   "id": "ee150a9bce3e9719"
  },
  {
   "cell_type": "markdown",
   "source": [
    "### Merge data records\n",
    "\n",
    "The central point here is the choice of column(s) according to which the two data records are linked (columns with same data)."
   ],
   "metadata": {
    "collapsed": false
   },
   "id": "9c9dd0db913fd0e6"
  },
  {
   "cell_type": "code",
   "execution_count": 21,
   "outputs": [
    {
     "data": {
      "text/plain": "Index(['Creditor_ID', 'Firm', 'Street', 'HouseNr.', 'City', 'Postcode',\n       'Country'],\n      dtype='object')"
     },
     "execution_count": 21,
     "metadata": {},
     "output_type": "execute_result"
    }
   ],
   "source": [
    "df_accounts_receivable.columns"
   ],
   "metadata": {
    "collapsed": false,
    "ExecuteTime": {
     "start_time": "2023-11-06T09:03:27.980640Z"
    }
   },
   "id": "bfe1ad9239e3bbc5"
  },
  {
   "cell_type": "code",
   "execution_count": 22,
   "outputs": [
    {
     "data": {
      "text/plain": "Index(['Bank_ID', 'Creditor_ID', 'Bankname', 'CountryKey', 'VerifCode',\n       'BankKey', 'SectorCode', 'BankAccNr', 'CheckDigit'],\n      dtype='object')"
     },
     "execution_count": 22,
     "metadata": {},
     "output_type": "execute_result"
    }
   ],
   "source": [
    "df_bank_accounts.columns"
   ],
   "metadata": {
    "collapsed": false,
    "ExecuteTime": {
     "start_time": "2023-11-06T09:03:27.989257Z"
    }
   },
   "id": "e6d4d5ad8c567393"
  },
  {
   "cell_type": "code",
   "execution_count": 23,
   "outputs": [
    {
     "data": {
      "text/plain": "   Bank_ID  Creditor_ID   Bankname CountryKey  VerifCode   BankKey SectorCode  \\\n0        1            1  Sparkasse         DE         44  85708525          -   \n1        2            1  Sparkasse         DE         27  34010441          -   \n2        3            2       BGFI         FR         29  53954085      12914   \n\n    BankAccNr CheckDigit                  Firm          Street  HouseNr.  \\\n0  9092573071          -         Workflow GmbH  Berlinerstraße        12   \n1  1517137596          -         Workflow GmbH  Berlinerstraße        12   \n2       93097         31  Consulting_solutions         Elysees        11   \n\n      City  Postcode  Country  \n0   Berlin     10115  Germany  \n1   Berlin     10115  Germany  \n2  Montord     33452   France  ",
      "text/html": "<div>\n<style scoped>\n    .dataframe tbody tr th:only-of-type {\n        vertical-align: middle;\n    }\n\n    .dataframe tbody tr th {\n        vertical-align: top;\n    }\n\n    .dataframe thead th {\n        text-align: right;\n    }\n</style>\n<table border=\"1\" class=\"dataframe\">\n  <thead>\n    <tr style=\"text-align: right;\">\n      <th></th>\n      <th>Bank_ID</th>\n      <th>Creditor_ID</th>\n      <th>Bankname</th>\n      <th>CountryKey</th>\n      <th>VerifCode</th>\n      <th>BankKey</th>\n      <th>SectorCode</th>\n      <th>BankAccNr</th>\n      <th>CheckDigit</th>\n      <th>Firm</th>\n      <th>Street</th>\n      <th>HouseNr.</th>\n      <th>City</th>\n      <th>Postcode</th>\n      <th>Country</th>\n    </tr>\n  </thead>\n  <tbody>\n    <tr>\n      <th>0</th>\n      <td>1</td>\n      <td>1</td>\n      <td>Sparkasse</td>\n      <td>DE</td>\n      <td>44</td>\n      <td>85708525</td>\n      <td>-</td>\n      <td>9092573071</td>\n      <td>-</td>\n      <td>Workflow GmbH</td>\n      <td>Berlinerstraße</td>\n      <td>12</td>\n      <td>Berlin</td>\n      <td>10115</td>\n      <td>Germany</td>\n    </tr>\n    <tr>\n      <th>1</th>\n      <td>2</td>\n      <td>1</td>\n      <td>Sparkasse</td>\n      <td>DE</td>\n      <td>27</td>\n      <td>34010441</td>\n      <td>-</td>\n      <td>1517137596</td>\n      <td>-</td>\n      <td>Workflow GmbH</td>\n      <td>Berlinerstraße</td>\n      <td>12</td>\n      <td>Berlin</td>\n      <td>10115</td>\n      <td>Germany</td>\n    </tr>\n    <tr>\n      <th>2</th>\n      <td>3</td>\n      <td>2</td>\n      <td>BGFI</td>\n      <td>FR</td>\n      <td>29</td>\n      <td>53954085</td>\n      <td>12914</td>\n      <td>93097</td>\n      <td>31</td>\n      <td>Consulting_solutions</td>\n      <td>Elysees</td>\n      <td>11</td>\n      <td>Montord</td>\n      <td>33452</td>\n      <td>France</td>\n    </tr>\n  </tbody>\n</table>\n</div>"
     },
     "execution_count": 23,
     "metadata": {},
     "output_type": "execute_result"
    }
   ],
   "source": [
    "df_accounts_receivable_banks = df_bank_accounts.merge(df_accounts_receivable, how=\"inner\", left_on=\"Creditor_ID\", right_on=\"Creditor_ID\")\n",
    "\n",
    "df_accounts_receivable_banks.head(3)"
   ],
   "metadata": {
    "collapsed": false,
    "ExecuteTime": {
     "start_time": "2023-11-06T09:03:27.994824Z"
    }
   },
   "id": "8c92e594fc8e5951"
  },
  {
   "cell_type": "markdown",
   "source": [
    "# Modeling\n",
    "\n",
    "This section examines the prepared data with regard to individual conspicuous transaction records. The evaluation steps introduced in subsection 'Theoretical foundations of the digital audit' are applied:"
   ],
   "metadata": {
    "collapsed": false
   },
   "id": "4aa22df269ebee2d"
  },
  {
   "cell_type": "markdown",
   "source": [
    "### Retrieving weekend bookings"
   ],
   "metadata": {
    "collapsed": false
   },
   "id": "328d2e1252606e7b"
  },
  {
   "cell_type": "code",
   "execution_count": 24,
   "outputs": [
    {
     "data": {
      "text/plain": "     Booking_ID Debitor_ID Creditor_ID Product_ID  AccNr_Debit  AccNr_Credit  \\\n9            10          -          11          -         5100          1000   \n10           11          -           9          -         3200          1600   \n18           19          -          11          -         3200          1600   \n19           20          -          11          -         5100          1000   \n26           27          -          15          -         3200          1600   \n33           34         10           -          9         1000          8000   \n40           41         15           -          7         1000          8000   \n55           56          2           -          8         1200          8000   \n62           63         17           -          7         1000          8000   \n70           71          -          17          -         3200          1600   \n77           78          3           -          4         1200          8000   \n84           85         16           -          3         1200          8000   \n91           92          -          11          -         3200          1600   \n99          100         13           -          2         1200          8000   \n106         107          3           -          6         1200          8000   \n\n        Value       Date   Time PaymentTarget Paid  Reminders DayOfTheWeek  \n9      245.56 2018-01-07  15:21             -  yes          0       Sunday  \n10     432.00 2018-01-07  04:13    21.01.2018  yes          0       Sunday  \n18   24541.00 2018-01-14  14:31    28.01.2018   no          0       Sunday  \n19    1500.00 2018-01-14  16:33             -  yes          0       Sunday  \n26    6743.00 2018-01-21  19:48    04.02.2018  yes          0       Sunday  \n33       3.80 2018-01-28  16:24             -  yes          0       Sunday  \n40     846.60 2018-02-04  15:04             -  yes          0       Sunday  \n55      33.40 2018-02-18  01:22    04.03.2018  yes          0       Sunday  \n62     507.96 2018-02-25  01:30             -  yes          0       Sunday  \n70   76443.60 2018-03-04  11:58    18.03.2018  yes          0       Sunday  \n77     122.00 2018-03-11  23:19    25.03.2018  yes          0       Sunday  \n84      76.00 2018-03-18  13:02    01.04.2018  yes          0       Sunday  \n91   21345.00 2018-03-25  07:46    08.04.2018  yes          0       Sunday  \n99      17.56 2018-04-01  02:52    15.04.2018   no          0       Sunday  \n106     49.99 2018-04-08  08:20    22.04.2018  yes          0       Sunday  ",
      "text/html": "<div>\n<style scoped>\n    .dataframe tbody tr th:only-of-type {\n        vertical-align: middle;\n    }\n\n    .dataframe tbody tr th {\n        vertical-align: top;\n    }\n\n    .dataframe thead th {\n        text-align: right;\n    }\n</style>\n<table border=\"1\" class=\"dataframe\">\n  <thead>\n    <tr style=\"text-align: right;\">\n      <th></th>\n      <th>Booking_ID</th>\n      <th>Debitor_ID</th>\n      <th>Creditor_ID</th>\n      <th>Product_ID</th>\n      <th>AccNr_Debit</th>\n      <th>AccNr_Credit</th>\n      <th>Value</th>\n      <th>Date</th>\n      <th>Time</th>\n      <th>PaymentTarget</th>\n      <th>Paid</th>\n      <th>Reminders</th>\n      <th>DayOfTheWeek</th>\n    </tr>\n  </thead>\n  <tbody>\n    <tr>\n      <th>9</th>\n      <td>10</td>\n      <td>-</td>\n      <td>11</td>\n      <td>-</td>\n      <td>5100</td>\n      <td>1000</td>\n      <td>245.56</td>\n      <td>2018-01-07</td>\n      <td>15:21</td>\n      <td>-</td>\n      <td>yes</td>\n      <td>0</td>\n      <td>Sunday</td>\n    </tr>\n    <tr>\n      <th>10</th>\n      <td>11</td>\n      <td>-</td>\n      <td>9</td>\n      <td>-</td>\n      <td>3200</td>\n      <td>1600</td>\n      <td>432.00</td>\n      <td>2018-01-07</td>\n      <td>04:13</td>\n      <td>21.01.2018</td>\n      <td>yes</td>\n      <td>0</td>\n      <td>Sunday</td>\n    </tr>\n    <tr>\n      <th>18</th>\n      <td>19</td>\n      <td>-</td>\n      <td>11</td>\n      <td>-</td>\n      <td>3200</td>\n      <td>1600</td>\n      <td>24541.00</td>\n      <td>2018-01-14</td>\n      <td>14:31</td>\n      <td>28.01.2018</td>\n      <td>no</td>\n      <td>0</td>\n      <td>Sunday</td>\n    </tr>\n    <tr>\n      <th>19</th>\n      <td>20</td>\n      <td>-</td>\n      <td>11</td>\n      <td>-</td>\n      <td>5100</td>\n      <td>1000</td>\n      <td>1500.00</td>\n      <td>2018-01-14</td>\n      <td>16:33</td>\n      <td>-</td>\n      <td>yes</td>\n      <td>0</td>\n      <td>Sunday</td>\n    </tr>\n    <tr>\n      <th>26</th>\n      <td>27</td>\n      <td>-</td>\n      <td>15</td>\n      <td>-</td>\n      <td>3200</td>\n      <td>1600</td>\n      <td>6743.00</td>\n      <td>2018-01-21</td>\n      <td>19:48</td>\n      <td>04.02.2018</td>\n      <td>yes</td>\n      <td>0</td>\n      <td>Sunday</td>\n    </tr>\n    <tr>\n      <th>33</th>\n      <td>34</td>\n      <td>10</td>\n      <td>-</td>\n      <td>9</td>\n      <td>1000</td>\n      <td>8000</td>\n      <td>3.80</td>\n      <td>2018-01-28</td>\n      <td>16:24</td>\n      <td>-</td>\n      <td>yes</td>\n      <td>0</td>\n      <td>Sunday</td>\n    </tr>\n    <tr>\n      <th>40</th>\n      <td>41</td>\n      <td>15</td>\n      <td>-</td>\n      <td>7</td>\n      <td>1000</td>\n      <td>8000</td>\n      <td>846.60</td>\n      <td>2018-02-04</td>\n      <td>15:04</td>\n      <td>-</td>\n      <td>yes</td>\n      <td>0</td>\n      <td>Sunday</td>\n    </tr>\n    <tr>\n      <th>55</th>\n      <td>56</td>\n      <td>2</td>\n      <td>-</td>\n      <td>8</td>\n      <td>1200</td>\n      <td>8000</td>\n      <td>33.40</td>\n      <td>2018-02-18</td>\n      <td>01:22</td>\n      <td>04.03.2018</td>\n      <td>yes</td>\n      <td>0</td>\n      <td>Sunday</td>\n    </tr>\n    <tr>\n      <th>62</th>\n      <td>63</td>\n      <td>17</td>\n      <td>-</td>\n      <td>7</td>\n      <td>1000</td>\n      <td>8000</td>\n      <td>507.96</td>\n      <td>2018-02-25</td>\n      <td>01:30</td>\n      <td>-</td>\n      <td>yes</td>\n      <td>0</td>\n      <td>Sunday</td>\n    </tr>\n    <tr>\n      <th>70</th>\n      <td>71</td>\n      <td>-</td>\n      <td>17</td>\n      <td>-</td>\n      <td>3200</td>\n      <td>1600</td>\n      <td>76443.60</td>\n      <td>2018-03-04</td>\n      <td>11:58</td>\n      <td>18.03.2018</td>\n      <td>yes</td>\n      <td>0</td>\n      <td>Sunday</td>\n    </tr>\n    <tr>\n      <th>77</th>\n      <td>78</td>\n      <td>3</td>\n      <td>-</td>\n      <td>4</td>\n      <td>1200</td>\n      <td>8000</td>\n      <td>122.00</td>\n      <td>2018-03-11</td>\n      <td>23:19</td>\n      <td>25.03.2018</td>\n      <td>yes</td>\n      <td>0</td>\n      <td>Sunday</td>\n    </tr>\n    <tr>\n      <th>84</th>\n      <td>85</td>\n      <td>16</td>\n      <td>-</td>\n      <td>3</td>\n      <td>1200</td>\n      <td>8000</td>\n      <td>76.00</td>\n      <td>2018-03-18</td>\n      <td>13:02</td>\n      <td>01.04.2018</td>\n      <td>yes</td>\n      <td>0</td>\n      <td>Sunday</td>\n    </tr>\n    <tr>\n      <th>91</th>\n      <td>92</td>\n      <td>-</td>\n      <td>11</td>\n      <td>-</td>\n      <td>3200</td>\n      <td>1600</td>\n      <td>21345.00</td>\n      <td>2018-03-25</td>\n      <td>07:46</td>\n      <td>08.04.2018</td>\n      <td>yes</td>\n      <td>0</td>\n      <td>Sunday</td>\n    </tr>\n    <tr>\n      <th>99</th>\n      <td>100</td>\n      <td>13</td>\n      <td>-</td>\n      <td>2</td>\n      <td>1200</td>\n      <td>8000</td>\n      <td>17.56</td>\n      <td>2018-04-01</td>\n      <td>02:52</td>\n      <td>15.04.2018</td>\n      <td>no</td>\n      <td>0</td>\n      <td>Sunday</td>\n    </tr>\n    <tr>\n      <th>106</th>\n      <td>107</td>\n      <td>3</td>\n      <td>-</td>\n      <td>6</td>\n      <td>1200</td>\n      <td>8000</td>\n      <td>49.99</td>\n      <td>2018-04-08</td>\n      <td>08:20</td>\n      <td>22.04.2018</td>\n      <td>yes</td>\n      <td>0</td>\n      <td>Sunday</td>\n    </tr>\n  </tbody>\n</table>\n</div>"
     },
     "execution_count": 24,
     "metadata": {},
     "output_type": "execute_result"
    }
   ],
   "source": [
    "# To select the booking records that were processed in the system on a Sunday, it is now sufficient to use the syntax 'df[]' introduced above\n",
    "\n",
    "df_transactions_sundays = df_transactions[df_transactions[\"DayOfTheWeek\"] == \"Sunday\"]\n",
    "# If this logical query returns a 'TRUE', the corresponding line is included in df_transactions_sundays.\n",
    "\n",
    "df_transactions_sundays # as a result a total of 15 of 107 bookings were made on a Sunday"
   ],
   "metadata": {
    "collapsed": false,
    "ExecuteTime": {
     "start_time": "2023-11-06T09:03:28.032655Z"
    }
   },
   "id": "f0cb62579a6d5b48"
  },
  {
   "cell_type": "markdown",
   "source": [
    "### Cash minus inspection"
   ],
   "metadata": {
    "collapsed": false
   },
   "id": "4420ee04b5fa98cc"
  },
  {
   "cell_type": "code",
   "execution_count": 25,
   "outputs": [
    {
     "name": "stdout",
     "output_type": "stream",
     "text": [
      "33.4\n",
      "155.4\n",
      "177.84\n",
      "360.24\n",
      "603.44\n"
     ]
    }
   ],
   "source": [
    "# The following lines of code sum up the first five entries in df_transactions.Value\n",
    "\n",
    "d = 0\n",
    "for i in range(0,5):\n",
    "    d = d + df_transactions.Value[i]\n",
    "    print(d)"
   ],
   "metadata": {
    "collapsed": false,
    "ExecuteTime": {
     "start_time": "2023-11-06T09:03:28.041487Z"
    }
   },
   "id": "91876622b90e850a"
  },
  {
   "cell_type": "code",
   "execution_count": 26,
   "outputs": [
    {
     "data": {
      "text/plain": "0          33.40\n1         155.40\n2         177.84\n3         360.24\n4         603.44\n         ...    \n102    445945.44\n103    445963.00\n104    446012.99\n105    447135.99\n106    447185.98\nName: Value, Length: 107, dtype: float64"
     },
     "execution_count": 26,
     "metadata": {},
     "output_type": "execute_result"
    }
   ],
   "source": [
    "# alternatively\n",
    "\n",
    "df_transactions.Value.cumsum()"
   ],
   "metadata": {
    "collapsed": false,
    "ExecuteTime": {
     "start_time": "2023-11-06T09:03:28.051453Z"
    }
   },
   "id": "27d5807a26e5093a"
  },
  {
   "cell_type": "code",
   "execution_count": 28,
   "outputs": [
    {
     "data": {
      "text/plain": "    Booking_ID Debitor_ID Creditor_ID Product_ID  AccNr_Debit  AccNr_Credit  \\\n0            4          9           -          5         1000          8000   \n1            6          -          11          -         5100          1000   \n2            7         13           -          5         1000          8000   \n3           10          -          11          -         5100          1000   \n4           14         18           -          1         1000          8000   \n5           20          -          11          -         5100          1000   \n6           22          2           -          8         1000          8000   \n7           25         11           -          2         1000          8000   \n8           34         10           -          9         1000          8000   \n9           41         15           -          7         1000          8000   \n10          42         11           -          6         1000          8000   \n11          43         19           -          4         1000          8000   \n12          44          4           -         10         1000          8000   \n13          46          -          11          -         5100          1000   \n14          55         20           -          7         1000          8000   \n15          63         17           -          7         1000          8000   \n16          69          -          11          -         5100          1000   \n17          77          9           -          5         1000          8000   \n18          79         14           -          1         1000          8000   \n19          80         17           -          6         1000          8000   \n20          81          8           -          6         1000          8000   \n21          83         18           -          4         1000          8000   \n22          96          -          11          -         5100          1000   \n23         105         11           -          6         1000          8000   \n\n      Value       Date   Time PaymentTarget Paid  Reminders DayOfTheWeek  \n0    182.40 2018-01-04  00:26             -  yes          0     Thursday  \n1    193.33 2018-01-05  13:14             -  yes          0       Friday  \n2    364.80 2018-01-06  10:57             -  yes          0     Saturday  \n3    245.56 2018-01-07  15:21             -  yes          0       Sunday  \n4   1123.12 2018-01-09  22:23             -  yes          0      Tuesday  \n5   1500.00 2018-01-14  16:33             -  yes          0       Sunday  \n6     33.40 2018-01-16  22:46             -  yes          0      Tuesday  \n7     17.56 2018-01-18  03:32             -  yes          0     Thursday  \n8      3.80 2018-01-28  16:24             -  yes          0       Sunday  \n9    846.60 2018-02-04  15:04             -  yes          0       Sunday  \n10    49.99 2018-02-05  15:58             -  yes          0       Monday  \n11   122.00 2018-02-06  03:41             -  yes          0      Tuesday  \n12    22.44 2018-02-07  15:16             -  yes          0    Wednesday  \n13   466.12 2018-02-09  08:44             -  yes          0       Friday  \n14   507.96 2018-02-17  19:58             -  yes          0     Saturday  \n15   507.96 2018-02-25  01:30             -  yes          0       Sunday  \n16   733.00 2018-03-02  15:29             -  yes          0       Friday  \n17  1307.20 2018-03-10  12:47             -  yes          0     Saturday  \n18  1123.00 2018-03-12  18:51             -  yes          0       Monday  \n19    49.99 2018-03-13  00:58             -  yes          0      Tuesday  \n20    49.99 2018-03-14  02:29             -  yes          0    Wednesday  \n21   122.00 2018-03-16  22:30             -  yes          0       Friday  \n22    17.40 2018-03-28  13:21             -  yes          0    Wednesday  \n23    49.99 2018-04-06  00:08             -  yes          0       Friday  ",
      "text/html": "<div>\n<style scoped>\n    .dataframe tbody tr th:only-of-type {\n        vertical-align: middle;\n    }\n\n    .dataframe tbody tr th {\n        vertical-align: top;\n    }\n\n    .dataframe thead th {\n        text-align: right;\n    }\n</style>\n<table border=\"1\" class=\"dataframe\">\n  <thead>\n    <tr style=\"text-align: right;\">\n      <th></th>\n      <th>Booking_ID</th>\n      <th>Debitor_ID</th>\n      <th>Creditor_ID</th>\n      <th>Product_ID</th>\n      <th>AccNr_Debit</th>\n      <th>AccNr_Credit</th>\n      <th>Value</th>\n      <th>Date</th>\n      <th>Time</th>\n      <th>PaymentTarget</th>\n      <th>Paid</th>\n      <th>Reminders</th>\n      <th>DayOfTheWeek</th>\n    </tr>\n  </thead>\n  <tbody>\n    <tr>\n      <th>0</th>\n      <td>4</td>\n      <td>9</td>\n      <td>-</td>\n      <td>5</td>\n      <td>1000</td>\n      <td>8000</td>\n      <td>182.40</td>\n      <td>2018-01-04</td>\n      <td>00:26</td>\n      <td>-</td>\n      <td>yes</td>\n      <td>0</td>\n      <td>Thursday</td>\n    </tr>\n    <tr>\n      <th>1</th>\n      <td>6</td>\n      <td>-</td>\n      <td>11</td>\n      <td>-</td>\n      <td>5100</td>\n      <td>1000</td>\n      <td>193.33</td>\n      <td>2018-01-05</td>\n      <td>13:14</td>\n      <td>-</td>\n      <td>yes</td>\n      <td>0</td>\n      <td>Friday</td>\n    </tr>\n    <tr>\n      <th>2</th>\n      <td>7</td>\n      <td>13</td>\n      <td>-</td>\n      <td>5</td>\n      <td>1000</td>\n      <td>8000</td>\n      <td>364.80</td>\n      <td>2018-01-06</td>\n      <td>10:57</td>\n      <td>-</td>\n      <td>yes</td>\n      <td>0</td>\n      <td>Saturday</td>\n    </tr>\n    <tr>\n      <th>3</th>\n      <td>10</td>\n      <td>-</td>\n      <td>11</td>\n      <td>-</td>\n      <td>5100</td>\n      <td>1000</td>\n      <td>245.56</td>\n      <td>2018-01-07</td>\n      <td>15:21</td>\n      <td>-</td>\n      <td>yes</td>\n      <td>0</td>\n      <td>Sunday</td>\n    </tr>\n    <tr>\n      <th>4</th>\n      <td>14</td>\n      <td>18</td>\n      <td>-</td>\n      <td>1</td>\n      <td>1000</td>\n      <td>8000</td>\n      <td>1123.12</td>\n      <td>2018-01-09</td>\n      <td>22:23</td>\n      <td>-</td>\n      <td>yes</td>\n      <td>0</td>\n      <td>Tuesday</td>\n    </tr>\n    <tr>\n      <th>5</th>\n      <td>20</td>\n      <td>-</td>\n      <td>11</td>\n      <td>-</td>\n      <td>5100</td>\n      <td>1000</td>\n      <td>1500.00</td>\n      <td>2018-01-14</td>\n      <td>16:33</td>\n      <td>-</td>\n      <td>yes</td>\n      <td>0</td>\n      <td>Sunday</td>\n    </tr>\n    <tr>\n      <th>6</th>\n      <td>22</td>\n      <td>2</td>\n      <td>-</td>\n      <td>8</td>\n      <td>1000</td>\n      <td>8000</td>\n      <td>33.40</td>\n      <td>2018-01-16</td>\n      <td>22:46</td>\n      <td>-</td>\n      <td>yes</td>\n      <td>0</td>\n      <td>Tuesday</td>\n    </tr>\n    <tr>\n      <th>7</th>\n      <td>25</td>\n      <td>11</td>\n      <td>-</td>\n      <td>2</td>\n      <td>1000</td>\n      <td>8000</td>\n      <td>17.56</td>\n      <td>2018-01-18</td>\n      <td>03:32</td>\n      <td>-</td>\n      <td>yes</td>\n      <td>0</td>\n      <td>Thursday</td>\n    </tr>\n    <tr>\n      <th>8</th>\n      <td>34</td>\n      <td>10</td>\n      <td>-</td>\n      <td>9</td>\n      <td>1000</td>\n      <td>8000</td>\n      <td>3.80</td>\n      <td>2018-01-28</td>\n      <td>16:24</td>\n      <td>-</td>\n      <td>yes</td>\n      <td>0</td>\n      <td>Sunday</td>\n    </tr>\n    <tr>\n      <th>9</th>\n      <td>41</td>\n      <td>15</td>\n      <td>-</td>\n      <td>7</td>\n      <td>1000</td>\n      <td>8000</td>\n      <td>846.60</td>\n      <td>2018-02-04</td>\n      <td>15:04</td>\n      <td>-</td>\n      <td>yes</td>\n      <td>0</td>\n      <td>Sunday</td>\n    </tr>\n    <tr>\n      <th>10</th>\n      <td>42</td>\n      <td>11</td>\n      <td>-</td>\n      <td>6</td>\n      <td>1000</td>\n      <td>8000</td>\n      <td>49.99</td>\n      <td>2018-02-05</td>\n      <td>15:58</td>\n      <td>-</td>\n      <td>yes</td>\n      <td>0</td>\n      <td>Monday</td>\n    </tr>\n    <tr>\n      <th>11</th>\n      <td>43</td>\n      <td>19</td>\n      <td>-</td>\n      <td>4</td>\n      <td>1000</td>\n      <td>8000</td>\n      <td>122.00</td>\n      <td>2018-02-06</td>\n      <td>03:41</td>\n      <td>-</td>\n      <td>yes</td>\n      <td>0</td>\n      <td>Tuesday</td>\n    </tr>\n    <tr>\n      <th>12</th>\n      <td>44</td>\n      <td>4</td>\n      <td>-</td>\n      <td>10</td>\n      <td>1000</td>\n      <td>8000</td>\n      <td>22.44</td>\n      <td>2018-02-07</td>\n      <td>15:16</td>\n      <td>-</td>\n      <td>yes</td>\n      <td>0</td>\n      <td>Wednesday</td>\n    </tr>\n    <tr>\n      <th>13</th>\n      <td>46</td>\n      <td>-</td>\n      <td>11</td>\n      <td>-</td>\n      <td>5100</td>\n      <td>1000</td>\n      <td>466.12</td>\n      <td>2018-02-09</td>\n      <td>08:44</td>\n      <td>-</td>\n      <td>yes</td>\n      <td>0</td>\n      <td>Friday</td>\n    </tr>\n    <tr>\n      <th>14</th>\n      <td>55</td>\n      <td>20</td>\n      <td>-</td>\n      <td>7</td>\n      <td>1000</td>\n      <td>8000</td>\n      <td>507.96</td>\n      <td>2018-02-17</td>\n      <td>19:58</td>\n      <td>-</td>\n      <td>yes</td>\n      <td>0</td>\n      <td>Saturday</td>\n    </tr>\n    <tr>\n      <th>15</th>\n      <td>63</td>\n      <td>17</td>\n      <td>-</td>\n      <td>7</td>\n      <td>1000</td>\n      <td>8000</td>\n      <td>507.96</td>\n      <td>2018-02-25</td>\n      <td>01:30</td>\n      <td>-</td>\n      <td>yes</td>\n      <td>0</td>\n      <td>Sunday</td>\n    </tr>\n    <tr>\n      <th>16</th>\n      <td>69</td>\n      <td>-</td>\n      <td>11</td>\n      <td>-</td>\n      <td>5100</td>\n      <td>1000</td>\n      <td>733.00</td>\n      <td>2018-03-02</td>\n      <td>15:29</td>\n      <td>-</td>\n      <td>yes</td>\n      <td>0</td>\n      <td>Friday</td>\n    </tr>\n    <tr>\n      <th>17</th>\n      <td>77</td>\n      <td>9</td>\n      <td>-</td>\n      <td>5</td>\n      <td>1000</td>\n      <td>8000</td>\n      <td>1307.20</td>\n      <td>2018-03-10</td>\n      <td>12:47</td>\n      <td>-</td>\n      <td>yes</td>\n      <td>0</td>\n      <td>Saturday</td>\n    </tr>\n    <tr>\n      <th>18</th>\n      <td>79</td>\n      <td>14</td>\n      <td>-</td>\n      <td>1</td>\n      <td>1000</td>\n      <td>8000</td>\n      <td>1123.00</td>\n      <td>2018-03-12</td>\n      <td>18:51</td>\n      <td>-</td>\n      <td>yes</td>\n      <td>0</td>\n      <td>Monday</td>\n    </tr>\n    <tr>\n      <th>19</th>\n      <td>80</td>\n      <td>17</td>\n      <td>-</td>\n      <td>6</td>\n      <td>1000</td>\n      <td>8000</td>\n      <td>49.99</td>\n      <td>2018-03-13</td>\n      <td>00:58</td>\n      <td>-</td>\n      <td>yes</td>\n      <td>0</td>\n      <td>Tuesday</td>\n    </tr>\n    <tr>\n      <th>20</th>\n      <td>81</td>\n      <td>8</td>\n      <td>-</td>\n      <td>6</td>\n      <td>1000</td>\n      <td>8000</td>\n      <td>49.99</td>\n      <td>2018-03-14</td>\n      <td>02:29</td>\n      <td>-</td>\n      <td>yes</td>\n      <td>0</td>\n      <td>Wednesday</td>\n    </tr>\n    <tr>\n      <th>21</th>\n      <td>83</td>\n      <td>18</td>\n      <td>-</td>\n      <td>4</td>\n      <td>1000</td>\n      <td>8000</td>\n      <td>122.00</td>\n      <td>2018-03-16</td>\n      <td>22:30</td>\n      <td>-</td>\n      <td>yes</td>\n      <td>0</td>\n      <td>Friday</td>\n    </tr>\n    <tr>\n      <th>22</th>\n      <td>96</td>\n      <td>-</td>\n      <td>11</td>\n      <td>-</td>\n      <td>5100</td>\n      <td>1000</td>\n      <td>17.40</td>\n      <td>2018-03-28</td>\n      <td>13:21</td>\n      <td>-</td>\n      <td>yes</td>\n      <td>0</td>\n      <td>Wednesday</td>\n    </tr>\n    <tr>\n      <th>23</th>\n      <td>105</td>\n      <td>11</td>\n      <td>-</td>\n      <td>6</td>\n      <td>1000</td>\n      <td>8000</td>\n      <td>49.99</td>\n      <td>2018-04-06</td>\n      <td>00:08</td>\n      <td>-</td>\n      <td>yes</td>\n      <td>0</td>\n      <td>Friday</td>\n    </tr>\n  </tbody>\n</table>\n</div>"
     },
     "execution_count": 28,
     "metadata": {},
     "output_type": "execute_result"
    }
   ],
   "source": [
    "df_cash_book = df_cash_book.reset_index(drop=True) # because we want to iterate over the index without any breaks between them\n",
    "df_cash_book"
   ],
   "metadata": {
    "collapsed": false,
    "ExecuteTime": {
     "end_time": "2023-11-06T09:03:29.898123Z",
     "start_time": "2023-11-06T09:03:28.080681Z"
    }
   },
   "id": "6b8a35b76a2cfbf"
  },
  {
   "cell_type": "code",
   "execution_count": 29,
   "outputs": [
    {
     "name": "stdout",
     "output_type": "stream",
     "text": [
      "Cash register was  5 times in minus.\n"
     ]
    }
   ],
   "source": [
    "c = 0\n",
    "\n",
    "for i in range(0, len(df_cash_book)): # the final value of the iteration index 'i' is determined by the row dimension of the data set\n",
    "    \n",
    "    if df_cash_book.AccNr_Credit[i] == 1000:\n",
    "        # If so, the corresponding posting value in the Value column is multiplied by -1, which ensures that a negative value is deducted when the total is added up\n",
    "        df_cash_book.loc[i, \"Value\"] = df_cash_book.Value[i] * (-1) # loc[row, column]\n",
    "    \n",
    "    c = c + df_cash_book.Value[i]\n",
    "    df_cash_book.loc[i, \"cumulated\"] = c # the results of these additions are stored in the just created column 'cumulated'\n",
    "    \n",
    "print(\"Cash register was \", sum(df_cash_book.cumulated < 0), \"times in minus.\")"
   ],
   "metadata": {
    "collapsed": false,
    "ExecuteTime": {
     "end_time": "2023-11-06T09:03:29.898978Z",
     "start_time": "2023-11-06T09:03:28.100443Z"
    }
   },
   "id": "69cefc0c4aa14d38"
  },
  {
   "cell_type": "code",
   "execution_count": 30,
   "outputs": [
    {
     "data": {
      "text/plain": "   Booking_ID Debitor_ID Creditor_ID Product_ID  AccNr_Debit  AccNr_Credit  \\\n1           6          -          11          -         5100          1000   \n5          20          -          11          -         5100          1000   \n6          22          2           -          8         1000          8000   \n7          25         11           -          2         1000          8000   \n8          34         10           -          9         1000          8000   \n\n     Value       Date   Time PaymentTarget Paid  Reminders DayOfTheWeek  \\\n1  -193.33 2018-01-05  13:14             -  yes          0       Friday   \n5 -1500.00 2018-01-14  16:33             -  yes          0       Sunday   \n6    33.40 2018-01-16  22:46             -  yes          0      Tuesday   \n7    17.56 2018-01-18  03:32             -  yes          0     Thursday   \n8     3.80 2018-01-28  16:24             -  yes          0       Sunday   \n\n   cumulated  \n1     -10.93  \n5    -268.57  \n6    -235.17  \n7    -217.61  \n8    -213.81  ",
      "text/html": "<div>\n<style scoped>\n    .dataframe tbody tr th:only-of-type {\n        vertical-align: middle;\n    }\n\n    .dataframe tbody tr th {\n        vertical-align: top;\n    }\n\n    .dataframe thead th {\n        text-align: right;\n    }\n</style>\n<table border=\"1\" class=\"dataframe\">\n  <thead>\n    <tr style=\"text-align: right;\">\n      <th></th>\n      <th>Booking_ID</th>\n      <th>Debitor_ID</th>\n      <th>Creditor_ID</th>\n      <th>Product_ID</th>\n      <th>AccNr_Debit</th>\n      <th>AccNr_Credit</th>\n      <th>Value</th>\n      <th>Date</th>\n      <th>Time</th>\n      <th>PaymentTarget</th>\n      <th>Paid</th>\n      <th>Reminders</th>\n      <th>DayOfTheWeek</th>\n      <th>cumulated</th>\n    </tr>\n  </thead>\n  <tbody>\n    <tr>\n      <th>1</th>\n      <td>6</td>\n      <td>-</td>\n      <td>11</td>\n      <td>-</td>\n      <td>5100</td>\n      <td>1000</td>\n      <td>-193.33</td>\n      <td>2018-01-05</td>\n      <td>13:14</td>\n      <td>-</td>\n      <td>yes</td>\n      <td>0</td>\n      <td>Friday</td>\n      <td>-10.93</td>\n    </tr>\n    <tr>\n      <th>5</th>\n      <td>20</td>\n      <td>-</td>\n      <td>11</td>\n      <td>-</td>\n      <td>5100</td>\n      <td>1000</td>\n      <td>-1500.00</td>\n      <td>2018-01-14</td>\n      <td>16:33</td>\n      <td>-</td>\n      <td>yes</td>\n      <td>0</td>\n      <td>Sunday</td>\n      <td>-268.57</td>\n    </tr>\n    <tr>\n      <th>6</th>\n      <td>22</td>\n      <td>2</td>\n      <td>-</td>\n      <td>8</td>\n      <td>1000</td>\n      <td>8000</td>\n      <td>33.40</td>\n      <td>2018-01-16</td>\n      <td>22:46</td>\n      <td>-</td>\n      <td>yes</td>\n      <td>0</td>\n      <td>Tuesday</td>\n      <td>-235.17</td>\n    </tr>\n    <tr>\n      <th>7</th>\n      <td>25</td>\n      <td>11</td>\n      <td>-</td>\n      <td>2</td>\n      <td>1000</td>\n      <td>8000</td>\n      <td>17.56</td>\n      <td>2018-01-18</td>\n      <td>03:32</td>\n      <td>-</td>\n      <td>yes</td>\n      <td>0</td>\n      <td>Thursday</td>\n      <td>-217.61</td>\n    </tr>\n    <tr>\n      <th>8</th>\n      <td>34</td>\n      <td>10</td>\n      <td>-</td>\n      <td>9</td>\n      <td>1000</td>\n      <td>8000</td>\n      <td>3.80</td>\n      <td>2018-01-28</td>\n      <td>16:24</td>\n      <td>-</td>\n      <td>yes</td>\n      <td>0</td>\n      <td>Sunday</td>\n      <td>-213.81</td>\n    </tr>\n  </tbody>\n</table>\n</div>"
     },
     "execution_count": 30,
     "metadata": {},
     "output_type": "execute_result"
    }
   ],
   "source": [
    "# The negative entries in the column 'df_cash_book.cumulated' can be used to identify the posting records that have put the cash register in the red\n",
    "\n",
    "df_cash_book[df_cash_book.cumulated < 0]"
   ],
   "metadata": {
    "collapsed": false,
    "ExecuteTime": {
     "end_time": "2023-11-06T09:03:29.901115Z",
     "start_time": "2023-11-06T09:03:28.131127Z"
    }
   },
   "id": "53dd871d09180ec4"
  },
  {
   "cell_type": "markdown",
   "source": [
    "### Checking duplicates"
   ],
   "metadata": {
    "collapsed": false
   },
   "id": "a17609d95a42e4f0"
  },
  {
   "cell_type": "code",
   "execution_count": 31,
   "outputs": [
    {
     "data": {
      "text/plain": "30    9092573071\nName: BankAccNr, dtype: int64"
     },
     "execution_count": 31,
     "metadata": {},
     "output_type": "execute_result"
    }
   ],
   "source": [
    "# This function checks the column 'BankAccNr' for duplicate entries and assigns them to the vector 'BankAccNr_duplicates'\n",
    "\n",
    "BankAccNr_duplicates = df_accounts_receivable_banks.loc[df_accounts_receivable_banks.BankAccNr.duplicated(), \"BankAccNr\"]\n",
    "BankAccNr_duplicates"
   ],
   "metadata": {
    "collapsed": false,
    "ExecuteTime": {
     "end_time": "2023-11-06T09:03:29.902085Z",
     "start_time": "2023-11-06T09:03:28.141238Z"
    }
   },
   "id": "1723e9e68dc38467"
  },
  {
   "cell_type": "code",
   "execution_count": 32,
   "outputs": [
    {
     "data": {
      "text/plain": "0      True\n1     False\n2     False\n3     False\n4     False\n5     False\n6     False\n7     False\n8     False\n9     False\n10    False\n11    False\n12    False\n13    False\n14    False\n15    False\n16    False\n17    False\n18    False\n19    False\n20    False\n21    False\n22    False\n23    False\n24    False\n25    False\n26    False\n27    False\n28    False\n29    False\n30     True\nName: BankAccNr, dtype: bool"
     },
     "execution_count": 32,
     "metadata": {},
     "output_type": "execute_result"
    }
   ],
   "source": [
    "# the rows are selected from the data set whose account number matches an account number in the vector 'BankAccNr_duplicates'\n",
    "\n",
    "df_accounts_receivable_banks[\"BankAccNr\"].isin(BankAccNr_duplicates)"
   ],
   "metadata": {
    "collapsed": false,
    "ExecuteTime": {
     "end_time": "2023-11-06T09:03:29.903284Z",
     "start_time": "2023-11-06T09:03:28.146744Z"
    }
   },
   "id": "97a52ab91d7fa409"
  },
  {
   "cell_type": "code",
   "execution_count": 33,
   "outputs": [
    {
     "data": {
      "text/plain": "    Bank_ID  Creditor_ID   Bankname CountryKey  VerifCode   BankKey  \\\n0         1            1  Sparkasse         DE         44  85708525   \n30       31           21  Sparkasse         DE         44  85708525   \n\n   SectorCode   BankAccNr CheckDigit            Firm          Street  \\\n0           -  9092573071          -   Workflow GmbH  Berlinerstraße   \n30          -  9092573071          -  Work-flow_GmbH  Berlinerstraße   \n\n    HouseNr.    City  Postcode  Country  \n0         12  Berlin     10115  Germany  \n30        12  Berlin     10115  Germany  ",
      "text/html": "<div>\n<style scoped>\n    .dataframe tbody tr th:only-of-type {\n        vertical-align: middle;\n    }\n\n    .dataframe tbody tr th {\n        vertical-align: top;\n    }\n\n    .dataframe thead th {\n        text-align: right;\n    }\n</style>\n<table border=\"1\" class=\"dataframe\">\n  <thead>\n    <tr style=\"text-align: right;\">\n      <th></th>\n      <th>Bank_ID</th>\n      <th>Creditor_ID</th>\n      <th>Bankname</th>\n      <th>CountryKey</th>\n      <th>VerifCode</th>\n      <th>BankKey</th>\n      <th>SectorCode</th>\n      <th>BankAccNr</th>\n      <th>CheckDigit</th>\n      <th>Firm</th>\n      <th>Street</th>\n      <th>HouseNr.</th>\n      <th>City</th>\n      <th>Postcode</th>\n      <th>Country</th>\n    </tr>\n  </thead>\n  <tbody>\n    <tr>\n      <th>0</th>\n      <td>1</td>\n      <td>1</td>\n      <td>Sparkasse</td>\n      <td>DE</td>\n      <td>44</td>\n      <td>85708525</td>\n      <td>-</td>\n      <td>9092573071</td>\n      <td>-</td>\n      <td>Workflow GmbH</td>\n      <td>Berlinerstraße</td>\n      <td>12</td>\n      <td>Berlin</td>\n      <td>10115</td>\n      <td>Germany</td>\n    </tr>\n    <tr>\n      <th>30</th>\n      <td>31</td>\n      <td>21</td>\n      <td>Sparkasse</td>\n      <td>DE</td>\n      <td>44</td>\n      <td>85708525</td>\n      <td>-</td>\n      <td>9092573071</td>\n      <td>-</td>\n      <td>Work-flow_GmbH</td>\n      <td>Berlinerstraße</td>\n      <td>12</td>\n      <td>Berlin</td>\n      <td>10115</td>\n      <td>Germany</td>\n    </tr>\n  </tbody>\n</table>\n</div>"
     },
     "execution_count": 33,
     "metadata": {},
     "output_type": "execute_result"
    }
   ],
   "source": [
    "df_accounts_receivable_banks[df_accounts_receivable_banks[\"BankAccNr\"].isin(BankAccNr_duplicates)]"
   ],
   "metadata": {
    "collapsed": false,
    "ExecuteTime": {
     "end_time": "2023-11-06T09:03:29.905565Z",
     "start_time": "2023-11-06T09:03:28.156083Z"
    }
   },
   "id": "5164c000d577f2ad"
  },
  {
   "cell_type": "markdown",
   "source": [
    "The output shows that the two creditors are in reality one and the same, “Workflow GmbH” from Berlin; an underscore was once used in the company name but has since been removed."
   ],
   "metadata": {
    "collapsed": false
   },
   "id": "8bb0e882101d1c21"
  },
  {
   "cell_type": "code",
   "execution_count": 34,
   "outputs": [
    {
     "data": {
      "text/plain": "    Bank_ID  Creditor_ID   Bankname CountryKey  VerifCode   BankKey  \\\n30       31           21  Sparkasse         DE         44  85708525   \n\n   SectorCode   BankAccNr CheckDigit            Firm          Street  \\\n30          -  9092573071          -  Work-flow_GmbH  Berlinerstraße   \n\n    HouseNr.    City  Postcode  Country  \n30        12  Berlin     10115  Germany  ",
      "text/html": "<div>\n<style scoped>\n    .dataframe tbody tr th:only-of-type {\n        vertical-align: middle;\n    }\n\n    .dataframe tbody tr th {\n        vertical-align: top;\n    }\n\n    .dataframe thead th {\n        text-align: right;\n    }\n</style>\n<table border=\"1\" class=\"dataframe\">\n  <thead>\n    <tr style=\"text-align: right;\">\n      <th></th>\n      <th>Bank_ID</th>\n      <th>Creditor_ID</th>\n      <th>Bankname</th>\n      <th>CountryKey</th>\n      <th>VerifCode</th>\n      <th>BankKey</th>\n      <th>SectorCode</th>\n      <th>BankAccNr</th>\n      <th>CheckDigit</th>\n      <th>Firm</th>\n      <th>Street</th>\n      <th>HouseNr.</th>\n      <th>City</th>\n      <th>Postcode</th>\n      <th>Country</th>\n    </tr>\n  </thead>\n  <tbody>\n    <tr>\n      <th>30</th>\n      <td>31</td>\n      <td>21</td>\n      <td>Sparkasse</td>\n      <td>DE</td>\n      <td>44</td>\n      <td>85708525</td>\n      <td>-</td>\n      <td>9092573071</td>\n      <td>-</td>\n      <td>Work-flow_GmbH</td>\n      <td>Berlinerstraße</td>\n      <td>12</td>\n      <td>Berlin</td>\n      <td>10115</td>\n      <td>Germany</td>\n    </tr>\n  </tbody>\n</table>\n</div>"
     },
     "execution_count": 34,
     "metadata": {},
     "output_type": "execute_result"
    }
   ],
   "source": [
    "# alternatively (indicating only the duplicate)\n",
    "\n",
    "df_accounts_receivable_banks[df_accounts_receivable_banks[\"BankAccNr\"].duplicated()]"
   ],
   "metadata": {
    "collapsed": false,
    "ExecuteTime": {
     "end_time": "2023-11-06T09:03:29.907375Z",
     "start_time": "2023-11-06T09:03:28.194081Z"
    }
   },
   "id": "38859393b1dd47"
  },
  {
   "cell_type": "code",
   "execution_count": 35,
   "outputs": [
    {
     "name": "stdout",
     "output_type": "stream",
     "text": [
      "Help on function isin in module pandas.core.series:\n",
      "\n",
      "isin(self, values) -> 'Series'\n",
      "    Whether elements in Series are contained in `values`.\n",
      "    \n",
      "    Return a boolean Series showing whether each element in the Series\n",
      "    matches an element in the passed sequence of `values` exactly.\n",
      "    \n",
      "    Parameters\n",
      "    ----------\n",
      "    values : set or list-like\n",
      "        The sequence of values to test. Passing in a single string will\n",
      "        raise a ``TypeError``. Instead, turn a single string into a\n",
      "        list of one element.\n",
      "    \n",
      "    Returns\n",
      "    -------\n",
      "    Series\n",
      "        Series of booleans indicating if each element is in values.\n",
      "    \n",
      "    Raises\n",
      "    ------\n",
      "    TypeError\n",
      "      * If `values` is a string\n",
      "    \n",
      "    See Also\n",
      "    --------\n",
      "    DataFrame.isin : Equivalent method on DataFrame.\n",
      "    \n",
      "    Examples\n",
      "    --------\n",
      "    >>> s = pd.Series(['llama', 'cow', 'llama', 'beetle', 'llama',\n",
      "    ...                'hippo'], name='animal')\n",
      "    >>> s.isin(['cow', 'llama'])\n",
      "    0     True\n",
      "    1     True\n",
      "    2     True\n",
      "    3    False\n",
      "    4     True\n",
      "    5    False\n",
      "    Name: animal, dtype: bool\n",
      "    \n",
      "    To invert the boolean values, use the ``~`` operator:\n",
      "    \n",
      "    >>> ~s.isin(['cow', 'llama'])\n",
      "    0    False\n",
      "    1    False\n",
      "    2    False\n",
      "    3     True\n",
      "    4    False\n",
      "    5     True\n",
      "    Name: animal, dtype: bool\n",
      "    \n",
      "    Passing a single string as ``s.isin('llama')`` will raise an error. Use\n",
      "    a list of one element instead:\n",
      "    \n",
      "    >>> s.isin(['llama'])\n",
      "    0     True\n",
      "    1    False\n",
      "    2     True\n",
      "    3    False\n",
      "    4     True\n",
      "    5    False\n",
      "    Name: animal, dtype: bool\n",
      "    \n",
      "    Strings and integers are distinct and are therefore not comparable:\n",
      "    \n",
      "    >>> pd.Series([1]).isin(['1'])\n",
      "    0    False\n",
      "    dtype: bool\n",
      "    >>> pd.Series([1.1]).isin(['1.1'])\n",
      "    0    False\n",
      "    dtype: bool\n"
     ]
    }
   ],
   "source": [
    "help(pd.Series.isin)"
   ],
   "metadata": {
    "collapsed": false,
    "ExecuteTime": {
     "end_time": "2023-11-06T09:03:29.908486Z",
     "start_time": "2023-11-06T09:03:28.207834Z"
    }
   },
   "id": "8a1475928b45c3eb"
  },
  {
   "cell_type": "markdown",
   "source": [
    "### Checking the pre-decimal digits for equal distribution\n",
    "\n",
    "> A *Chi-square test* can be employed to determine whether a data series/random variable sufficiently corresponds to a given distribution or whether there are deviations (caused, for example, by errors or manipulations).\n",
    "\n",
    "If the booking values have arisen by chance without the intentional intervention of a human being, the distribution of the pre-decimal digits of the booking values should not systematically deviate from the equal distribution."
   ],
   "metadata": {
    "collapsed": false
   },
   "id": "5fcf9db8ad88e882"
  },
  {
   "cell_type": "code",
   "execution_count": 36,
   "outputs": [
    {
     "data": {
      "text/plain": "0        33\n1       122\n2        22\n3       182\n4       243\n       ... \n102      22\n103      17\n104      49\n105    1123\n106      49\nName: Value, Length: 107, dtype: int64"
     },
     "execution_count": 36,
     "metadata": {},
     "output_type": "execute_result"
    }
   ],
   "source": [
    "# Conversion float to integer\n",
    "\n",
    "INT = df_transactions.Value.astype(int) # 'INT' ensures that the irrelevant decimal places are truncated and the last digit of the integer represents the variable to be examined\n",
    "INT"
   ],
   "metadata": {
    "collapsed": false,
    "ExecuteTime": {
     "end_time": "2023-11-06T09:03:29.909945Z",
     "start_time": "2023-11-06T09:03:28.213580Z"
    }
   },
   "id": "a6569809480586ba"
  },
  {
   "cell_type": "code",
   "execution_count": 37,
   "outputs": [
    {
     "data": {
      "text/plain": "   0\n0  3\n1  2\n2  2\n3  2\n4  3",
      "text/html": "<div>\n<style scoped>\n    .dataframe tbody tr th:only-of-type {\n        vertical-align: middle;\n    }\n\n    .dataframe tbody tr th {\n        vertical-align: top;\n    }\n\n    .dataframe thead th {\n        text-align: right;\n    }\n</style>\n<table border=\"1\" class=\"dataframe\">\n  <thead>\n    <tr style=\"text-align: right;\">\n      <th></th>\n      <th>0</th>\n    </tr>\n  </thead>\n  <tbody>\n    <tr>\n      <th>0</th>\n      <td>3</td>\n    </tr>\n    <tr>\n      <th>1</th>\n      <td>2</td>\n    </tr>\n    <tr>\n      <th>2</th>\n      <td>2</td>\n    </tr>\n    <tr>\n      <th>3</th>\n      <td>2</td>\n    </tr>\n    <tr>\n      <th>4</th>\n      <td>3</td>\n    </tr>\n  </tbody>\n</table>\n</div>"
     },
     "execution_count": 37,
     "metadata": {},
     "output_type": "execute_result"
    }
   ],
   "source": [
    "# filter pre-comma digit\n",
    "\n",
    "DigitBeforeComma = pd.DataFrame(map(int, [str(x)[-1] for x in INT])) # The function 'str()[-1]' extracts a defined section from a string, here the last character [-1] from a string.\n",
    "DigitBeforeComma.head()"
   ],
   "metadata": {
    "collapsed": false,
    "ExecuteTime": {
     "end_time": "2023-11-06T09:03:29.911295Z",
     "start_time": "2023-11-06T09:03:28.223197Z"
    }
   },
   "id": "913b210c33ee13fd"
  },
  {
   "cell_type": "code",
   "execution_count": 38,
   "outputs": [
    {
     "data": {
      "text/plain": "3    31\n2    23\n6    12\n7    11\n9    11\n5     6\n1     5\n4     3\n8     3\n0     2\nName: count, dtype: int64"
     },
     "execution_count": 38,
     "metadata": {},
     "output_type": "execute_result"
    }
   ],
   "source": [
    "# Count absolute frequencies of the values (0, 1, 2, …, 9)\n",
    "\n",
    "H_DigitBeforeComma = DigitBeforeComma.value_counts()\n",
    "H_DigitBeforeComma"
   ],
   "metadata": {
    "collapsed": false,
    "ExecuteTime": {
     "end_time": "2023-11-06T09:03:29.913464Z",
     "start_time": "2023-11-06T09:03:28.236346Z"
    }
   },
   "id": "1bcd7a3e9b1be5a0"
  },
  {
   "cell_type": "code",
   "execution_count": 39,
   "outputs": [
    {
     "data": {
      "text/plain": "Power_divergenceResult(statistic=76.08411214953271, pvalue=9.650328851395323e-13)"
     },
     "execution_count": 39,
     "metadata": {},
     "output_type": "execute_result"
    }
   ],
   "source": [
    "# Carry out Chi-square-test for an equal distribution\n",
    "from scipy.stats import chisquare\n",
    "\n",
    "chisquare(H_DigitBeforeComma)"
   ],
   "metadata": {
    "collapsed": false,
    "ExecuteTime": {
     "end_time": "2023-11-06T09:03:29.934123Z",
     "start_time": "2023-11-06T09:03:28.256765Z"
    }
   },
   "id": "d78af4eabdddd749"
  },
  {
   "cell_type": "markdown",
   "source": [
    "The output shows that the null hypothesis can be rejected at any significance level alpha > 9.65e−13, meaning that the pre-comma digits of the booking values follow a distribution significantly different from the equal distribution."
   ],
   "metadata": {
    "collapsed": false
   },
   "id": "37b98b51a68bb2ae"
  },
  {
   "cell_type": "markdown",
   "source": [
    "Consider booking values in 'df_transactions.Value'. Test the null hypothesis \"H0: The distribution of the first digit after the decimal point follows an equal distribution\" with a Chi square test."
   ],
   "metadata": {
    "collapsed": false
   },
   "id": "fb040f75df65c52f"
  },
  {
   "cell_type": "code",
   "execution_count": 40,
   "outputs": [
    {
     "data": {
      "text/plain": "    0\n0   4\n1   0\n2   4\n3   4\n4   2\n5   3\n6   8\n7   5\n8   0\n9   5\n10  0\n11  0\n12  0\n13  1\n14  8\n15  0\n16  0\n17  0\n18  0\n19  0",
      "text/html": "<div>\n<style scoped>\n    .dataframe tbody tr th:only-of-type {\n        vertical-align: middle;\n    }\n\n    .dataframe tbody tr th {\n        vertical-align: top;\n    }\n\n    .dataframe thead th {\n        text-align: right;\n    }\n</style>\n<table border=\"1\" class=\"dataframe\">\n  <thead>\n    <tr style=\"text-align: right;\">\n      <th></th>\n      <th>0</th>\n    </tr>\n  </thead>\n  <tbody>\n    <tr>\n      <th>0</th>\n      <td>4</td>\n    </tr>\n    <tr>\n      <th>1</th>\n      <td>0</td>\n    </tr>\n    <tr>\n      <th>2</th>\n      <td>4</td>\n    </tr>\n    <tr>\n      <th>3</th>\n      <td>4</td>\n    </tr>\n    <tr>\n      <th>4</th>\n      <td>2</td>\n    </tr>\n    <tr>\n      <th>5</th>\n      <td>3</td>\n    </tr>\n    <tr>\n      <th>6</th>\n      <td>8</td>\n    </tr>\n    <tr>\n      <th>7</th>\n      <td>5</td>\n    </tr>\n    <tr>\n      <th>8</th>\n      <td>0</td>\n    </tr>\n    <tr>\n      <th>9</th>\n      <td>5</td>\n    </tr>\n    <tr>\n      <th>10</th>\n      <td>0</td>\n    </tr>\n    <tr>\n      <th>11</th>\n      <td>0</td>\n    </tr>\n    <tr>\n      <th>12</th>\n      <td>0</td>\n    </tr>\n    <tr>\n      <th>13</th>\n      <td>1</td>\n    </tr>\n    <tr>\n      <th>14</th>\n      <td>8</td>\n    </tr>\n    <tr>\n      <th>15</th>\n      <td>0</td>\n    </tr>\n    <tr>\n      <th>16</th>\n      <td>0</td>\n    </tr>\n    <tr>\n      <th>17</th>\n      <td>0</td>\n    </tr>\n    <tr>\n      <th>18</th>\n      <td>0</td>\n    </tr>\n    <tr>\n      <th>19</th>\n      <td>0</td>\n    </tr>\n  </tbody>\n</table>\n</div>"
     },
     "execution_count": 40,
     "metadata": {},
     "output_type": "execute_result"
    }
   ],
   "source": [
    "# filter after-comma digit\n",
    "\n",
    "DigitAfterComma = pd.DataFrame(int(x * 10) % 10 for x in df_transactions.Value)\n",
    "DigitAfterComma.head(20)"
   ],
   "metadata": {
    "collapsed": false,
    "ExecuteTime": {
     "end_time": "2023-11-06T09:03:29.936163Z",
     "start_time": "2023-11-06T09:03:29.500042Z"
    }
   },
   "id": "1bd2d77ea9eb78fb"
  },
  {
   "cell_type": "code",
   "execution_count": 41,
   "outputs": [
    {
     "data": {
      "text/plain": "0    41\n4    18\n9    14\n5     9\n8     8\n2     7\n1     3\n3     3\n6     3\n7     1\nName: count, dtype: int64"
     },
     "execution_count": 41,
     "metadata": {},
     "output_type": "execute_result"
    }
   ],
   "source": [
    "# Count absolute frequencies of the values (0, 1, 2, …, 9)\n",
    "\n",
    "H_DigitAfterComma = DigitAfterComma.value_counts()\n",
    "H_DigitAfterComma"
   ],
   "metadata": {
    "collapsed": false,
    "ExecuteTime": {
     "end_time": "2023-11-06T09:03:29.937578Z",
     "start_time": "2023-11-06T09:03:29.516689Z"
    }
   },
   "id": "8b179e4e7ae89722"
  },
  {
   "cell_type": "code",
   "execution_count": 42,
   "outputs": [
    {
     "data": {
      "text/plain": "Power_divergenceResult(statistic=119.44859813084113, pvalue=1.732664729994546e-21)"
     },
     "execution_count": 42,
     "metadata": {},
     "output_type": "execute_result"
    }
   ],
   "source": [
    "chisquare(H_DigitAfterComma)"
   ],
   "metadata": {
    "collapsed": false,
    "ExecuteTime": {
     "end_time": "2023-11-06T09:03:29.938850Z",
     "start_time": "2023-11-06T09:03:29.527009Z"
    }
   },
   "id": "df390a89ea25f423"
  },
  {
   "cell_type": "markdown",
   "source": [
    "### Check the leading digit for a Benford distribution\n",
    "\n",
    "> Benford’s law describes the probability of occurrence of leading digits in numbers.\n",
    "\n",
    "For randomly generated posting records, the distribution of the first digits of the posting values should deviate from the equal distribution in accordance with Benford’s law and the distribution according to Benford."
   ],
   "metadata": {
    "collapsed": false
   },
   "id": "ddc6c9ea3ec141bb"
  },
  {
   "cell_type": "code",
   "execution_count": 54,
   "outputs": [
    {
     "data": {
      "text/plain": "array([1, 2, 3, 4, 5, 6, 7, 8, 9])"
     },
     "execution_count": 54,
     "metadata": {},
     "output_type": "execute_result"
    }
   ],
   "source": [
    "import math \n",
    "import numpy as np # a package containing arrays\n",
    "\n",
    "# it creates an array from the values 1 up to 9, meaning that 10 is not included\n",
    "numbers = np.arange(1,10)\n",
    "numbers"
   ],
   "metadata": {
    "collapsed": false,
    "ExecuteTime": {
     "end_time": "2023-11-06T09:30:05.638142Z",
     "start_time": "2023-11-06T09:30:05.366057Z"
    }
   },
   "id": "13d6d01def233e10"
  },
  {
   "cell_type": "code",
   "execution_count": 55,
   "outputs": [
    {
     "data": {
      "text/plain": "[0.3010299956639812,\n 0.17609125905568124,\n 0.12493873660829993,\n 0.09691001300805642,\n 0.07918124604762482,\n 0.06694678963061322,\n 0.05799194697768673,\n 0.05115252244738129,\n 0.04575749056067514]"
     },
     "execution_count": 55,
     "metadata": {},
     "output_type": "execute_result"
    }
   ],
   "source": [
    "# this creates a list\n",
    "\n",
    "Probs = []\n",
    "\n",
    "# 'append' adds everything within its parentheses to the list Prob\n",
    "# given the value for distribution, 'math.log10' calculates the theoretic frequencies of getting 1, 2, ..., 9, e.g. the probability of getting a 1 is 0.30, the probability of getting a 2 is 0.17, and so on. \n",
    "\n",
    "for x in numbers: Probs.append(math.log10(1 + 1/x))\n",
    "\n",
    "Probs"
   ],
   "metadata": {
    "collapsed": false,
    "ExecuteTime": {
     "end_time": "2023-11-06T09:30:24.650246Z",
     "start_time": "2023-11-06T09:30:24.379199Z"
    }
   },
   "id": "d8cab27bb2637909"
  },
  {
   "cell_type": "code",
   "execution_count": 56,
   "outputs": [
    {
     "data": {
      "text/plain": "array([0, 1, 2, 3, 4, 5, 6, 7, 8])"
     },
     "execution_count": 56,
     "metadata": {},
     "output_type": "execute_result"
    }
   ],
   "source": [
    "np.arange(len(numbers)) # length = 9"
   ],
   "metadata": {
    "collapsed": false,
    "ExecuteTime": {
     "end_time": "2023-11-06T09:34:00.819313Z",
     "start_time": "2023-11-06T09:34:00.801691Z"
    }
   },
   "id": "2f008dcde75cbc16"
  },
  {
   "cell_type": "code",
   "execution_count": 57,
   "outputs": [
    {
     "data": {
      "application/vnd.plotly.v1+json": {
       "data": [
        {
         "alignmentgroup": "True",
         "bingroup": "x",
         "histfunc": "sum",
         "histnorm": "probability density",
         "hovertemplate": "x=%{x}<br>probability density weighted by y=%{y}<extra></extra>",
         "legendgroup": "",
         "marker": {
          "color": "#636efa",
          "pattern": {
           "shape": ""
          }
         },
         "name": "",
         "nbinsx": 9,
         "offsetgroup": "",
         "orientation": "v",
         "showlegend": false,
         "x": [
          1,
          2,
          3,
          4,
          5,
          6,
          7,
          8,
          9
         ],
         "xaxis": "x",
         "y": [
          0.3010299956639812,
          0.17609125905568124,
          0.12493873660829993,
          0.09691001300805642,
          0.07918124604762482,
          0.06694678963061322,
          0.05799194697768673,
          0.05115252244738129,
          0.04575749056067514
         ],
         "yaxis": "y",
         "type": "histogram"
        }
       ],
       "layout": {
        "template": {
         "data": {
          "histogram2dcontour": [
           {
            "type": "histogram2dcontour",
            "colorbar": {
             "outlinewidth": 0,
             "ticks": ""
            },
            "colorscale": [
             [
              0.0,
              "#0d0887"
             ],
             [
              0.1111111111111111,
              "#46039f"
             ],
             [
              0.2222222222222222,
              "#7201a8"
             ],
             [
              0.3333333333333333,
              "#9c179e"
             ],
             [
              0.4444444444444444,
              "#bd3786"
             ],
             [
              0.5555555555555556,
              "#d8576b"
             ],
             [
              0.6666666666666666,
              "#ed7953"
             ],
             [
              0.7777777777777778,
              "#fb9f3a"
             ],
             [
              0.8888888888888888,
              "#fdca26"
             ],
             [
              1.0,
              "#f0f921"
             ]
            ]
           }
          ],
          "choropleth": [
           {
            "type": "choropleth",
            "colorbar": {
             "outlinewidth": 0,
             "ticks": ""
            }
           }
          ],
          "histogram2d": [
           {
            "type": "histogram2d",
            "colorbar": {
             "outlinewidth": 0,
             "ticks": ""
            },
            "colorscale": [
             [
              0.0,
              "#0d0887"
             ],
             [
              0.1111111111111111,
              "#46039f"
             ],
             [
              0.2222222222222222,
              "#7201a8"
             ],
             [
              0.3333333333333333,
              "#9c179e"
             ],
             [
              0.4444444444444444,
              "#bd3786"
             ],
             [
              0.5555555555555556,
              "#d8576b"
             ],
             [
              0.6666666666666666,
              "#ed7953"
             ],
             [
              0.7777777777777778,
              "#fb9f3a"
             ],
             [
              0.8888888888888888,
              "#fdca26"
             ],
             [
              1.0,
              "#f0f921"
             ]
            ]
           }
          ],
          "heatmap": [
           {
            "type": "heatmap",
            "colorbar": {
             "outlinewidth": 0,
             "ticks": ""
            },
            "colorscale": [
             [
              0.0,
              "#0d0887"
             ],
             [
              0.1111111111111111,
              "#46039f"
             ],
             [
              0.2222222222222222,
              "#7201a8"
             ],
             [
              0.3333333333333333,
              "#9c179e"
             ],
             [
              0.4444444444444444,
              "#bd3786"
             ],
             [
              0.5555555555555556,
              "#d8576b"
             ],
             [
              0.6666666666666666,
              "#ed7953"
             ],
             [
              0.7777777777777778,
              "#fb9f3a"
             ],
             [
              0.8888888888888888,
              "#fdca26"
             ],
             [
              1.0,
              "#f0f921"
             ]
            ]
           }
          ],
          "heatmapgl": [
           {
            "type": "heatmapgl",
            "colorbar": {
             "outlinewidth": 0,
             "ticks": ""
            },
            "colorscale": [
             [
              0.0,
              "#0d0887"
             ],
             [
              0.1111111111111111,
              "#46039f"
             ],
             [
              0.2222222222222222,
              "#7201a8"
             ],
             [
              0.3333333333333333,
              "#9c179e"
             ],
             [
              0.4444444444444444,
              "#bd3786"
             ],
             [
              0.5555555555555556,
              "#d8576b"
             ],
             [
              0.6666666666666666,
              "#ed7953"
             ],
             [
              0.7777777777777778,
              "#fb9f3a"
             ],
             [
              0.8888888888888888,
              "#fdca26"
             ],
             [
              1.0,
              "#f0f921"
             ]
            ]
           }
          ],
          "contourcarpet": [
           {
            "type": "contourcarpet",
            "colorbar": {
             "outlinewidth": 0,
             "ticks": ""
            }
           }
          ],
          "contour": [
           {
            "type": "contour",
            "colorbar": {
             "outlinewidth": 0,
             "ticks": ""
            },
            "colorscale": [
             [
              0.0,
              "#0d0887"
             ],
             [
              0.1111111111111111,
              "#46039f"
             ],
             [
              0.2222222222222222,
              "#7201a8"
             ],
             [
              0.3333333333333333,
              "#9c179e"
             ],
             [
              0.4444444444444444,
              "#bd3786"
             ],
             [
              0.5555555555555556,
              "#d8576b"
             ],
             [
              0.6666666666666666,
              "#ed7953"
             ],
             [
              0.7777777777777778,
              "#fb9f3a"
             ],
             [
              0.8888888888888888,
              "#fdca26"
             ],
             [
              1.0,
              "#f0f921"
             ]
            ]
           }
          ],
          "surface": [
           {
            "type": "surface",
            "colorbar": {
             "outlinewidth": 0,
             "ticks": ""
            },
            "colorscale": [
             [
              0.0,
              "#0d0887"
             ],
             [
              0.1111111111111111,
              "#46039f"
             ],
             [
              0.2222222222222222,
              "#7201a8"
             ],
             [
              0.3333333333333333,
              "#9c179e"
             ],
             [
              0.4444444444444444,
              "#bd3786"
             ],
             [
              0.5555555555555556,
              "#d8576b"
             ],
             [
              0.6666666666666666,
              "#ed7953"
             ],
             [
              0.7777777777777778,
              "#fb9f3a"
             ],
             [
              0.8888888888888888,
              "#fdca26"
             ],
             [
              1.0,
              "#f0f921"
             ]
            ]
           }
          ],
          "mesh3d": [
           {
            "type": "mesh3d",
            "colorbar": {
             "outlinewidth": 0,
             "ticks": ""
            }
           }
          ],
          "scatter": [
           {
            "marker": {
             "line": {
              "color": "#283442"
             }
            },
            "type": "scatter"
           }
          ],
          "parcoords": [
           {
            "type": "parcoords",
            "line": {
             "colorbar": {
              "outlinewidth": 0,
              "ticks": ""
             }
            }
           }
          ],
          "scatterpolargl": [
           {
            "type": "scatterpolargl",
            "marker": {
             "colorbar": {
              "outlinewidth": 0,
              "ticks": ""
             }
            }
           }
          ],
          "bar": [
           {
            "error_x": {
             "color": "#f2f5fa"
            },
            "error_y": {
             "color": "#f2f5fa"
            },
            "marker": {
             "line": {
              "color": "rgb(17,17,17)",
              "width": 0.5
             },
             "pattern": {
              "fillmode": "overlay",
              "size": 10,
              "solidity": 0.2
             }
            },
            "type": "bar"
           }
          ],
          "scattergeo": [
           {
            "type": "scattergeo",
            "marker": {
             "colorbar": {
              "outlinewidth": 0,
              "ticks": ""
             }
            }
           }
          ],
          "scatterpolar": [
           {
            "type": "scatterpolar",
            "marker": {
             "colorbar": {
              "outlinewidth": 0,
              "ticks": ""
             }
            }
           }
          ],
          "histogram": [
           {
            "marker": {
             "pattern": {
              "fillmode": "overlay",
              "size": 10,
              "solidity": 0.2
             }
            },
            "type": "histogram"
           }
          ],
          "scattergl": [
           {
            "marker": {
             "line": {
              "color": "#283442"
             }
            },
            "type": "scattergl"
           }
          ],
          "scatter3d": [
           {
            "type": "scatter3d",
            "line": {
             "colorbar": {
              "outlinewidth": 0,
              "ticks": ""
             }
            },
            "marker": {
             "colorbar": {
              "outlinewidth": 0,
              "ticks": ""
             }
            }
           }
          ],
          "scattermapbox": [
           {
            "type": "scattermapbox",
            "marker": {
             "colorbar": {
              "outlinewidth": 0,
              "ticks": ""
             }
            }
           }
          ],
          "scatterternary": [
           {
            "type": "scatterternary",
            "marker": {
             "colorbar": {
              "outlinewidth": 0,
              "ticks": ""
             }
            }
           }
          ],
          "scattercarpet": [
           {
            "type": "scattercarpet",
            "marker": {
             "colorbar": {
              "outlinewidth": 0,
              "ticks": ""
             }
            }
           }
          ],
          "carpet": [
           {
            "aaxis": {
             "endlinecolor": "#A2B1C6",
             "gridcolor": "#506784",
             "linecolor": "#506784",
             "minorgridcolor": "#506784",
             "startlinecolor": "#A2B1C6"
            },
            "baxis": {
             "endlinecolor": "#A2B1C6",
             "gridcolor": "#506784",
             "linecolor": "#506784",
             "minorgridcolor": "#506784",
             "startlinecolor": "#A2B1C6"
            },
            "type": "carpet"
           }
          ],
          "table": [
           {
            "cells": {
             "fill": {
              "color": "#506784"
             },
             "line": {
              "color": "rgb(17,17,17)"
             }
            },
            "header": {
             "fill": {
              "color": "#2a3f5f"
             },
             "line": {
              "color": "rgb(17,17,17)"
             }
            },
            "type": "table"
           }
          ],
          "barpolar": [
           {
            "marker": {
             "line": {
              "color": "rgb(17,17,17)",
              "width": 0.5
             },
             "pattern": {
              "fillmode": "overlay",
              "size": 10,
              "solidity": 0.2
             }
            },
            "type": "barpolar"
           }
          ],
          "pie": [
           {
            "automargin": true,
            "type": "pie"
           }
          ]
         },
         "layout": {
          "autotypenumbers": "strict",
          "colorway": [
           "#636efa",
           "#EF553B",
           "#00cc96",
           "#ab63fa",
           "#FFA15A",
           "#19d3f3",
           "#FF6692",
           "#B6E880",
           "#FF97FF",
           "#FECB52"
          ],
          "font": {
           "color": "#f2f5fa"
          },
          "hovermode": "closest",
          "hoverlabel": {
           "align": "left"
          },
          "paper_bgcolor": "rgb(17,17,17)",
          "plot_bgcolor": "rgb(17,17,17)",
          "polar": {
           "bgcolor": "rgb(17,17,17)",
           "angularaxis": {
            "gridcolor": "#506784",
            "linecolor": "#506784",
            "ticks": ""
           },
           "radialaxis": {
            "gridcolor": "#506784",
            "linecolor": "#506784",
            "ticks": ""
           }
          },
          "ternary": {
           "bgcolor": "rgb(17,17,17)",
           "aaxis": {
            "gridcolor": "#506784",
            "linecolor": "#506784",
            "ticks": ""
           },
           "baxis": {
            "gridcolor": "#506784",
            "linecolor": "#506784",
            "ticks": ""
           },
           "caxis": {
            "gridcolor": "#506784",
            "linecolor": "#506784",
            "ticks": ""
           }
          },
          "coloraxis": {
           "colorbar": {
            "outlinewidth": 0,
            "ticks": ""
           }
          },
          "colorscale": {
           "sequential": [
            [
             0.0,
             "#0d0887"
            ],
            [
             0.1111111111111111,
             "#46039f"
            ],
            [
             0.2222222222222222,
             "#7201a8"
            ],
            [
             0.3333333333333333,
             "#9c179e"
            ],
            [
             0.4444444444444444,
             "#bd3786"
            ],
            [
             0.5555555555555556,
             "#d8576b"
            ],
            [
             0.6666666666666666,
             "#ed7953"
            ],
            [
             0.7777777777777778,
             "#fb9f3a"
            ],
            [
             0.8888888888888888,
             "#fdca26"
            ],
            [
             1.0,
             "#f0f921"
            ]
           ],
           "sequentialminus": [
            [
             0.0,
             "#0d0887"
            ],
            [
             0.1111111111111111,
             "#46039f"
            ],
            [
             0.2222222222222222,
             "#7201a8"
            ],
            [
             0.3333333333333333,
             "#9c179e"
            ],
            [
             0.4444444444444444,
             "#bd3786"
            ],
            [
             0.5555555555555556,
             "#d8576b"
            ],
            [
             0.6666666666666666,
             "#ed7953"
            ],
            [
             0.7777777777777778,
             "#fb9f3a"
            ],
            [
             0.8888888888888888,
             "#fdca26"
            ],
            [
             1.0,
             "#f0f921"
            ]
           ],
           "diverging": [
            [
             0,
             "#8e0152"
            ],
            [
             0.1,
             "#c51b7d"
            ],
            [
             0.2,
             "#de77ae"
            ],
            [
             0.3,
             "#f1b6da"
            ],
            [
             0.4,
             "#fde0ef"
            ],
            [
             0.5,
             "#f7f7f7"
            ],
            [
             0.6,
             "#e6f5d0"
            ],
            [
             0.7,
             "#b8e186"
            ],
            [
             0.8,
             "#7fbc41"
            ],
            [
             0.9,
             "#4d9221"
            ],
            [
             1,
             "#276419"
            ]
           ]
          },
          "xaxis": {
           "gridcolor": "#283442",
           "linecolor": "#506784",
           "ticks": "",
           "title": {
            "standoff": 15
           },
           "zerolinecolor": "#283442",
           "automargin": true,
           "zerolinewidth": 2
          },
          "yaxis": {
           "gridcolor": "#283442",
           "linecolor": "#506784",
           "ticks": "",
           "title": {
            "standoff": 15
           },
           "zerolinecolor": "#283442",
           "automargin": true,
           "zerolinewidth": 2
          },
          "scene": {
           "xaxis": {
            "backgroundcolor": "rgb(17,17,17)",
            "gridcolor": "#506784",
            "linecolor": "#506784",
            "showbackground": true,
            "ticks": "",
            "zerolinecolor": "#C8D4E3",
            "gridwidth": 2
           },
           "yaxis": {
            "backgroundcolor": "rgb(17,17,17)",
            "gridcolor": "#506784",
            "linecolor": "#506784",
            "showbackground": true,
            "ticks": "",
            "zerolinecolor": "#C8D4E3",
            "gridwidth": 2
           },
           "zaxis": {
            "backgroundcolor": "rgb(17,17,17)",
            "gridcolor": "#506784",
            "linecolor": "#506784",
            "showbackground": true,
            "ticks": "",
            "zerolinecolor": "#C8D4E3",
            "gridwidth": 2
           }
          },
          "shapedefaults": {
           "line": {
            "color": "#f2f5fa"
           }
          },
          "annotationdefaults": {
           "arrowcolor": "#f2f5fa",
           "arrowhead": 0,
           "arrowwidth": 1
          },
          "geo": {
           "bgcolor": "rgb(17,17,17)",
           "landcolor": "rgb(17,17,17)",
           "subunitcolor": "#506784",
           "showland": true,
           "showlakes": true,
           "lakecolor": "rgb(17,17,17)"
          },
          "title": {
           "x": 0.05
          },
          "updatemenudefaults": {
           "bgcolor": "#506784",
           "borderwidth": 0
          },
          "sliderdefaults": {
           "bgcolor": "#C8D4E3",
           "borderwidth": 1,
           "bordercolor": "rgb(17,17,17)",
           "tickwidth": 0
          },
          "mapbox": {
           "style": "dark"
          }
         }
        },
        "xaxis": {
         "anchor": "y",
         "domain": [
          0.0,
          1.0
         ],
         "title": {
          "text": "x"
         }
        },
        "yaxis": {
         "anchor": "x",
         "domain": [
          0.0,
          1.0
         ],
         "title": {
          "text": "probability density weighted by y"
         }
        },
        "legend": {
         "tracegroupgap": 0
        },
        "margin": {
         "t": 60
        },
        "barmode": "relative",
        "bargap": 0.1
       },
       "config": {
        "plotlyServerURL": "https://plot.ly"
       }
      },
      "text/html": "<div>                            <div id=\"2b063f8e-2068-4f51-b189-ec1bee32e025\" class=\"plotly-graph-div\" style=\"height:525px; width:100%;\"></div>            <script type=\"text/javascript\">                require([\"plotly\"], function(Plotly) {                    window.PLOTLYENV=window.PLOTLYENV || {};                                    if (document.getElementById(\"2b063f8e-2068-4f51-b189-ec1bee32e025\")) {                    Plotly.newPlot(                        \"2b063f8e-2068-4f51-b189-ec1bee32e025\",                        [{\"alignmentgroup\":\"True\",\"bingroup\":\"x\",\"histfunc\":\"sum\",\"histnorm\":\"probability density\",\"hovertemplate\":\"x=%{x}\\u003cbr\\u003eprobability density weighted by y=%{y}\\u003cextra\\u003e\\u003c\\u002fextra\\u003e\",\"legendgroup\":\"\",\"marker\":{\"color\":\"#636efa\",\"pattern\":{\"shape\":\"\"}},\"name\":\"\",\"nbinsx\":9,\"offsetgroup\":\"\",\"orientation\":\"v\",\"showlegend\":false,\"x\":[1,2,3,4,5,6,7,8,9],\"xaxis\":\"x\",\"y\":[0.3010299956639812,0.17609125905568124,0.12493873660829993,0.09691001300805642,0.07918124604762482,0.06694678963061322,0.05799194697768673,0.05115252244738129,0.04575749056067514],\"yaxis\":\"y\",\"type\":\"histogram\"}],                        {\"template\":{\"data\":{\"histogram2dcontour\":[{\"type\":\"histogram2dcontour\",\"colorbar\":{\"outlinewidth\":0,\"ticks\":\"\"},\"colorscale\":[[0.0,\"#0d0887\"],[0.1111111111111111,\"#46039f\"],[0.2222222222222222,\"#7201a8\"],[0.3333333333333333,\"#9c179e\"],[0.4444444444444444,\"#bd3786\"],[0.5555555555555556,\"#d8576b\"],[0.6666666666666666,\"#ed7953\"],[0.7777777777777778,\"#fb9f3a\"],[0.8888888888888888,\"#fdca26\"],[1.0,\"#f0f921\"]]}],\"choropleth\":[{\"type\":\"choropleth\",\"colorbar\":{\"outlinewidth\":0,\"ticks\":\"\"}}],\"histogram2d\":[{\"type\":\"histogram2d\",\"colorbar\":{\"outlinewidth\":0,\"ticks\":\"\"},\"colorscale\":[[0.0,\"#0d0887\"],[0.1111111111111111,\"#46039f\"],[0.2222222222222222,\"#7201a8\"],[0.3333333333333333,\"#9c179e\"],[0.4444444444444444,\"#bd3786\"],[0.5555555555555556,\"#d8576b\"],[0.6666666666666666,\"#ed7953\"],[0.7777777777777778,\"#fb9f3a\"],[0.8888888888888888,\"#fdca26\"],[1.0,\"#f0f921\"]]}],\"heatmap\":[{\"type\":\"heatmap\",\"colorbar\":{\"outlinewidth\":0,\"ticks\":\"\"},\"colorscale\":[[0.0,\"#0d0887\"],[0.1111111111111111,\"#46039f\"],[0.2222222222222222,\"#7201a8\"],[0.3333333333333333,\"#9c179e\"],[0.4444444444444444,\"#bd3786\"],[0.5555555555555556,\"#d8576b\"],[0.6666666666666666,\"#ed7953\"],[0.7777777777777778,\"#fb9f3a\"],[0.8888888888888888,\"#fdca26\"],[1.0,\"#f0f921\"]]}],\"heatmapgl\":[{\"type\":\"heatmapgl\",\"colorbar\":{\"outlinewidth\":0,\"ticks\":\"\"},\"colorscale\":[[0.0,\"#0d0887\"],[0.1111111111111111,\"#46039f\"],[0.2222222222222222,\"#7201a8\"],[0.3333333333333333,\"#9c179e\"],[0.4444444444444444,\"#bd3786\"],[0.5555555555555556,\"#d8576b\"],[0.6666666666666666,\"#ed7953\"],[0.7777777777777778,\"#fb9f3a\"],[0.8888888888888888,\"#fdca26\"],[1.0,\"#f0f921\"]]}],\"contourcarpet\":[{\"type\":\"contourcarpet\",\"colorbar\":{\"outlinewidth\":0,\"ticks\":\"\"}}],\"contour\":[{\"type\":\"contour\",\"colorbar\":{\"outlinewidth\":0,\"ticks\":\"\"},\"colorscale\":[[0.0,\"#0d0887\"],[0.1111111111111111,\"#46039f\"],[0.2222222222222222,\"#7201a8\"],[0.3333333333333333,\"#9c179e\"],[0.4444444444444444,\"#bd3786\"],[0.5555555555555556,\"#d8576b\"],[0.6666666666666666,\"#ed7953\"],[0.7777777777777778,\"#fb9f3a\"],[0.8888888888888888,\"#fdca26\"],[1.0,\"#f0f921\"]]}],\"surface\":[{\"type\":\"surface\",\"colorbar\":{\"outlinewidth\":0,\"ticks\":\"\"},\"colorscale\":[[0.0,\"#0d0887\"],[0.1111111111111111,\"#46039f\"],[0.2222222222222222,\"#7201a8\"],[0.3333333333333333,\"#9c179e\"],[0.4444444444444444,\"#bd3786\"],[0.5555555555555556,\"#d8576b\"],[0.6666666666666666,\"#ed7953\"],[0.7777777777777778,\"#fb9f3a\"],[0.8888888888888888,\"#fdca26\"],[1.0,\"#f0f921\"]]}],\"mesh3d\":[{\"type\":\"mesh3d\",\"colorbar\":{\"outlinewidth\":0,\"ticks\":\"\"}}],\"scatter\":[{\"marker\":{\"line\":{\"color\":\"#283442\"}},\"type\":\"scatter\"}],\"parcoords\":[{\"type\":\"parcoords\",\"line\":{\"colorbar\":{\"outlinewidth\":0,\"ticks\":\"\"}}}],\"scatterpolargl\":[{\"type\":\"scatterpolargl\",\"marker\":{\"colorbar\":{\"outlinewidth\":0,\"ticks\":\"\"}}}],\"bar\":[{\"error_x\":{\"color\":\"#f2f5fa\"},\"error_y\":{\"color\":\"#f2f5fa\"},\"marker\":{\"line\":{\"color\":\"rgb(17,17,17)\",\"width\":0.5},\"pattern\":{\"fillmode\":\"overlay\",\"size\":10,\"solidity\":0.2}},\"type\":\"bar\"}],\"scattergeo\":[{\"type\":\"scattergeo\",\"marker\":{\"colorbar\":{\"outlinewidth\":0,\"ticks\":\"\"}}}],\"scatterpolar\":[{\"type\":\"scatterpolar\",\"marker\":{\"colorbar\":{\"outlinewidth\":0,\"ticks\":\"\"}}}],\"histogram\":[{\"marker\":{\"pattern\":{\"fillmode\":\"overlay\",\"size\":10,\"solidity\":0.2}},\"type\":\"histogram\"}],\"scattergl\":[{\"marker\":{\"line\":{\"color\":\"#283442\"}},\"type\":\"scattergl\"}],\"scatter3d\":[{\"type\":\"scatter3d\",\"line\":{\"colorbar\":{\"outlinewidth\":0,\"ticks\":\"\"}},\"marker\":{\"colorbar\":{\"outlinewidth\":0,\"ticks\":\"\"}}}],\"scattermapbox\":[{\"type\":\"scattermapbox\",\"marker\":{\"colorbar\":{\"outlinewidth\":0,\"ticks\":\"\"}}}],\"scatterternary\":[{\"type\":\"scatterternary\",\"marker\":{\"colorbar\":{\"outlinewidth\":0,\"ticks\":\"\"}}}],\"scattercarpet\":[{\"type\":\"scattercarpet\",\"marker\":{\"colorbar\":{\"outlinewidth\":0,\"ticks\":\"\"}}}],\"carpet\":[{\"aaxis\":{\"endlinecolor\":\"#A2B1C6\",\"gridcolor\":\"#506784\",\"linecolor\":\"#506784\",\"minorgridcolor\":\"#506784\",\"startlinecolor\":\"#A2B1C6\"},\"baxis\":{\"endlinecolor\":\"#A2B1C6\",\"gridcolor\":\"#506784\",\"linecolor\":\"#506784\",\"minorgridcolor\":\"#506784\",\"startlinecolor\":\"#A2B1C6\"},\"type\":\"carpet\"}],\"table\":[{\"cells\":{\"fill\":{\"color\":\"#506784\"},\"line\":{\"color\":\"rgb(17,17,17)\"}},\"header\":{\"fill\":{\"color\":\"#2a3f5f\"},\"line\":{\"color\":\"rgb(17,17,17)\"}},\"type\":\"table\"}],\"barpolar\":[{\"marker\":{\"line\":{\"color\":\"rgb(17,17,17)\",\"width\":0.5},\"pattern\":{\"fillmode\":\"overlay\",\"size\":10,\"solidity\":0.2}},\"type\":\"barpolar\"}],\"pie\":[{\"automargin\":true,\"type\":\"pie\"}]},\"layout\":{\"autotypenumbers\":\"strict\",\"colorway\":[\"#636efa\",\"#EF553B\",\"#00cc96\",\"#ab63fa\",\"#FFA15A\",\"#19d3f3\",\"#FF6692\",\"#B6E880\",\"#FF97FF\",\"#FECB52\"],\"font\":{\"color\":\"#f2f5fa\"},\"hovermode\":\"closest\",\"hoverlabel\":{\"align\":\"left\"},\"paper_bgcolor\":\"rgb(17,17,17)\",\"plot_bgcolor\":\"rgb(17,17,17)\",\"polar\":{\"bgcolor\":\"rgb(17,17,17)\",\"angularaxis\":{\"gridcolor\":\"#506784\",\"linecolor\":\"#506784\",\"ticks\":\"\"},\"radialaxis\":{\"gridcolor\":\"#506784\",\"linecolor\":\"#506784\",\"ticks\":\"\"}},\"ternary\":{\"bgcolor\":\"rgb(17,17,17)\",\"aaxis\":{\"gridcolor\":\"#506784\",\"linecolor\":\"#506784\",\"ticks\":\"\"},\"baxis\":{\"gridcolor\":\"#506784\",\"linecolor\":\"#506784\",\"ticks\":\"\"},\"caxis\":{\"gridcolor\":\"#506784\",\"linecolor\":\"#506784\",\"ticks\":\"\"}},\"coloraxis\":{\"colorbar\":{\"outlinewidth\":0,\"ticks\":\"\"}},\"colorscale\":{\"sequential\":[[0.0,\"#0d0887\"],[0.1111111111111111,\"#46039f\"],[0.2222222222222222,\"#7201a8\"],[0.3333333333333333,\"#9c179e\"],[0.4444444444444444,\"#bd3786\"],[0.5555555555555556,\"#d8576b\"],[0.6666666666666666,\"#ed7953\"],[0.7777777777777778,\"#fb9f3a\"],[0.8888888888888888,\"#fdca26\"],[1.0,\"#f0f921\"]],\"sequentialminus\":[[0.0,\"#0d0887\"],[0.1111111111111111,\"#46039f\"],[0.2222222222222222,\"#7201a8\"],[0.3333333333333333,\"#9c179e\"],[0.4444444444444444,\"#bd3786\"],[0.5555555555555556,\"#d8576b\"],[0.6666666666666666,\"#ed7953\"],[0.7777777777777778,\"#fb9f3a\"],[0.8888888888888888,\"#fdca26\"],[1.0,\"#f0f921\"]],\"diverging\":[[0,\"#8e0152\"],[0.1,\"#c51b7d\"],[0.2,\"#de77ae\"],[0.3,\"#f1b6da\"],[0.4,\"#fde0ef\"],[0.5,\"#f7f7f7\"],[0.6,\"#e6f5d0\"],[0.7,\"#b8e186\"],[0.8,\"#7fbc41\"],[0.9,\"#4d9221\"],[1,\"#276419\"]]},\"xaxis\":{\"gridcolor\":\"#283442\",\"linecolor\":\"#506784\",\"ticks\":\"\",\"title\":{\"standoff\":15},\"zerolinecolor\":\"#283442\",\"automargin\":true,\"zerolinewidth\":2},\"yaxis\":{\"gridcolor\":\"#283442\",\"linecolor\":\"#506784\",\"ticks\":\"\",\"title\":{\"standoff\":15},\"zerolinecolor\":\"#283442\",\"automargin\":true,\"zerolinewidth\":2},\"scene\":{\"xaxis\":{\"backgroundcolor\":\"rgb(17,17,17)\",\"gridcolor\":\"#506784\",\"linecolor\":\"#506784\",\"showbackground\":true,\"ticks\":\"\",\"zerolinecolor\":\"#C8D4E3\",\"gridwidth\":2},\"yaxis\":{\"backgroundcolor\":\"rgb(17,17,17)\",\"gridcolor\":\"#506784\",\"linecolor\":\"#506784\",\"showbackground\":true,\"ticks\":\"\",\"zerolinecolor\":\"#C8D4E3\",\"gridwidth\":2},\"zaxis\":{\"backgroundcolor\":\"rgb(17,17,17)\",\"gridcolor\":\"#506784\",\"linecolor\":\"#506784\",\"showbackground\":true,\"ticks\":\"\",\"zerolinecolor\":\"#C8D4E3\",\"gridwidth\":2}},\"shapedefaults\":{\"line\":{\"color\":\"#f2f5fa\"}},\"annotationdefaults\":{\"arrowcolor\":\"#f2f5fa\",\"arrowhead\":0,\"arrowwidth\":1},\"geo\":{\"bgcolor\":\"rgb(17,17,17)\",\"landcolor\":\"rgb(17,17,17)\",\"subunitcolor\":\"#506784\",\"showland\":true,\"showlakes\":true,\"lakecolor\":\"rgb(17,17,17)\"},\"title\":{\"x\":0.05},\"updatemenudefaults\":{\"bgcolor\":\"#506784\",\"borderwidth\":0},\"sliderdefaults\":{\"bgcolor\":\"#C8D4E3\",\"borderwidth\":1,\"bordercolor\":\"rgb(17,17,17)\",\"tickwidth\":0},\"mapbox\":{\"style\":\"dark\"}}},\"xaxis\":{\"anchor\":\"y\",\"domain\":[0.0,1.0],\"title\":{\"text\":\"x\"}},\"yaxis\":{\"anchor\":\"x\",\"domain\":[0.0,1.0],\"title\":{\"text\":\"probability density weighted by y\"}},\"legend\":{\"tracegroupgap\":0},\"margin\":{\"t\":60},\"barmode\":\"relative\",\"bargap\":0.1},                        {\"responsive\": true}                    ).then(function(){\n                            \nvar gd = document.getElementById('2b063f8e-2068-4f51-b189-ec1bee32e025');\nvar x = new MutationObserver(function (mutations, observer) {{\n        var display = window.getComputedStyle(gd).display;\n        if (!display || display === 'none') {{\n            console.log([gd, 'removed!']);\n            Plotly.purge(gd);\n            observer.disconnect();\n        }}\n}});\n\n// Listen for the removal of the full notebook cells\nvar notebookContainer = gd.closest('#notebook-container');\nif (notebookContainer) {{\n    x.observe(notebookContainer, {childList: true});\n}}\n\n// Listen for the clearing of the current output cell\nvar outputEl = gd.closest('.output');\nif (outputEl) {{\n    x.observe(outputEl, {childList: true});\n}}\n\n                        })                };                });            </script>        </div>"
     },
     "metadata": {},
     "output_type": "display_data"
    }
   ],
   "source": [
    "import plotly.express as px\n",
    "\n",
    "fig = px.histogram(x = numbers, y = Probs, nbins = 9, histnorm =\"probability density\",\n",
    "                   category_orders=dict(day=[\"1\", \"2\", \"3\", \"4\", \"5\", \"6\", \"7\", \"8\", \"9\"]))\n",
    "fig.update_layout(bargap=0.1) # it adds a gap between the bins\n",
    "fig"
   ],
   "metadata": {
    "collapsed": false,
    "ExecuteTime": {
     "end_time": "2023-11-06T09:36:45.961157Z",
     "start_time": "2023-11-06T09:36:45.809257Z"
    }
   },
   "id": "996dc772de35f308"
  },
  {
   "cell_type": "code",
   "execution_count": 45,
   "outputs": [
    {
     "data": {
      "text/plain": "     0\n0    3\n1    1\n2    2\n3    1\n4    2\n..  ..\n102  2\n103  1\n104  4\n105  1\n106  4\n\n[107 rows x 1 columns]",
      "text/html": "<div>\n<style scoped>\n    .dataframe tbody tr th:only-of-type {\n        vertical-align: middle;\n    }\n\n    .dataframe tbody tr th {\n        vertical-align: top;\n    }\n\n    .dataframe thead th {\n        text-align: right;\n    }\n</style>\n<table border=\"1\" class=\"dataframe\">\n  <thead>\n    <tr style=\"text-align: right;\">\n      <th></th>\n      <th>0</th>\n    </tr>\n  </thead>\n  <tbody>\n    <tr>\n      <th>0</th>\n      <td>3</td>\n    </tr>\n    <tr>\n      <th>1</th>\n      <td>1</td>\n    </tr>\n    <tr>\n      <th>2</th>\n      <td>2</td>\n    </tr>\n    <tr>\n      <th>3</th>\n      <td>1</td>\n    </tr>\n    <tr>\n      <th>4</th>\n      <td>2</td>\n    </tr>\n    <tr>\n      <th>...</th>\n      <td>...</td>\n    </tr>\n    <tr>\n      <th>102</th>\n      <td>2</td>\n    </tr>\n    <tr>\n      <th>103</th>\n      <td>1</td>\n    </tr>\n    <tr>\n      <th>104</th>\n      <td>4</td>\n    </tr>\n    <tr>\n      <th>105</th>\n      <td>1</td>\n    </tr>\n    <tr>\n      <th>106</th>\n      <td>4</td>\n    </tr>\n  </tbody>\n</table>\n<p>107 rows × 1 columns</p>\n</div>"
     },
     "execution_count": 45,
     "metadata": {},
     "output_type": "execute_result"
    }
   ],
   "source": [
    "# The chi-square test can be used to verify whether the first digits of the booking records of the Benford distribution are sufficiently adjusted. The procedure is analogous to examining the first digits for equal distribution.\n",
    "\n",
    "FirstDigit = pd.DataFrame(map(int, [str(x)[0] for x in INT]))\n",
    "FirstDigit"
   ],
   "metadata": {
    "collapsed": false,
    "ExecuteTime": {
     "end_time": "2023-11-06T09:03:32.255567Z",
     "start_time": "2023-11-06T09:03:30.374682Z"
    }
   },
   "id": "bdd11410ae7dac38"
  },
  {
   "cell_type": "code",
   "execution_count": 60,
   "outputs": [
    {
     "data": {
      "text/plain": "   count\n0       \n1   30.0\n2   12.0\n3   15.0\n4   15.0\n5   12.0\n6    9.0\n7   10.0\n8    4.0\n9    0.0",
      "text/html": "<div>\n<style scoped>\n    .dataframe tbody tr th:only-of-type {\n        vertical-align: middle;\n    }\n\n    .dataframe tbody tr th {\n        vertical-align: top;\n    }\n\n    .dataframe thead th {\n        text-align: right;\n    }\n</style>\n<table border=\"1\" class=\"dataframe\">\n  <thead>\n    <tr style=\"text-align: right;\">\n      <th></th>\n      <th>count</th>\n    </tr>\n    <tr>\n      <th>0</th>\n      <th></th>\n    </tr>\n  </thead>\n  <tbody>\n    <tr>\n      <th>1</th>\n      <td>30.0</td>\n    </tr>\n    <tr>\n      <th>2</th>\n      <td>12.0</td>\n    </tr>\n    <tr>\n      <th>3</th>\n      <td>15.0</td>\n    </tr>\n    <tr>\n      <th>4</th>\n      <td>15.0</td>\n    </tr>\n    <tr>\n      <th>5</th>\n      <td>12.0</td>\n    </tr>\n    <tr>\n      <th>6</th>\n      <td>9.0</td>\n    </tr>\n    <tr>\n      <th>7</th>\n      <td>10.0</td>\n    </tr>\n    <tr>\n      <th>8</th>\n      <td>4.0</td>\n    </tr>\n    <tr>\n      <th>9</th>\n      <td>0.0</td>\n    </tr>\n  </tbody>\n</table>\n</div>"
     },
     "execution_count": 60,
     "metadata": {},
     "output_type": "execute_result"
    }
   ],
   "source": [
    "H_FirstDigit = pd.DataFrame(FirstDigit.value_counts().sort_index())\n",
    "H_FirstDigit.loc[9,\"count\"] = 0 # manually add a 0 for the row 9 that has no observation (NaN)\n",
    "\n",
    "H_FirstDigit"
   ],
   "metadata": {
    "collapsed": false,
    "ExecuteTime": {
     "end_time": "2023-11-06T09:39:36.813410Z",
     "start_time": "2023-11-06T09:39:36.768758Z"
    }
   },
   "id": "de0dc32716f24541"
  },
  {
   "cell_type": "code",
   "execution_count": 61,
   "outputs": [
    {
     "data": {
      "text/plain": "[32.21020953604599,\n 18.841764718957894,\n 13.368444817088093,\n 10.369371391862037,\n 8.472393327095855,\n 7.163306490475614,\n 6.20513832661248,\n 5.473319901869798,\n 4.8960514899922405]"
     },
     "execution_count": 61,
     "metadata": {},
     "output_type": "execute_result"
    }
   ],
   "source": [
    "Probs = []\n",
    "\n",
    "for x in numbers:\n",
    "    Probs.append(math.log10(1 + 1/x)) # create the expected probabilities\n",
    "\n",
    "for i in range(0, len(Probs)):\n",
    "    Probs[i] = Probs[i] * len(FirstDigit)\n",
    "\n",
    "Probs"
   ],
   "metadata": {
    "collapsed": false,
    "ExecuteTime": {
     "end_time": "2023-11-06T09:40:21.355268Z",
     "start_time": "2023-11-06T09:40:21.324725Z"
    }
   },
   "id": "75ad46547aed0640"
  },
  {
   "cell_type": "code",
   "execution_count": 62,
   "outputs": [
    {
     "data": {
      "text/plain": "Power_divergenceResult(statistic=14.45619805497751, pvalue=0.07062274443468691)"
     },
     "execution_count": 62,
     "metadata": {},
     "output_type": "execute_result"
    }
   ],
   "source": [
    "chisquare(f_obs=H_FirstDigit[\"count\"], f_exp=Probs)"
   ],
   "metadata": {
    "collapsed": false,
    "ExecuteTime": {
     "end_time": "2023-11-06T09:40:27.770341Z",
     "start_time": "2023-11-06T09:40:27.730556Z"
    }
   },
   "id": "d3adf1fcb0fb6ba0"
  },
  {
   "cell_type": "markdown",
   "source": [
    "The output shows that the null hypothesis cannot be rejected at a significance level of alpha=5%, since 0.05 < 0.07062. Thus, at the 5% significance level no deviation of the distribution of the first digit from the Benford distribution can be substantiated, though at the 10% significance level it can be."
   ],
   "metadata": {
    "collapsed": false
   },
   "id": "ca505ddb1cbfcd66"
  },
  {
   "cell_type": "markdown",
   "source": [
    "Consider booking values in 'df_transactions.Value'. Test the null hypothesis \"H0: The distribution of the first digit of transaction values greater than 100 follows a Benford distribution\" with a Chi square test."
   ],
   "metadata": {
    "collapsed": false
   },
   "id": "1b4f42b4073fda43"
  },
  {
   "cell_type": "code",
   "execution_count": 49,
   "outputs": [
    {
     "data": {
      "text/plain": "   0\n0  1\n1  1\n2  2\n3  1\n4  3",
      "text/html": "<div>\n<style scoped>\n    .dataframe tbody tr th:only-of-type {\n        vertical-align: middle;\n    }\n\n    .dataframe tbody tr th {\n        vertical-align: top;\n    }\n\n    .dataframe thead th {\n        text-align: right;\n    }\n</style>\n<table border=\"1\" class=\"dataframe\">\n  <thead>\n    <tr style=\"text-align: right;\">\n      <th></th>\n      <th>0</th>\n    </tr>\n  </thead>\n  <tbody>\n    <tr>\n      <th>0</th>\n      <td>1</td>\n    </tr>\n    <tr>\n      <th>1</th>\n      <td>1</td>\n    </tr>\n    <tr>\n      <th>2</th>\n      <td>2</td>\n    </tr>\n    <tr>\n      <th>3</th>\n      <td>1</td>\n    </tr>\n    <tr>\n      <th>4</th>\n      <td>3</td>\n    </tr>\n  </tbody>\n</table>\n</div>"
     },
     "execution_count": 49,
     "metadata": {},
     "output_type": "execute_result"
    }
   ],
   "source": [
    "TransactionsFirstDigit = pd.DataFrame(int(x / pow(10, math.floor(math.log10(x)))) for x in df_transactions.Value[df_transactions.Value > 100])\n",
    "TransactionsFirstDigit.head()"
   ],
   "metadata": {
    "collapsed": false,
    "ExecuteTime": {
     "end_time": "2023-11-06T09:03:32.257723Z",
     "start_time": "2023-11-06T09:03:30.377196Z"
    }
   },
   "id": "d8c2f1be5fe24a50"
  },
  {
   "cell_type": "code",
   "execution_count": 50,
   "outputs": [
    {
     "data": {
      "text/plain": "   count\n0       \n1   22.0\n2    6.0\n3    4.0\n4    4.0\n5   12.0\n6    8.0\n7    2.0\n8    4.0\n9    0.0",
      "text/html": "<div>\n<style scoped>\n    .dataframe tbody tr th:only-of-type {\n        vertical-align: middle;\n    }\n\n    .dataframe tbody tr th {\n        vertical-align: top;\n    }\n\n    .dataframe thead th {\n        text-align: right;\n    }\n</style>\n<table border=\"1\" class=\"dataframe\">\n  <thead>\n    <tr style=\"text-align: right;\">\n      <th></th>\n      <th>count</th>\n    </tr>\n    <tr>\n      <th>0</th>\n      <th></th>\n    </tr>\n  </thead>\n  <tbody>\n    <tr>\n      <th>1</th>\n      <td>22.0</td>\n    </tr>\n    <tr>\n      <th>2</th>\n      <td>6.0</td>\n    </tr>\n    <tr>\n      <th>3</th>\n      <td>4.0</td>\n    </tr>\n    <tr>\n      <th>4</th>\n      <td>4.0</td>\n    </tr>\n    <tr>\n      <th>5</th>\n      <td>12.0</td>\n    </tr>\n    <tr>\n      <th>6</th>\n      <td>8.0</td>\n    </tr>\n    <tr>\n      <th>7</th>\n      <td>2.0</td>\n    </tr>\n    <tr>\n      <th>8</th>\n      <td>4.0</td>\n    </tr>\n    <tr>\n      <th>9</th>\n      <td>0.0</td>\n    </tr>\n  </tbody>\n</table>\n</div>"
     },
     "execution_count": 50,
     "metadata": {},
     "output_type": "execute_result"
    }
   ],
   "source": [
    "H_TransactionsFirstDigit = pd.DataFrame(TransactionsFirstDigit.value_counts().sort_index())\n",
    "H_TransactionsFirstDigit.loc[9,] = 0\n",
    "\n",
    "H_TransactionsFirstDigit"
   ],
   "metadata": {
    "collapsed": false,
    "ExecuteTime": {
     "end_time": "2023-11-06T09:03:32.258178Z",
     "start_time": "2023-11-06T09:03:30.377680Z"
    }
   },
   "id": "4dcf4977954f3965"
  },
  {
   "cell_type": "code",
   "execution_count": 51,
   "outputs": [
    {
     "data": {
      "text/plain": "[18.663859731166834,\n 10.917658061452236,\n 7.746201669714596,\n 6.008420806499498,\n 4.909237254952739,\n 4.15070095709802,\n 3.595500712616577,\n 3.17145639173764,\n 2.8369644147618587]"
     },
     "execution_count": 51,
     "metadata": {},
     "output_type": "execute_result"
    }
   ],
   "source": [
    "Probs = []\n",
    "\n",
    "for x in numbers:\n",
    "    Probs.append(math.log10(1 + 1/x))\n",
    "for i in range(0, len(Probs)):\n",
    "    Probs[i] = Probs[i] * len(TransactionsFirstDigit)\n",
    "\n",
    "Probs"
   ],
   "metadata": {
    "collapsed": false,
    "ExecuteTime": {
     "end_time": "2023-11-06T09:03:32.258560Z",
     "start_time": "2023-11-06T09:03:30.377958Z"
    }
   },
   "id": "f3070a171a5a352e"
  },
  {
   "cell_type": "code",
   "execution_count": 52,
   "outputs": [
    {
     "data": {
      "text/plain": "Power_divergenceResult(statistic=22.867382781613838, pvalue=0.0035387498663053355)"
     },
     "execution_count": 52,
     "metadata": {},
     "output_type": "execute_result"
    }
   ],
   "source": [
    "chisquare(f_obs=H_TransactionsFirstDigit[\"count\"], f_exp=Probs)"
   ],
   "metadata": {
    "collapsed": false,
    "ExecuteTime": {
     "end_time": "2023-11-06T09:03:32.259122Z",
     "start_time": "2023-11-06T09:03:30.378566Z"
    }
   },
   "id": "750f1a68284f790"
  }
 ],
 "metadata": {
  "kernelspec": {
   "display_name": "Python 3",
   "language": "python",
   "name": "python3"
  },
  "language_info": {
   "codemirror_mode": {
    "name": "ipython",
    "version": 2
   },
   "file_extension": ".py",
   "mimetype": "text/x-python",
   "name": "python",
   "nbconvert_exporter": "python",
   "pygments_lexer": "ipython2",
   "version": "2.7.6"
  }
 },
 "nbformat": 4,
 "nbformat_minor": 5
}
