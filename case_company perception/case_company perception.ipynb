{
 "cells": [
  {
   "cell_type": "markdown",
   "source": [
    "## Data understanding"
   ],
   "metadata": {
    "collapsed": false
   },
   "id": "13ddb27b70f178c6"
  },
  {
   "cell_type": "markdown",
   "source": [
    "The dataset contains information about the date, the used device and the twitter name, which are not included further. The goal is to create a classifier. We use pre-labeled tweets classified as either `negative` (= 0), `neutral` (= 2), or `positive` (= 4). "
   ],
   "metadata": {
    "collapsed": false
   },
   "id": "f85f5ebf20859493"
  },
  {
   "cell_type": "markdown",
   "source": [
    "### Data import"
   ],
   "metadata": {
    "collapsed": false
   },
   "id": "eb864988668a5cea"
  },
  {
   "cell_type": "code",
   "execution_count": 26,
   "outputs": [
    {
     "data": {
      "text/plain": "   0  1                             2        3         4  \\\n0  4  3  Mon May 11 03:17:40 UTC 2009  kindle2    tpryan   \n1  4  4  Mon May 11 03:18:03 UTC 2009  kindle2    vcu451   \n2  4  5  Mon May 11 03:18:54 UTC 2009  kindle2    chadfu   \n3  4  6  Mon May 11 03:19:04 UTC 2009  kindle2     SIX15   \n4  4  7  Mon May 11 03:21:41 UTC 2009  kindle2  yamarama   \n\n                                                   5  \n0  @stellargirl I loooooooovvvvvveee my Kindle2. ...  \n1  Reading my kindle2...  Love it... Lee childs i...  \n2  Ok, first assesment of the #kindle2 ...it fuck...  \n3  @kenburbary You'll love your Kindle2. I've had...  \n4  @mikefish  Fair enough. But i have the Kindle2...  ",
      "text/html": "<div>\n<style scoped>\n    .dataframe tbody tr th:only-of-type {\n        vertical-align: middle;\n    }\n\n    .dataframe tbody tr th {\n        vertical-align: top;\n    }\n\n    .dataframe thead th {\n        text-align: right;\n    }\n</style>\n<table border=\"1\" class=\"dataframe\">\n  <thead>\n    <tr style=\"text-align: right;\">\n      <th></th>\n      <th>0</th>\n      <th>1</th>\n      <th>2</th>\n      <th>3</th>\n      <th>4</th>\n      <th>5</th>\n    </tr>\n  </thead>\n  <tbody>\n    <tr>\n      <th>0</th>\n      <td>4</td>\n      <td>3</td>\n      <td>Mon May 11 03:17:40 UTC 2009</td>\n      <td>kindle2</td>\n      <td>tpryan</td>\n      <td>@stellargirl I loooooooovvvvvveee my Kindle2. ...</td>\n    </tr>\n    <tr>\n      <th>1</th>\n      <td>4</td>\n      <td>4</td>\n      <td>Mon May 11 03:18:03 UTC 2009</td>\n      <td>kindle2</td>\n      <td>vcu451</td>\n      <td>Reading my kindle2...  Love it... Lee childs i...</td>\n    </tr>\n    <tr>\n      <th>2</th>\n      <td>4</td>\n      <td>5</td>\n      <td>Mon May 11 03:18:54 UTC 2009</td>\n      <td>kindle2</td>\n      <td>chadfu</td>\n      <td>Ok, first assesment of the #kindle2 ...it fuck...</td>\n    </tr>\n    <tr>\n      <th>3</th>\n      <td>4</td>\n      <td>6</td>\n      <td>Mon May 11 03:19:04 UTC 2009</td>\n      <td>kindle2</td>\n      <td>SIX15</td>\n      <td>@kenburbary You'll love your Kindle2. I've had...</td>\n    </tr>\n    <tr>\n      <th>4</th>\n      <td>4</td>\n      <td>7</td>\n      <td>Mon May 11 03:21:41 UTC 2009</td>\n      <td>kindle2</td>\n      <td>yamarama</td>\n      <td>@mikefish  Fair enough. But i have the Kindle2...</td>\n    </tr>\n  </tbody>\n</table>\n</div>"
     },
     "execution_count": 26,
     "metadata": {},
     "output_type": "execute_result"
    }
   ],
   "source": [
    "import pandas as pd\n",
    "\n",
    "encoding_type = \"latin-1\" # required for text encoding\n",
    "\n",
    "df_train = pd.read_csv(\"case_company perception_data/case4_train.csv\", header=None, encoding=encoding_type)\n",
    "df_test = pd.read_csv(\"case_company perception_data/case4_test.csv\", header=None)\n",
    "df_test.head()"
   ],
   "metadata": {
    "collapsed": false,
    "ExecuteTime": {
     "end_time": "2023-12-27T18:32:42.081414Z",
     "start_time": "2023-12-27T18:32:38.036317Z"
    }
   },
   "id": "af011b9d571584fc"
  },
  {
   "cell_type": "code",
   "execution_count": 27,
   "outputs": [
    {
     "name": "stdout",
     "output_type": "stream",
     "text": [
      "<class 'pandas.core.frame.DataFrame'>\n",
      "RangeIndex: 1600000 entries, 0 to 1599999\n",
      "Data columns (total 6 columns):\n",
      " #   Column  Non-Null Count    Dtype \n",
      "---  ------  --------------    ----- \n",
      " 0   0       1600000 non-null  int64 \n",
      " 1   1       1600000 non-null  int64 \n",
      " 2   2       1600000 non-null  object\n",
      " 3   3       1600000 non-null  object\n",
      " 4   4       1600000 non-null  object\n",
      " 5   5       1600000 non-null  object\n",
      "dtypes: int64(2), object(4)\n",
      "memory usage: 73.2+ MB\n"
     ]
    }
   ],
   "source": [
    "df_train.info()"
   ],
   "metadata": {
    "collapsed": false,
    "ExecuteTime": {
     "end_time": "2023-12-27T18:32:42.445479Z",
     "start_time": "2023-12-27T18:32:42.077893Z"
    }
   },
   "id": "ba47470a4513bfb2"
  },
  {
   "cell_type": "markdown",
   "source": [
    "The imported data set does not contain any column labels! Only the columns with the index 0 and 5 are of interest for training the model. These contain the classification and the associated tweet. So the columns are renamed according to the corresponding variables."
   ],
   "metadata": {
    "collapsed": false
   },
   "id": "b723b3ad878ba072"
  },
  {
   "cell_type": "code",
   "execution_count": 28,
   "outputs": [
    {
     "data": {
      "text/plain": "   labels  1                             2        3         4  \\\n0       4  3  Mon May 11 03:17:40 UTC 2009  kindle2    tpryan   \n1       4  4  Mon May 11 03:18:03 UTC 2009  kindle2    vcu451   \n2       4  5  Mon May 11 03:18:54 UTC 2009  kindle2    chadfu   \n3       4  6  Mon May 11 03:19:04 UTC 2009  kindle2     SIX15   \n4       4  7  Mon May 11 03:21:41 UTC 2009  kindle2  yamarama   \n\n                                                text  \n0  @stellargirl I loooooooovvvvvveee my Kindle2. ...  \n1  Reading my kindle2...  Love it... Lee childs i...  \n2  Ok, first assesment of the #kindle2 ...it fuck...  \n3  @kenburbary You'll love your Kindle2. I've had...  \n4  @mikefish  Fair enough. But i have the Kindle2...  ",
      "text/html": "<div>\n<style scoped>\n    .dataframe tbody tr th:only-of-type {\n        vertical-align: middle;\n    }\n\n    .dataframe tbody tr th {\n        vertical-align: top;\n    }\n\n    .dataframe thead th {\n        text-align: right;\n    }\n</style>\n<table border=\"1\" class=\"dataframe\">\n  <thead>\n    <tr style=\"text-align: right;\">\n      <th></th>\n      <th>labels</th>\n      <th>1</th>\n      <th>2</th>\n      <th>3</th>\n      <th>4</th>\n      <th>text</th>\n    </tr>\n  </thead>\n  <tbody>\n    <tr>\n      <th>0</th>\n      <td>4</td>\n      <td>3</td>\n      <td>Mon May 11 03:17:40 UTC 2009</td>\n      <td>kindle2</td>\n      <td>tpryan</td>\n      <td>@stellargirl I loooooooovvvvvveee my Kindle2. ...</td>\n    </tr>\n    <tr>\n      <th>1</th>\n      <td>4</td>\n      <td>4</td>\n      <td>Mon May 11 03:18:03 UTC 2009</td>\n      <td>kindle2</td>\n      <td>vcu451</td>\n      <td>Reading my kindle2...  Love it... Lee childs i...</td>\n    </tr>\n    <tr>\n      <th>2</th>\n      <td>4</td>\n      <td>5</td>\n      <td>Mon May 11 03:18:54 UTC 2009</td>\n      <td>kindle2</td>\n      <td>chadfu</td>\n      <td>Ok, first assesment of the #kindle2 ...it fuck...</td>\n    </tr>\n    <tr>\n      <th>3</th>\n      <td>4</td>\n      <td>6</td>\n      <td>Mon May 11 03:19:04 UTC 2009</td>\n      <td>kindle2</td>\n      <td>SIX15</td>\n      <td>@kenburbary You'll love your Kindle2. I've had...</td>\n    </tr>\n    <tr>\n      <th>4</th>\n      <td>4</td>\n      <td>7</td>\n      <td>Mon May 11 03:21:41 UTC 2009</td>\n      <td>kindle2</td>\n      <td>yamarama</td>\n      <td>@mikefish  Fair enough. But i have the Kindle2...</td>\n    </tr>\n  </tbody>\n</table>\n</div>"
     },
     "execution_count": 28,
     "metadata": {},
     "output_type": "execute_result"
    }
   ],
   "source": [
    "df_train = df_train.rename(columns={0: \"labels\", 5: \"text\"})\n",
    "df_test = df_test.rename(columns={0: \"labels\", 5: \"text\"})\n",
    "\n",
    "df_test.head()"
   ],
   "metadata": {
    "collapsed": false,
    "ExecuteTime": {
     "end_time": "2023-12-27T18:32:42.659521Z",
     "start_time": "2023-12-27T18:32:42.442818Z"
    }
   },
   "id": "92f9f7e1a83d06cd"
  },
  {
   "cell_type": "markdown",
   "source": [
    "With 1,600,000 tweets, the `df_train` dataset is too large for modeling purposes. To save time, only 5,000 observations classified as `negative` (= 0) and 5,000 classified as `positive` (= 4) are used to reduce the computation time."
   ],
   "metadata": {
    "collapsed": false
   },
   "id": "12c839cc1facaf77"
  },
  {
   "cell_type": "code",
   "execution_count": 29,
   "outputs": [
    {
     "data": {
      "text/plain": "   labels           1                             2         3  \\\n0       0  1467810369  Mon Apr 06 22:19:45 PDT 2009  NO_QUERY   \n1       0  1467810672  Mon Apr 06 22:19:49 PDT 2009  NO_QUERY   \n2       0  1467810917  Mon Apr 06 22:19:53 PDT 2009  NO_QUERY   \n3       0  1467811184  Mon Apr 06 22:19:57 PDT 2009  NO_QUERY   \n4       0  1467811193  Mon Apr 06 22:19:57 PDT 2009  NO_QUERY   \n\n                 4                                               text  \n0  _TheSpecialOne_  @switchfoot http://twitpic.com/2y1zl - Awww, t...  \n1    scotthamilton  is upset that he can't update his Facebook by ...  \n2         mattycus  @Kenichan I dived many times for the ball. Man...  \n3          ElleCTF    my whole body feels itchy and like its on fire   \n4           Karoli  @nationwideclass no, it's not behaving at all....  ",
      "text/html": "<div>\n<style scoped>\n    .dataframe tbody tr th:only-of-type {\n        vertical-align: middle;\n    }\n\n    .dataframe tbody tr th {\n        vertical-align: top;\n    }\n\n    .dataframe thead th {\n        text-align: right;\n    }\n</style>\n<table border=\"1\" class=\"dataframe\">\n  <thead>\n    <tr style=\"text-align: right;\">\n      <th></th>\n      <th>labels</th>\n      <th>1</th>\n      <th>2</th>\n      <th>3</th>\n      <th>4</th>\n      <th>text</th>\n    </tr>\n  </thead>\n  <tbody>\n    <tr>\n      <th>0</th>\n      <td>0</td>\n      <td>1467810369</td>\n      <td>Mon Apr 06 22:19:45 PDT 2009</td>\n      <td>NO_QUERY</td>\n      <td>_TheSpecialOne_</td>\n      <td>@switchfoot http://twitpic.com/2y1zl - Awww, t...</td>\n    </tr>\n    <tr>\n      <th>1</th>\n      <td>0</td>\n      <td>1467810672</td>\n      <td>Mon Apr 06 22:19:49 PDT 2009</td>\n      <td>NO_QUERY</td>\n      <td>scotthamilton</td>\n      <td>is upset that he can't update his Facebook by ...</td>\n    </tr>\n    <tr>\n      <th>2</th>\n      <td>0</td>\n      <td>1467810917</td>\n      <td>Mon Apr 06 22:19:53 PDT 2009</td>\n      <td>NO_QUERY</td>\n      <td>mattycus</td>\n      <td>@Kenichan I dived many times for the ball. Man...</td>\n    </tr>\n    <tr>\n      <th>3</th>\n      <td>0</td>\n      <td>1467811184</td>\n      <td>Mon Apr 06 22:19:57 PDT 2009</td>\n      <td>NO_QUERY</td>\n      <td>ElleCTF</td>\n      <td>my whole body feels itchy and like its on fire</td>\n    </tr>\n    <tr>\n      <th>4</th>\n      <td>0</td>\n      <td>1467811193</td>\n      <td>Mon Apr 06 22:19:57 PDT 2009</td>\n      <td>NO_QUERY</td>\n      <td>Karoli</td>\n      <td>@nationwideclass no, it's not behaving at all....</td>\n    </tr>\n  </tbody>\n</table>\n</div>"
     },
     "execution_count": 29,
     "metadata": {},
     "output_type": "execute_result"
    }
   ],
   "source": [
    "mask_0 = df_train[\"labels\"] == 0\n",
    "mask_4 = df_train[\"labels\"] == 4\n",
    "\n",
    "# Use boolean indexing to filter the data frame\n",
    "filtered_df_0 = df_train[mask_0].head(5000)\n",
    "filtered_df_4 = df_train[mask_4].head(5000)\n",
    "\n",
    "df_train = pd.concat([filtered_df_0, filtered_df_4], ignore_index=True)\n",
    "df_train.head()"
   ],
   "metadata": {
    "collapsed": false,
    "ExecuteTime": {
     "end_time": "2023-12-27T18:32:43.400663Z",
     "start_time": "2023-12-27T18:32:42.657225Z"
    }
   },
   "id": "fb4f70f57c967a69"
  },
  {
   "cell_type": "markdown",
   "source": [
    "`df_test` contains some observations that are classified as `neutral`, while `df_train` contains only observations that are classified as `positive` or `negative`. To keep things simple, we will focus only on these two labels and drop the `neutral` observations from the `df_test` dataset."
   ],
   "metadata": {
    "collapsed": false
   },
   "id": "f746129c729200b6"
  },
  {
   "cell_type": "code",
   "execution_count": 30,
   "outputs": [
    {
     "data": {
      "text/plain": "array([4, 0, 2])"
     },
     "execution_count": 30,
     "metadata": {},
     "output_type": "execute_result"
    }
   ],
   "source": [
    "df_test[\"labels\"].unique()"
   ],
   "metadata": {
    "collapsed": false,
    "ExecuteTime": {
     "end_time": "2023-12-27T18:32:43.401352Z",
     "start_time": "2023-12-27T18:32:43.379355Z"
    }
   },
   "id": "8fda748fcaeda795"
  },
  {
   "cell_type": "code",
   "execution_count": 31,
   "outputs": [
    {
     "data": {
      "text/plain": "array([4, 0])"
     },
     "execution_count": 31,
     "metadata": {},
     "output_type": "execute_result"
    }
   ],
   "source": [
    "df_test = df_test[df_test[\"labels\"] != 2].reset_index(drop=True)\n",
    "df_test[\"labels\"].unique()"
   ],
   "metadata": {
    "collapsed": false,
    "ExecuteTime": {
     "end_time": "2023-12-27T18:32:43.402088Z",
     "start_time": "2023-12-27T18:32:43.391231Z"
    }
   },
   "id": "23eb559789fe9d87"
  },
  {
   "cell_type": "markdown",
   "source": [
    "## Modeling and evaluation I"
   ],
   "metadata": {
    "collapsed": false
   },
   "id": "da92290c3372b2dd"
  },
  {
   "cell_type": "code",
   "execution_count": 32,
   "outputs": [],
   "source": [
    "from sklearn.preprocessing import LabelEncoder\n",
    "from tensorflow.keras.models import Sequential\n",
    "from tensorflow.keras.layers import Dense\n",
    "\n",
    "import spacy\n",
    "nlp = spacy.load(\"en_core_web_md\") # load english model"
   ],
   "metadata": {
    "collapsed": false,
    "ExecuteTime": {
     "end_time": "2023-12-27T18:32:45.030872Z",
     "start_time": "2023-12-27T18:32:43.397337Z"
    }
   },
   "id": "5d70b794e624ad1c"
  },
  {
   "cell_type": "code",
   "execution_count": 33,
   "outputs": [],
   "source": [
    "help_text_train_list = []\n",
    "\n",
    "for i in range(len(df_train)):\n",
    "    help_text_train = nlp(df_train.loc[i, \"text\"]) # creating embeddings for each tweet\n",
    "    help_text_train_list.append(help_text_train.vector)"
   ],
   "metadata": {
    "collapsed": false,
    "ExecuteTime": {
     "end_time": "2023-12-27T18:34:01.743270Z",
     "start_time": "2023-12-27T18:32:45.031167Z"
    }
   },
   "id": "69db098b262d8536"
  },
  {
   "cell_type": "code",
   "execution_count": 34,
   "outputs": [],
   "source": [
    "help_text_test_list = []\n",
    "for i in range(len(df_test)):\n",
    "    help_text_test = nlp(df_test.loc[i, 'text'])  # creating embeddings for each tweet\n",
    "    help_text_test_list.append(help_text_test.vector)"
   ],
   "metadata": {
    "collapsed": false,
    "ExecuteTime": {
     "end_time": "2023-12-27T18:34:04.541435Z",
     "start_time": "2023-12-27T18:34:01.748995Z"
    }
   },
   "id": "24605016b1096464"
  },
  {
   "cell_type": "markdown",
   "source": [
    "We store the embeddings in a dataframe, which will help us set up our model. Each row of the newly defined dataframe consists of the embeddings of a single tweet."
   ],
   "metadata": {
    "collapsed": false
   },
   "id": "659f15bdc36dc0c"
  },
  {
   "cell_type": "code",
   "execution_count": 35,
   "outputs": [
    {
     "data": {
      "text/plain": "        0         1         2         3         4         5         6    \\\n0 -1.150343  1.982271 -2.532449 -0.122276  2.759819  0.937225  0.976607   \n1 -0.138120  1.720601 -2.325878 -1.046416  1.455242  0.162790  0.733155   \n2 -2.365839  0.494969 -2.006724  1.103424  2.779244  1.496742  0.609426   \n3 -0.317766  0.726643 -4.786879 -0.841273  4.377829 -0.636914 -0.691929   \n4  1.086641  1.551972 -3.302518 -2.613626 -1.569944  1.951150 -0.059932   \n\n        7         8         9    ...       290       291       292       293  \\\n0  2.905370 -0.295080 -0.396499  ...  0.339731  0.541458 -0.103209 -0.108209   \n1  3.236209 -0.717819 -1.421322  ...  1.035674 -0.963529  1.211805 -0.954708   \n2  4.192228 -1.191918 -0.154026  ... -0.365396  1.027518 -0.089048  0.963603   \n3  5.463463  0.053415  0.831540  ... -0.692915 -0.431903  1.351665 -1.402728   \n4  4.777886 -3.323206  2.323077  ...  2.161126  0.397071  4.017306 -3.820434   \n\n        294       295       296       297       298       299  \n0 -2.091317  0.751077  0.727215  1.228262 -1.930907  1.186035  \n1 -1.140830  0.726342  1.421039 -0.456640 -3.134573  1.992079  \n2 -0.949952  2.963610 -0.965779 -1.571609 -2.333352  0.872322  \n3 -2.742922 -0.661380  1.397619  0.050472 -5.147802 -0.659592  \n4 -1.991124  0.048167  0.402811  2.411552 -3.352856  2.692743  \n\n[5 rows x 300 columns]",
      "text/html": "<div>\n<style scoped>\n    .dataframe tbody tr th:only-of-type {\n        vertical-align: middle;\n    }\n\n    .dataframe tbody tr th {\n        vertical-align: top;\n    }\n\n    .dataframe thead th {\n        text-align: right;\n    }\n</style>\n<table border=\"1\" class=\"dataframe\">\n  <thead>\n    <tr style=\"text-align: right;\">\n      <th></th>\n      <th>0</th>\n      <th>1</th>\n      <th>2</th>\n      <th>3</th>\n      <th>4</th>\n      <th>5</th>\n      <th>6</th>\n      <th>7</th>\n      <th>8</th>\n      <th>9</th>\n      <th>...</th>\n      <th>290</th>\n      <th>291</th>\n      <th>292</th>\n      <th>293</th>\n      <th>294</th>\n      <th>295</th>\n      <th>296</th>\n      <th>297</th>\n      <th>298</th>\n      <th>299</th>\n    </tr>\n  </thead>\n  <tbody>\n    <tr>\n      <th>0</th>\n      <td>-1.150343</td>\n      <td>1.982271</td>\n      <td>-2.532449</td>\n      <td>-0.122276</td>\n      <td>2.759819</td>\n      <td>0.937225</td>\n      <td>0.976607</td>\n      <td>2.905370</td>\n      <td>-0.295080</td>\n      <td>-0.396499</td>\n      <td>...</td>\n      <td>0.339731</td>\n      <td>0.541458</td>\n      <td>-0.103209</td>\n      <td>-0.108209</td>\n      <td>-2.091317</td>\n      <td>0.751077</td>\n      <td>0.727215</td>\n      <td>1.228262</td>\n      <td>-1.930907</td>\n      <td>1.186035</td>\n    </tr>\n    <tr>\n      <th>1</th>\n      <td>-0.138120</td>\n      <td>1.720601</td>\n      <td>-2.325878</td>\n      <td>-1.046416</td>\n      <td>1.455242</td>\n      <td>0.162790</td>\n      <td>0.733155</td>\n      <td>3.236209</td>\n      <td>-0.717819</td>\n      <td>-1.421322</td>\n      <td>...</td>\n      <td>1.035674</td>\n      <td>-0.963529</td>\n      <td>1.211805</td>\n      <td>-0.954708</td>\n      <td>-1.140830</td>\n      <td>0.726342</td>\n      <td>1.421039</td>\n      <td>-0.456640</td>\n      <td>-3.134573</td>\n      <td>1.992079</td>\n    </tr>\n    <tr>\n      <th>2</th>\n      <td>-2.365839</td>\n      <td>0.494969</td>\n      <td>-2.006724</td>\n      <td>1.103424</td>\n      <td>2.779244</td>\n      <td>1.496742</td>\n      <td>0.609426</td>\n      <td>4.192228</td>\n      <td>-1.191918</td>\n      <td>-0.154026</td>\n      <td>...</td>\n      <td>-0.365396</td>\n      <td>1.027518</td>\n      <td>-0.089048</td>\n      <td>0.963603</td>\n      <td>-0.949952</td>\n      <td>2.963610</td>\n      <td>-0.965779</td>\n      <td>-1.571609</td>\n      <td>-2.333352</td>\n      <td>0.872322</td>\n    </tr>\n    <tr>\n      <th>3</th>\n      <td>-0.317766</td>\n      <td>0.726643</td>\n      <td>-4.786879</td>\n      <td>-0.841273</td>\n      <td>4.377829</td>\n      <td>-0.636914</td>\n      <td>-0.691929</td>\n      <td>5.463463</td>\n      <td>0.053415</td>\n      <td>0.831540</td>\n      <td>...</td>\n      <td>-0.692915</td>\n      <td>-0.431903</td>\n      <td>1.351665</td>\n      <td>-1.402728</td>\n      <td>-2.742922</td>\n      <td>-0.661380</td>\n      <td>1.397619</td>\n      <td>0.050472</td>\n      <td>-5.147802</td>\n      <td>-0.659592</td>\n    </tr>\n    <tr>\n      <th>4</th>\n      <td>1.086641</td>\n      <td>1.551972</td>\n      <td>-3.302518</td>\n      <td>-2.613626</td>\n      <td>-1.569944</td>\n      <td>1.951150</td>\n      <td>-0.059932</td>\n      <td>4.777886</td>\n      <td>-3.323206</td>\n      <td>2.323077</td>\n      <td>...</td>\n      <td>2.161126</td>\n      <td>0.397071</td>\n      <td>4.017306</td>\n      <td>-3.820434</td>\n      <td>-1.991124</td>\n      <td>0.048167</td>\n      <td>0.402811</td>\n      <td>2.411552</td>\n      <td>-3.352856</td>\n      <td>2.692743</td>\n    </tr>\n  </tbody>\n</table>\n<p>5 rows × 300 columns</p>\n</div>"
     },
     "execution_count": 35,
     "metadata": {},
     "output_type": "execute_result"
    }
   ],
   "source": [
    "X_train = pd.DataFrame(help_text_train_list)\n",
    "X_test = pd.DataFrame(help_text_test_list)\n",
    "\n",
    "X_train.head()"
   ],
   "metadata": {
    "collapsed": false,
    "ExecuteTime": {
     "end_time": "2023-12-27T18:34:05.704775Z",
     "start_time": "2023-12-27T18:34:04.541266Z"
    }
   },
   "id": "5a5b6196e9ce363b"
  },
  {
   "cell_type": "markdown",
   "source": [
    "We utilize the `LabelEncoder()` function to transform our data into a range between 0 (`negative`) and 1 (`positive`)."
   ],
   "metadata": {
    "collapsed": false
   },
   "id": "c5a477daa78aa3a1"
  },
  {
   "cell_type": "code",
   "execution_count": 36,
   "outputs": [
    {
     "data": {
      "text/plain": "array([0, 0, 0, ..., 1, 1, 1])"
     },
     "execution_count": 36,
     "metadata": {},
     "output_type": "execute_result"
    }
   ],
   "source": [
    "# Preprocess the label data\n",
    "\n",
    "label_encoder = LabelEncoder()\n",
    "\n",
    "y_train = label_encoder.fit_transform(df_train[\"labels\"])\n",
    "y_test = label_encoder.fit_transform(df_test[\"labels\"])\n",
    "\n",
    "y_train"
   ],
   "metadata": {
    "collapsed": false,
    "ExecuteTime": {
     "end_time": "2023-12-27T18:34:05.749345Z",
     "start_time": "2023-12-27T18:34:05.741087Z"
    }
   },
   "id": "76b3666e1d4c48e6"
  },
  {
   "cell_type": "markdown",
   "source": [
    "We now create our sequential Neural Network model:"
   ],
   "metadata": {
    "collapsed": false
   },
   "id": "c23946f1a14542d9"
  },
  {
   "cell_type": "code",
   "execution_count": 37,
   "outputs": [],
   "source": [
    "# Create a Sequential model\n",
    "model = Sequential()\n",
    "\n",
    "# Add a dense layer with 64 neurons, ReLU activation function, and input dimension based on X_train\n",
    "model.add(Dense(64, activation=\"relu\", input_dim=X_train.shape[1]))\n",
    "\n",
    "# Add another dense layer with 1 neuron and sigmoid activation function for binary classification\n",
    "model.add(Dense(1, activation=\"sigmoid\"))"
   ],
   "metadata": {
    "collapsed": false,
    "ExecuteTime": {
     "end_time": "2023-12-27T18:34:05.793931Z",
     "start_time": "2023-12-27T18:34:05.741810Z"
    }
   },
   "id": "828082b6c846dab7"
  },
  {
   "cell_type": "code",
   "execution_count": 38,
   "outputs": [],
   "source": [
    "# Compile the model\n",
    "\n",
    "# Use the Adam optimizer, binary crossentropy loss (common for binary classification), and accuracy as a metric\n",
    "model.compile(optimizer=\"adam\", loss=\"binary_crossentropy\", metrics=[\"accuracy\"])"
   ],
   "metadata": {
    "collapsed": false,
    "ExecuteTime": {
     "end_time": "2023-12-27T18:34:05.794947Z",
     "start_time": "2023-12-27T18:34:05.791729Z"
    }
   },
   "id": "704a53bbfbd9ad55"
  },
  {
   "cell_type": "code",
   "execution_count": 39,
   "outputs": [
    {
     "name": "stdout",
     "output_type": "stream",
     "text": [
      "Epoch 1/10\n",
      "250/250 [==============================] - 1s 2ms/step - loss: 0.6124 - accuracy: 0.6816 - val_loss: 0.8609 - val_accuracy: 0.4860\n",
      "Epoch 2/10\n",
      "250/250 [==============================] - 0s 1ms/step - loss: 0.5465 - accuracy: 0.7256 - val_loss: 0.7364 - val_accuracy: 0.5525\n",
      "Epoch 3/10\n",
      "250/250 [==============================] - 0s 1ms/step - loss: 0.5194 - accuracy: 0.7429 - val_loss: 0.9227 - val_accuracy: 0.4580\n",
      "Epoch 4/10\n",
      "250/250 [==============================] - 0s 1ms/step - loss: 0.4983 - accuracy: 0.7531 - val_loss: 0.6014 - val_accuracy: 0.6800\n",
      "Epoch 5/10\n",
      "250/250 [==============================] - 0s 1ms/step - loss: 0.4872 - accuracy: 0.7638 - val_loss: 1.0590 - val_accuracy: 0.3910\n",
      "Epoch 6/10\n",
      "250/250 [==============================] - 0s 2ms/step - loss: 0.4703 - accuracy: 0.7781 - val_loss: 1.1964 - val_accuracy: 0.3500\n",
      "Epoch 7/10\n",
      "250/250 [==============================] - 0s 1ms/step - loss: 0.4629 - accuracy: 0.7814 - val_loss: 0.7520 - val_accuracy: 0.6075\n",
      "Epoch 8/10\n",
      "250/250 [==============================] - 0s 2ms/step - loss: 0.4484 - accuracy: 0.7831 - val_loss: 0.5937 - val_accuracy: 0.6880\n",
      "Epoch 9/10\n",
      "250/250 [==============================] - 0s 2ms/step - loss: 0.4391 - accuracy: 0.7895 - val_loss: 0.8929 - val_accuracy: 0.4900\n",
      "Epoch 10/10\n",
      "250/250 [==============================] - 1s 4ms/step - loss: 0.4257 - accuracy: 0.8029 - val_loss: 0.9362 - val_accuracy: 0.5040\n"
     ]
    },
    {
     "data": {
      "text/plain": "<keras.src.callbacks.History at 0x14a768c40>"
     },
     "execution_count": 39,
     "metadata": {},
     "output_type": "execute_result"
    }
   ],
   "source": [
    "# Train the model\n",
    "\n",
    "# X_train and y_train are the training data and labels\n",
    "# Use 10 epochs, a batch size of 32, and allocate 20% of the data for validation during training\n",
    "model.fit(X_train, y_train, epochs=10, batch_size=32, validation_split=0.2)"
   ],
   "metadata": {
    "collapsed": false,
    "ExecuteTime": {
     "end_time": "2023-12-27T18:34:11.006132Z",
     "start_time": "2023-12-27T18:34:05.794323Z"
    }
   },
   "id": "a6b71c7076874ff5"
  },
  {
   "cell_type": "code",
   "execution_count": 40,
   "outputs": [
    {
     "name": "stdout",
     "output_type": "stream",
     "text": [
      "12/12 [==============================] - 0s 1ms/step - loss: 0.5958 - accuracy: 0.6964\n",
      "Test Accuracy: 0.6963788270950317\n"
     ]
    }
   ],
   "source": [
    "# Evaluate the model\n",
    "\n",
    "accuracy = model.evaluate(X_test, y_test)[1]\n",
    "print(f\"Test Accuracy: {accuracy}\")"
   ],
   "metadata": {
    "collapsed": false,
    "ExecuteTime": {
     "end_time": "2023-12-27T18:34:11.113280Z",
     "start_time": "2023-12-27T18:34:11.007691Z"
    }
   },
   "id": "c1df02c82f0937c9"
  },
  {
   "cell_type": "markdown",
   "source": [
    "## Prediction"
   ],
   "metadata": {
    "collapsed": false
   },
   "id": "2adbfce7274ab523"
  },
  {
   "cell_type": "markdown",
   "source": [
    "Finally, the model can be used to classify new utterances into `negative` = 0 or `positive` = 1."
   ],
   "metadata": {
    "collapsed": false
   },
   "id": "a3976587920302b0"
  },
  {
   "cell_type": "code",
   "execution_count": 41,
   "outputs": [
    {
     "name": "stdout",
     "output_type": "stream",
     "text": [
      "1/1 [==============================] - 0s 44ms/step\n"
     ]
    },
    {
     "data": {
      "text/plain": "array([[0.99736106]], dtype=float32)"
     },
     "execution_count": 41,
     "metadata": {},
     "output_type": "execute_result"
    }
   ],
   "source": [
    "prediction = nlp(\"EEBDA is such a great course!\")\n",
    "model.predict(pd.DataFrame([prediction.vector]))"
   ],
   "metadata": {
    "collapsed": false,
    "ExecuteTime": {
     "end_time": "2023-12-27T18:34:11.230758Z",
     "start_time": "2023-12-27T18:34:11.112120Z"
    }
   },
   "id": "94845c46b6857ae1"
  }
 ],
 "metadata": {
  "kernelspec": {
   "display_name": "Python 3",
   "language": "python",
   "name": "python3"
  },
  "language_info": {
   "codemirror_mode": {
    "name": "ipython",
    "version": 2
   },
   "file_extension": ".py",
   "mimetype": "text/x-python",
   "name": "python",
   "nbconvert_exporter": "python",
   "pygments_lexer": "ipython2",
   "version": "2.7.6"
  }
 },
 "nbformat": 4,
 "nbformat_minor": 5
}
