{
 "cells": [
  {
   "cell_type": "markdown",
   "source": [
    "Natural Language Processing describes the translation of human language – in written or spoken form – into a format that machines can understand."
   ],
   "metadata": {
    "collapsed": false
   },
   "id": "1a2c531dc9454378"
  },
  {
   "cell_type": "markdown",
   "source": [
    "### Tokenization"
   ],
   "metadata": {
    "collapsed": false
   },
   "id": "462eddcf5bd892bd"
  },
  {
   "cell_type": "code",
   "execution_count": 4,
   "outputs": [
    {
     "name": "stdout",
     "output_type": "stream",
     "text": [
      "{'eebda': 1, 'is': 2, 'house': 3, 'fun': 4, 'a': 5, 'great': 6, 'course': 7, 'houses': 8}\n"
     ]
    }
   ],
   "source": [
    "from tensorflow.keras.preprocessing.text import Tokenizer\n",
    "\n",
    "sentences = [\n",
    "    \"EEBDA is fun!\",\n",
    "    \"EEBDA is a great course.\",\n",
    "    \"house\",\n",
    "    \"House\",\n",
    "    \"Houses\"]\n",
    "\n",
    "tokenizer = Tokenizer(num_words = 11) # the maximum number of words to keep, based on word frequency\n",
    "tokenizer.fit_on_texts(sentences)\n",
    "word_index = tokenizer.word_index # the words and the assigned integers are stored\n",
    "print(word_index)"
   ],
   "metadata": {
    "collapsed": false,
    "ExecuteTime": {
     "start_time": "2023-12-16T22:18:56.907696Z"
    }
   },
   "id": "6329bc310ed974dc"
  },
  {
   "cell_type": "markdown",
   "source": [
    "The more frequent words like “EEBDA” or “is” are assigned lower integers. Upper case letters are converted to lower case letters. Consequently, the words “house” and “House” are mapped as a single token (`“house”: 3`), which makes sense since each expression provide the same information content for subsequent model evaluations. Finally, it should be noted that “houses” is assigned to its own token. Thus, plural forms of words are not automatically assigned to the singular form."
   ],
   "metadata": {
    "collapsed": false
   },
   "id": "95d68c23e89115df"
  },
  {
   "cell_type": "markdown",
   "source": [
    "### Stemming and Lemmatization"
   ],
   "metadata": {
    "collapsed": false
   },
   "id": "62202890b2c0bddd"
  },
  {
   "cell_type": "markdown",
   "source": [
    "The word “House” would be created from the word “Houses” after the application of stemming methods. Lemmatization allows correct transfer to the root word by referring to a dictionary."
   ],
   "metadata": {
    "collapsed": false
   },
   "id": "68f46fbe24fbd7e"
  },
  {
   "cell_type": "code",
   "execution_count": 4,
   "outputs": [
    {
     "data": {
      "text/plain": "   Token   Base\n0  EEBDA  EEBDA\n1     is     be\n2     SO     so\n3   much   much\n4    fun    fun\n5      !      !",
      "text/html": "<div>\n<style scoped>\n    .dataframe tbody tr th:only-of-type {\n        vertical-align: middle;\n    }\n\n    .dataframe tbody tr th {\n        vertical-align: top;\n    }\n\n    .dataframe thead th {\n        text-align: right;\n    }\n</style>\n<table border=\"1\" class=\"dataframe\">\n  <thead>\n    <tr style=\"text-align: right;\">\n      <th></th>\n      <th>Token</th>\n      <th>Base</th>\n    </tr>\n  </thead>\n  <tbody>\n    <tr>\n      <th>0</th>\n      <td>EEBDA</td>\n      <td>EEBDA</td>\n    </tr>\n    <tr>\n      <th>1</th>\n      <td>is</td>\n      <td>be</td>\n    </tr>\n    <tr>\n      <th>2</th>\n      <td>SO</td>\n      <td>so</td>\n    </tr>\n    <tr>\n      <th>3</th>\n      <td>much</td>\n      <td>much</td>\n    </tr>\n    <tr>\n      <th>4</th>\n      <td>fun</td>\n      <td>fun</td>\n    </tr>\n    <tr>\n      <th>5</th>\n      <td>!</td>\n      <td>!</td>\n    </tr>\n  </tbody>\n</table>\n</div>"
     },
     "execution_count": 4,
     "metadata": {},
     "output_type": "execute_result"
    }
   ],
   "source": [
    "import spacy\n",
    "import pandas as pd\n",
    "\n",
    "# spacy.cli.download(\"en_core_web_md\")\n",
    "\n",
    "nlp = spacy.load(\"en_core_web_md\") # load english model\n",
    "\n",
    "document = nlp(\"EEBDA is SO much fun!\")\n",
    "\n",
    "pd.DataFrame({\"Token\": [word.text for word in document],\n",
    "              \"Base\": [word.lemma_ for word in document]})"
   ],
   "metadata": {
    "collapsed": false,
    "ExecuteTime": {
     "end_time": "2023-12-16T22:30:25.907704Z",
     "start_time": "2023-12-16T22:30:24.356737Z"
    }
   },
   "id": "fad1456e99a34931"
  },
  {
   "cell_type": "markdown",
   "source": [
    "### Word Embeddings"
   ],
   "metadata": {
    "collapsed": false
   },
   "id": "14e453b57dbbb5b5"
  },
  {
   "cell_type": "markdown",
   "source": [
    "Words are now mapped n-dimensionally (vectors), which allows the decomposition of single words."
   ],
   "metadata": {
    "collapsed": false
   },
   "id": "fa945e2acc23d03d"
  },
  {
   "cell_type": "code",
   "execution_count": 5,
   "outputs": [
    {
     "data": {
      "text/plain": "array([  1.233  ,   4.2963 ,  -7.9738 , -10.121  ,   1.8207 ,   1.4098 ,\n        -4.518  ,  -5.2261 ,  -0.29157,   0.95234], dtype=float32)"
     },
     "execution_count": 5,
     "metadata": {},
     "output_type": "execute_result"
    }
   ],
   "source": [
    "embed = nlp(\"dog\")\n",
    "    \n",
    "embed.vector[0:10] # show first 10 entries for embedding"
   ],
   "metadata": {
    "collapsed": false,
    "ExecuteTime": {
     "end_time": "2023-12-16T22:33:44.456475Z",
     "start_time": "2023-12-16T22:33:44.415541Z"
    }
   },
   "id": "294e815246c37267"
  },
  {
   "cell_type": "code",
   "execution_count": 6,
   "outputs": [
    {
     "data": {
      "text/plain": "0.8220816752553904"
     },
     "execution_count": 6,
     "metadata": {},
     "output_type": "execute_result"
    }
   ],
   "source": [
    "doc1 = nlp(\"dog\")\n",
    "doc2 = nlp(\"cat\")\n",
    "\n",
    "# Similarity of two words\n",
    "doc1.similarity(doc2)"
   ],
   "metadata": {
    "collapsed": false,
    "ExecuteTime": {
     "end_time": "2023-12-16T22:34:23.402446Z",
     "start_time": "2023-12-16T22:34:23.346628Z"
    }
   },
   "id": "c55fb42cae16f654"
  }
 ],
 "metadata": {
  "kernelspec": {
   "display_name": "Python 3",
   "language": "python",
   "name": "python3"
  },
  "language_info": {
   "codemirror_mode": {
    "name": "ipython",
    "version": 2
   },
   "file_extension": ".py",
   "mimetype": "text/x-python",
   "name": "python",
   "nbconvert_exporter": "python",
   "pygments_lexer": "ipython2",
   "version": "2.7.6"
  }
 },
 "nbformat": 4,
 "nbformat_minor": 5
}
